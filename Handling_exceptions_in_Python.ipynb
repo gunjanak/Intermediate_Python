{
  "nbformat": 4,
  "nbformat_minor": 0,
  "metadata": {
    "colab": {
      "provenance": [],
      "authorship_tag": "ABX9TyOijyxJN4oOBVjAhkScLlY9",
      "include_colab_link": true
    },
    "kernelspec": {
      "name": "python3",
      "display_name": "Python 3"
    },
    "language_info": {
      "name": "python"
    }
  },
  "cells": [
    {
      "cell_type": "markdown",
      "metadata": {
        "id": "view-in-github",
        "colab_type": "text"
      },
      "source": [
        "<a href=\"https://colab.research.google.com/github/gunjanak/Intermediate_Python/blob/main/Handling_exceptions_in_Python.ipynb\" target=\"_parent\"><img src=\"https://colab.research.google.com/assets/colab-badge.svg\" alt=\"Open In Colab\"/></a>"
      ]
    },
    {
      "cell_type": "markdown",
      "source": [
        "There are some situations in which runtime errors are likely to occur. \n",
        "\n",
        "Whenever we try to read a file or get input from a user, there is a chance that something unexpected will happen : the file may have been removed or deleted, and the user may enter the data which is not in right format.\n",
        "\n",
        "\n",
        "Good programmers should add safeguards to their programs so that common situations like this can be handled gracefully."
      ],
      "metadata": {
        "id": "Aik4TUVnw3Xn"
      }
    },
    {
      "cell_type": "markdown",
      "source": [
        "#Major types of Error"
      ],
      "metadata": {
        "id": "b63hrAcpPx9i"
      }
    },
    {
      "cell_type": "markdown",
      "source": [
        "##ValueError: ValueError is raised when a function is given the correct type of argument but with an improper value."
      ],
      "metadata": {
        "id": "rmrRDoskP2_o"
      }
    },
    {
      "cell_type": "markdown",
      "source": [
        "##The Python TypeError is an exception that occurs when the data type of an object in an operation is inappropriate. This can happen when an operation is performed on an object of an incorrect type, or it is not supported for the object. For example, if a string is attempted to be multiplied with an integer, a TypeError is generated."
      ],
      "metadata": {
        "id": "ISHU1O_zP8JV"
      }
    },
    {
      "cell_type": "code",
      "source": [],
      "metadata": {
        "id": "BV3KcEX5Pxnr"
      },
      "execution_count": null,
      "outputs": []
    },
    {
      "cell_type": "code",
      "source": [],
      "metadata": {
        "id": "-_8yLXxTPxRi"
      },
      "execution_count": null,
      "outputs": []
    },
    {
      "cell_type": "markdown",
      "source": [
        "#The try and except statements"
      ],
      "metadata": {
        "id": "KmqJEHZ7xweQ"
      }
    },
    {
      "cell_type": "markdown",
      "source": [
        "Python will try to process the statements inside the try block. If a ValueError occurs at any point as it is executing them, the flow of control will immediately pass to the except block and any remaining statements in the try block will be skipped."
      ],
      "metadata": {
        "id": "0RLbtJiSx1hK"
      }
    },
    {
      "cell_type": "code",
      "execution_count": 1,
      "metadata": {
        "colab": {
          "base_uri": "https://localhost:8080/"
        },
        "id": "ajUF9t9qwmmt",
        "outputId": "d44ef203-d85f-4d98-c777-c7a8c2b8eec1"
      },
      "outputs": [
        {
          "output_type": "stream",
          "name": "stdout",
          "text": [
            "Enter your age: 5\n",
            "You are 5 years old.\n"
          ]
        }
      ],
      "source": [
        "#In the following example we will ask user to enter his/her age \n",
        "#we are expecting an integer\n",
        "#if the entered value is anything other than the integer we will get ValueError and \n",
        "#need to handle it\n",
        "\n",
        "#Test it with following inputs:\n",
        "#5\n",
        "#5.5\n",
        "#fs4\n",
        "\n",
        "try:\n",
        "  age = int(input(\"Enter your age: \"))\n",
        "  print(\"You are %d years old.\" %age)\n",
        "except ValueError:\n",
        "  print(\"Hey, Enter a number\")"
      ]
    },
    {
      "cell_type": "code",
      "source": [
        "#Handling ValueError and ZeroDivisionError\n",
        "#Handling multiple error at once\n",
        "#try with 55/6\n",
        "#88/0\n",
        "#ss/2\n",
        "\n",
        "try:\n",
        "  dividend = int(input(\"Please enter the dividend: \"))\n",
        "  divisor = int(input(\"Please enter the divisor: \"))\n",
        "  print(\"%d/%d = %f \" %(dividend,divisor,dividend/divisor))\n",
        "\n",
        "except (ValueError,ZeroDivisionError):\n",
        "  print(\"Oops, something went wrong\")"
      ],
      "metadata": {
        "colab": {
          "base_uri": "https://localhost:8080/"
        },
        "id": "qjwk_c3jy3a2",
        "outputId": "e257a8d4-9a63-4317-d89b-8af92d23567e"
      },
      "execution_count": 2,
      "outputs": [
        {
          "output_type": "stream",
          "name": "stdout",
          "text": [
            "Please enter the dividend: 5\n",
            "Please enter the divisor: 55\n",
            "5/55 = 0.090909 \n"
          ]
        }
      ]
    },
    {
      "cell_type": "code",
      "source": [
        "#A try-except block can also have multiple except clauses.\n",
        "#If an exception occurs, Python will check each except clause from thetop down to see if the exception type matches.\n",
        "#If none of the except clauses match, the exception will be considered unhandled and the program will crash\n",
        "\n"
      ],
      "metadata": {
        "id": "tMFDZdrq0EOx"
      },
      "execution_count": 3,
      "outputs": []
    },
    {
      "cell_type": "code",
      "source": [
        "#try with 55/6\n",
        "#88/0\n",
        "#ss/2\n",
        "#2/s\n",
        "\n",
        "try:\n",
        "  dividend = int(input(\"Please enter the dividend: \"))\n",
        "  divisor = int(input(\"Please enter the divisor: \"))\n",
        "  print(\"%d/%d = %f \" %(dividend,divisor,dividend/divisor))\n",
        "except ValueError:\n",
        "  print(\"The divisor and dividend have to be numbers\")\n",
        "except ZeroDivisionError:\n",
        "  print(\"The divisor is  zero\")"
      ],
      "metadata": {
        "colab": {
          "base_uri": "https://localhost:8080/"
        },
        "id": "a1kMaYIe1IhY",
        "outputId": "55da01bf-6e7f-48ab-9bdd-e4e3f0a71337"
      },
      "execution_count": 4,
      "outputs": [
        {
          "output_type": "stream",
          "name": "stdout",
          "text": [
            "Please enter the dividend: 5\n",
            "Please enter the divisor: 55\n",
            "5/55 = 0.090909 \n"
          ]
        }
      ]
    },
    {
      "cell_type": "code",
      "source": [
        "#In above example if a ValueError  occurswe won't know whether it was caused by the dividend or the divisor not being an integer\n",
        "#Either one of the input lines could cause that error.\n",
        "#If we want to give the user more specific feedback about which input was wrong,\n",
        "#we will have to wrap each input line in a separate try-except block\n",
        "\n",
        "try:\n",
        "  dividend = int(input(\"Please enter the dividend: \"))\n",
        "except ValueError:\n",
        "  print(\"The dividend has to be a number\")\n",
        "\n",
        "try:\n",
        "  divisor = int(input(\"Please enter the divisor: \"))\n",
        "except ValueError:\n",
        "  print(\"The divisor has to be a number\")\n",
        "\n",
        "try:\n",
        "  print(\"%d/%d = %f\" %(dividend,divisor,dividend/divisor))\n",
        "except ZeroDivisionError:\n",
        "  print(\"The divisor is zero: want inifinity\")"
      ],
      "metadata": {
        "colab": {
          "base_uri": "https://localhost:8080/"
        },
        "id": "CDIxsOJf1jO-",
        "outputId": "d14bcd7b-e11e-4f1c-df4c-8ca55eecefa7"
      },
      "execution_count": 5,
      "outputs": [
        {
          "output_type": "stream",
          "name": "stdout",
          "text": [
            "Please enter the dividend: 5\n",
            "Please enter the divisor: 55\n",
            "5/55 = 0.090909\n"
          ]
        }
      ]
    },
    {
      "cell_type": "markdown",
      "source": [
        "#The else and finally statements"
      ],
      "metadata": {
        "id": "CujBDmzVF59w"
      }
    },
    {
      "cell_type": "code",
      "source": [
        "#There are two other clauses that we can add to try-except block:\n",
        "#else and finally\n"
      ],
      "metadata": {
        "id": "dUu-qHMgF5VZ"
      },
      "execution_count": 6,
      "outputs": []
    },
    {
      "cell_type": "code",
      "source": [
        "#else will be executed only if the try clause does not raise an exception\n",
        "#we want to print a message about the user's age only if the integer conversion succeeds\n",
        "#Putting the else block is better practice\n",
        "#It means that the code inside the try block is the single line that is the potential source of the error that we want to handle\n"
      ],
      "metadata": {
        "id": "X-RuozezGJy_"
      },
      "execution_count": 7,
      "outputs": []
    },
    {
      "cell_type": "code",
      "source": [
        "#8\n",
        "#8.6\n",
        "#s\n",
        "try:\n",
        "  age = int(input(\"Please enter your age: \"))\n",
        "except ValueError:\n",
        "  print(\"Enter a number\")\n",
        "else:\n",
        "  print(\"Your age is %d \" %age)"
      ],
      "metadata": {
        "colab": {
          "base_uri": "https://localhost:8080/"
        },
        "id": "M_ykYhBMGo6Q",
        "outputId": "11a9afa9-f5b7-4fb7-fded-b2029bb0e1a8"
      },
      "execution_count": 8,
      "outputs": [
        {
          "output_type": "stream",
          "name": "stdout",
          "text": [
            "Please enter your age: 5\n",
            "Your age is 5 \n"
          ]
        }
      ]
    },
    {
      "cell_type": "code",
      "source": [
        "#The finally clause will be executed at the end of the try-except block no matter what\n",
        "#if there is no exception, if an exception is raised and handled, if an exception is raised and not handled and even if we exit the block using break, continue or return.\n",
        "#we can use the finally clause for cleanup code that we always want to be executed\n"
      ],
      "metadata": {
        "id": "qL3j-g5LK3gV"
      },
      "execution_count": 9,
      "outputs": []
    },
    {
      "cell_type": "code",
      "source": [
        "#8\n",
        "#8.6\n",
        "#s\n",
        "try:\n",
        "  age = int(input(\"Please enter your age: \"))\n",
        "except ValueError:\n",
        "  print(\"Age should be a number\")\n",
        "else:\n",
        "  print(\"Your age is %d \" %age)\n",
        "finally:\n",
        "  print(\"It was nice talking to you\")"
      ],
      "metadata": {
        "colab": {
          "base_uri": "https://localhost:8080/"
        },
        "id": "zPNFsHa8LeXg",
        "outputId": "734c9ba1-f4b6-4a8c-c231-cdfb4d47d74e"
      },
      "execution_count": 10,
      "outputs": [
        {
          "output_type": "stream",
          "name": "stdout",
          "text": [
            "Please enter your age: 5\n",
            "Your age is 5 \n",
            "It was nice talking to you\n"
          ]
        }
      ]
    },
    {
      "cell_type": "markdown",
      "source": [
        "#Using the exception object"
      ],
      "metadata": {
        "id": "BEkVNcTqMJWK"
      }
    },
    {
      "cell_type": "code",
      "source": [
        "try:\n",
        "  age= int(input(\"Please enter your age: \"))\n",
        "except ValueError as err:\n",
        "  print(err)"
      ],
      "metadata": {
        "colab": {
          "base_uri": "https://localhost:8080/"
        },
        "id": "soqRkP4wL0ZJ",
        "outputId": "de6c965d-9c44-426a-8a0b-1ea07f69bf61"
      },
      "execution_count": 11,
      "outputs": [
        {
          "name": "stdout",
          "output_type": "stream",
          "text": [
            "Please enter your age: 5\n"
          ]
        }
      ]
    },
    {
      "cell_type": "code",
      "source": [
        "#making it more informative\n",
        "try:\n",
        "  age= int(input(\"Please enter your age: \"))\n",
        "except ValueError as err:\n",
        "  print(\"You entered incorrect age input:\\n %s\" %err)"
      ],
      "metadata": {
        "colab": {
          "base_uri": "https://localhost:8080/"
        },
        "id": "m9NP8Wf8NEfz",
        "outputId": "8af0545d-247e-4a05-f88e-4ea126754165"
      },
      "execution_count": 12,
      "outputs": [
        {
          "name": "stdout",
          "output_type": "stream",
          "text": [
            "Please enter your age: 5\n"
          ]
        }
      ]
    },
    {
      "cell_type": "markdown",
      "source": [
        "#Raising exceptions"
      ],
      "metadata": {
        "id": "CCpbIdshOQ3x"
      }
    },
    {
      "cell_type": "code",
      "source": [
        "#We can raise exceptions ourselves using raise statement"
      ],
      "metadata": {
        "id": "wPHCuMFkNWuM"
      },
      "execution_count": 13,
      "outputs": []
    },
    {
      "cell_type": "code",
      "source": [
        "try:\n",
        "  age = int(input(\"Please enter your age: \"))\n",
        "\n",
        "  if age < 0:\n",
        "    raise ValueError(\"%d is not a valid age. Age must be positive or zero.\")\n",
        "except ValueError as err:\n",
        "  print(\"You entered incorrect age input: %s\" %err)\n",
        "else:\n",
        "  print(\"Your age is %d \" %age)"
      ],
      "metadata": {
        "colab": {
          "base_uri": "https://localhost:8080/"
        },
        "id": "0c9uZzn-OXhm",
        "outputId": "412e245f-f97f-4128-fde4-3c9a31b41d4d"
      },
      "execution_count": 14,
      "outputs": [
        {
          "output_type": "stream",
          "name": "stdout",
          "text": [
            "Please enter your age: 5\n",
            "Your age is 5 \n"
          ]
        }
      ]
    }
  ]
}