{
  "nbformat": 4,
  "nbformat_minor": 0,
  "metadata": {
    "colab": {
      "provenance": [],
      "authorship_tag": "ABX9TyPrIrqGdGz6ZHuMGR93KLcV",
      "include_colab_link": true
    },
    "kernelspec": {
      "name": "python3",
      "display_name": "Python 3"
    },
    "language_info": {
      "name": "python"
    }
  },
  "cells": [
    {
      "cell_type": "markdown",
      "metadata": {
        "id": "view-in-github",
        "colab_type": "text"
      },
      "source": [
        "<a href=\"https://colab.research.google.com/github/gunjanak/Intermediate_Python/blob/main/Looping_techniques_in_python.ipynb\" target=\"_parent\"><img src=\"https://colab.research.google.com/assets/colab-badge.svg\" alt=\"Open In Colab\"/></a>"
      ]
    },
    {
      "cell_type": "markdown",
      "source": [
        "#Enumerate() in Python"
      ],
      "metadata": {
        "id": "L308j5hqhFgF"
      }
    },
    {
      "cell_type": "markdown",
      "source": [
        "Often, when dealing with iterators, we also get need to keep a count of iterations. Python eases the programmers’ task by providing a built-in function enumerate() for this task. Enumerate() method adds a counter to an iterable and returns it in a form of enumerating object. This enumerated object can then be used directly for loops or converted into a list of tuples using the list() method."
      ],
      "metadata": {
        "id": "UYOqCoawhM-U"
      }
    },
    {
      "cell_type": "markdown",
      "source": [
        "enumerate(iterable, start=0)\n",
        "\n",
        "\n",
        "**Iterable:** any object that supports iteration\n",
        "\n",
        "\n",
        "**Start:** the index value from which the counter is to be started, by default it is 0"
      ],
      "metadata": {
        "id": "wIN_whXXhQvw"
      }
    },
    {
      "cell_type": "code",
      "execution_count": 1,
      "metadata": {
        "id": "K_EV3fuVg-rV"
      },
      "outputs": [],
      "source": [
        "days = [\"Sunday\",\"Monday\",\"Tuesday\",\"Wednesday\",\"Thursday\",\"Friday\",\"Saturday\"]"
      ]
    },
    {
      "cell_type": "code",
      "source": [
        "#Creating enumerate objects\n",
        "enum_days = enumerate(days)"
      ],
      "metadata": {
        "id": "ifqioqQIh4DG"
      },
      "execution_count": 14,
      "outputs": []
    },
    {
      "cell_type": "code",
      "source": [
        "type(enum_days)"
      ],
      "metadata": {
        "colab": {
          "base_uri": "https://localhost:8080/"
        },
        "id": "UgSyExk5iClD",
        "outputId": "2e03d34d-17ed-4374-c31f-8785525a14f3"
      },
      "execution_count": 15,
      "outputs": [
        {
          "output_type": "execute_result",
          "data": {
            "text/plain": [
              "enumerate"
            ]
          },
          "metadata": {},
          "execution_count": 15
        }
      ]
    },
    {
      "cell_type": "code",
      "source": [
        "enum_days"
      ],
      "metadata": {
        "colab": {
          "base_uri": "https://localhost:8080/"
        },
        "id": "v95PX6L-iFef",
        "outputId": "c13df9ec-7e91-4ae3-ab52-60564492f798"
      },
      "execution_count": 4,
      "outputs": [
        {
          "output_type": "execute_result",
          "data": {
            "text/plain": [
              "<enumerate at 0x7f08636f5700>"
            ]
          },
          "metadata": {},
          "execution_count": 4
        }
      ]
    },
    {
      "cell_type": "code",
      "source": [
        "list(enum_days)"
      ],
      "metadata": {
        "colab": {
          "base_uri": "https://localhost:8080/"
        },
        "id": "qWmWz3X0iUrS",
        "outputId": "c51c496d-1b2c-4144-9498-876073757abc"
      },
      "execution_count": 16,
      "outputs": [
        {
          "output_type": "execute_result",
          "data": {
            "text/plain": [
              "[(0, 'Sunday'),\n",
              " (1, 'Monday'),\n",
              " (2, 'Tuesday'),\n",
              " (3, 'Wednesday'),\n",
              " (4, 'Thursday'),\n",
              " (5, 'Friday'),\n",
              " (6, 'Saturday')]"
            ]
          },
          "metadata": {},
          "execution_count": 16
        }
      ]
    },
    {
      "cell_type": "code",
      "source": [
        "list(enum_days)"
      ],
      "metadata": {
        "colab": {
          "base_uri": "https://localhost:8080/"
        },
        "id": "Dzup7flnjd1L",
        "outputId": "d9013eed-9c22-4029-c11b-ff95b6867797"
      },
      "execution_count": 17,
      "outputs": [
        {
          "output_type": "execute_result",
          "data": {
            "text/plain": [
              "[]"
            ]
          },
          "metadata": {},
          "execution_count": 17
        }
      ]
    },
    {
      "cell_type": "code",
      "source": [
        "enum_days = enumerate(days)\n",
        "for days in enum_days:\n",
        "  print(days)"
      ],
      "metadata": {
        "colab": {
          "base_uri": "https://localhost:8080/"
        },
        "id": "hUfcZl68iW4x",
        "outputId": "2f7a40cb-f4af-4a25-ec45-410d98ac6339"
      },
      "execution_count": 18,
      "outputs": [
        {
          "output_type": "stream",
          "name": "stdout",
          "text": [
            "(0, 'Sunday')\n",
            "(1, 'Monday')\n",
            "(2, 'Tuesday')\n",
            "(3, 'Wednesday')\n",
            "(4, 'Thursday')\n",
            "(5, 'Friday')\n",
            "(6, 'Saturday')\n"
          ]
        }
      ]
    },
    {
      "cell_type": "code",
      "source": [
        "days = [\"Sunday\",\"Monday\",\"Tuesday\",\"Wednesday\",\"Thursday\",\"Friday\",\"Saturday\"]\n",
        "for day in enumerate(days):\n",
        "  print(day)"
      ],
      "metadata": {
        "colab": {
          "base_uri": "https://localhost:8080/"
        },
        "id": "218tq-F-isBG",
        "outputId": "4ee7f16f-96d5-40bb-e478-14b99cc9fec8"
      },
      "execution_count": 23,
      "outputs": [
        {
          "output_type": "stream",
          "name": "stdout",
          "text": [
            "(0, 'Sunday')\n",
            "(1, 'Monday')\n",
            "(2, 'Tuesday')\n",
            "(3, 'Wednesday')\n",
            "(4, 'Thursday')\n",
            "(5, 'Friday')\n",
            "(6, 'Saturday')\n"
          ]
        }
      ]
    },
    {
      "cell_type": "code",
      "source": [
        "days = [\"Sunday\",\"Monday\",\"Tuesday\",\"Wednesday\",\"Thursday\",\"Friday\",\"Saturday\"]\n",
        "for count,day in enumerate(days):\n",
        "  print(count,\" : \",day)"
      ],
      "metadata": {
        "colab": {
          "base_uri": "https://localhost:8080/"
        },
        "id": "nRMzWmaRi2lb",
        "outputId": "59ace74b-2a01-466b-f83a-3c033a971f88"
      },
      "execution_count": 24,
      "outputs": [
        {
          "output_type": "stream",
          "name": "stdout",
          "text": [
            "0  :  Sunday\n",
            "1  :  Monday\n",
            "2  :  Tuesday\n",
            "3  :  Wednesday\n",
            "4  :  Thursday\n",
            "5  :  Friday\n",
            "6  :  Saturday\n"
          ]
        }
      ]
    },
    {
      "cell_type": "code",
      "source": [
        "for count,day in enumerate(days,1):\n",
        "  print(count,\" : \",day)"
      ],
      "metadata": {
        "colab": {
          "base_uri": "https://localhost:8080/"
        },
        "id": "VcO4j0hyjAnG",
        "outputId": "14241019-73d5-4d67-a7aa-49445bf42396"
      },
      "execution_count": 25,
      "outputs": [
        {
          "output_type": "stream",
          "name": "stdout",
          "text": [
            "1  :  Sunday\n",
            "2  :  Monday\n",
            "3  :  Tuesday\n",
            "4  :  Wednesday\n",
            "5  :  Thursday\n",
            "6  :  Friday\n",
            "7  :  Saturday\n"
          ]
        }
      ]
    },
    {
      "cell_type": "markdown",
      "source": [
        "#ZIP()"
      ],
      "metadata": {
        "id": "tJSeU0CpkKw3"
      }
    },
    {
      "cell_type": "code",
      "source": [
        "characters = (\"Mickey\",\"Donald\",\"Goofy\",\"Winnie-the-Pooh\",\"Moana\",\"Simba\")\n",
        "fav = (\"Cheese\",\"Jazz\",\"cats\",\"honey\",\"swim\",\"dance\")"
      ],
      "metadata": {
        "id": "yvC2xeRTjEZm"
      },
      "execution_count": 26,
      "outputs": []
    },
    {
      "cell_type": "code",
      "source": [
        "zip_me = zip(characters,fav)"
      ],
      "metadata": {
        "id": "jvFLKE8Skvkh"
      },
      "execution_count": 27,
      "outputs": []
    },
    {
      "cell_type": "code",
      "source": [
        "zip_me"
      ],
      "metadata": {
        "colab": {
          "base_uri": "https://localhost:8080/"
        },
        "id": "QM7Kg0a3k1g2",
        "outputId": "80997072-ae82-4a3c-8a2d-8fa6b79b3847"
      },
      "execution_count": 28,
      "outputs": [
        {
          "output_type": "execute_result",
          "data": {
            "text/plain": [
              "<zip at 0x7f086363fc40>"
            ]
          },
          "metadata": {},
          "execution_count": 28
        }
      ]
    },
    {
      "cell_type": "code",
      "source": [
        "type(zip_me)"
      ],
      "metadata": {
        "colab": {
          "base_uri": "https://localhost:8080/"
        },
        "id": "ATDgpMSgk21n",
        "outputId": "e632f9f0-f44e-48be-c6c6-d8bf96a27f62"
      },
      "execution_count": 29,
      "outputs": [
        {
          "output_type": "execute_result",
          "data": {
            "text/plain": [
              "zip"
            ]
          },
          "metadata": {},
          "execution_count": 29
        }
      ]
    },
    {
      "cell_type": "code",
      "source": [
        "tuple(zip_me)"
      ],
      "metadata": {
        "colab": {
          "base_uri": "https://localhost:8080/"
        },
        "id": "i8Nt4uYYk9zX",
        "outputId": "8f611c72-5b3e-4dd0-d264-5c6b9ca48db9"
      },
      "execution_count": 30,
      "outputs": [
        {
          "output_type": "execute_result",
          "data": {
            "text/plain": [
              "(('Mickey', 'Cheese'),\n",
              " ('Donald', 'Jazz'),\n",
              " ('Goofy', 'cats'),\n",
              " ('Winnie-the-Pooh', 'honey'),\n",
              " ('Moana', 'swim'),\n",
              " ('Simba', 'dance'))"
            ]
          },
          "metadata": {},
          "execution_count": 30
        }
      ]
    },
    {
      "cell_type": "code",
      "source": [
        "#zip with list\n",
        "characters = [\"Mickey\",\"Donald\",\"Goofy\",\"Winnie-the-Pooh\",\"Moana\",\"Simba\"]\n",
        "fav = [\"Cheese\",\"Jazz\",\"cats\",\"honey\",\"swim\",\"dance\"]"
      ],
      "metadata": {
        "id": "1F9u6L79lAT0"
      },
      "execution_count": 31,
      "outputs": []
    },
    {
      "cell_type": "code",
      "source": [
        "zip_lists = zip(characters,fav)"
      ],
      "metadata": {
        "id": "p-tA12bAlemq"
      },
      "execution_count": 32,
      "outputs": []
    },
    {
      "cell_type": "code",
      "source": [
        "tuple(zip_lists)"
      ],
      "metadata": {
        "colab": {
          "base_uri": "https://localhost:8080/"
        },
        "id": "Gz69P6BdliIH",
        "outputId": "cb9d21a0-e06d-4b71-82d5-781dc8fcc307"
      },
      "execution_count": 33,
      "outputs": [
        {
          "output_type": "execute_result",
          "data": {
            "text/plain": [
              "(('Mickey', 'Cheese'),\n",
              " ('Donald', 'Jazz'),\n",
              " ('Goofy', 'cats'),\n",
              " ('Winnie-the-Pooh', 'honey'),\n",
              " ('Moana', 'swim'),\n",
              " ('Simba', 'dance'))"
            ]
          },
          "metadata": {},
          "execution_count": 33
        }
      ]
    },
    {
      "cell_type": "code",
      "source": [
        "#Zip three lists\n",
        "characters = [\"Mickey\",\"Donald\",\"Goofy\",\"Winnie-the-Pooh\",\"Moana\",\"Simba\"]\n",
        "fav = [\"Cheese\",\"Jazz\",\"cats\",\"honey\",\"swim\",\"dance\"]\n",
        "number = [7,8,9,55,66,21]"
      ],
      "metadata": {
        "id": "6Bsa8-CKlkxp"
      },
      "execution_count": 34,
      "outputs": []
    },
    {
      "cell_type": "code",
      "source": [
        "zip_three = zip(characters,fav,number)"
      ],
      "metadata": {
        "id": "gNU3e1d8nMtg"
      },
      "execution_count": 35,
      "outputs": []
    },
    {
      "cell_type": "code",
      "source": [
        "zip_three"
      ],
      "metadata": {
        "colab": {
          "base_uri": "https://localhost:8080/"
        },
        "id": "L1UGxxTUnRRs",
        "outputId": "6c6dc345-164e-4504-ce07-d2dda80e2e4d"
      },
      "execution_count": 36,
      "outputs": [
        {
          "output_type": "execute_result",
          "data": {
            "text/plain": [
              "<zip at 0x7f0863641280>"
            ]
          },
          "metadata": {},
          "execution_count": 36
        }
      ]
    },
    {
      "cell_type": "code",
      "source": [
        "tuple(zip_three)"
      ],
      "metadata": {
        "colab": {
          "base_uri": "https://localhost:8080/"
        },
        "id": "UOMQ1HyGnS3H",
        "outputId": "ab78a4ed-7534-4c8c-a0a6-104a6b59297a"
      },
      "execution_count": 37,
      "outputs": [
        {
          "output_type": "execute_result",
          "data": {
            "text/plain": [
              "(('Mickey', 'Cheese', 7),\n",
              " ('Donald', 'Jazz', 8),\n",
              " ('Goofy', 'cats', 9),\n",
              " ('Winnie-the-Pooh', 'honey', 55),\n",
              " ('Moana', 'swim', 66),\n",
              " ('Simba', 'dance', 21))"
            ]
          },
          "metadata": {},
          "execution_count": 37
        }
      ]
    },
    {
      "cell_type": "code",
      "source": [
        "#Iterables with different length\n",
        "characters = [\"Mickey\",\"Donald\",\"Goofy\",\"Winnie-the-Pooh\",\"Moana\",\"Simba\"]\n",
        "fav = [\"Cheese\",\"Jazz\",\"cats\",\"honey\",\"swim\",\"dance\",\"sleep\"]\n",
        "zip_diff = zip(characters,fav)"
      ],
      "metadata": {
        "id": "bt8Rw61dnVwF"
      },
      "execution_count": 38,
      "outputs": []
    },
    {
      "cell_type": "code",
      "source": [
        "tuple(zip_diff)"
      ],
      "metadata": {
        "colab": {
          "base_uri": "https://localhost:8080/"
        },
        "id": "R-m6bGf3nwoC",
        "outputId": "175e9a02-ea16-4efe-8e00-d93bf6d11ebb"
      },
      "execution_count": 39,
      "outputs": [
        {
          "output_type": "execute_result",
          "data": {
            "text/plain": [
              "(('Mickey', 'Cheese'),\n",
              " ('Donald', 'Jazz'),\n",
              " ('Goofy', 'cats'),\n",
              " ('Winnie-the-Pooh', 'honey'),\n",
              " ('Moana', 'swim'),\n",
              " ('Simba', 'dance'))"
            ]
          },
          "metadata": {},
          "execution_count": 39
        }
      ]
    },
    {
      "cell_type": "code",
      "source": [
        "characters = [\"Mickey\",\"Donald\",\"Goofy\",\"Winnie-the-Pooh\",\"Moana\",\"Simba\",\"Baloo\"]\n",
        "fav = [\"Cheese\",\"Jazz\",\"cats\",\"honey\",\"swim\",\"dance\"]\n",
        "zip_diff = zip(characters,fav)"
      ],
      "metadata": {
        "id": "d9mN2tCBnzMV"
      },
      "execution_count": 40,
      "outputs": []
    },
    {
      "cell_type": "code",
      "source": [
        "tuple(zip_diff)"
      ],
      "metadata": {
        "colab": {
          "base_uri": "https://localhost:8080/"
        },
        "id": "BssJ34kyn_uH",
        "outputId": "c8eaafe3-db15-4a89-cf8b-0c463d2e12ca"
      },
      "execution_count": 41,
      "outputs": [
        {
          "output_type": "execute_result",
          "data": {
            "text/plain": [
              "(('Mickey', 'Cheese'),\n",
              " ('Donald', 'Jazz'),\n",
              " ('Goofy', 'cats'),\n",
              " ('Winnie-the-Pooh', 'honey'),\n",
              " ('Moana', 'swim'),\n",
              " ('Simba', 'dance'))"
            ]
          },
          "metadata": {},
          "execution_count": 41
        }
      ]
    },
    {
      "cell_type": "code",
      "source": [
        "characters = [\"Mickey\",\"Donald\",\"Goofy\",\"Winnie-the-Pooh\",\"Moana\",\"Simba\",\"Baloo\"]\n",
        "fav = [\"Cheese\",\"Jazz\",\"cats\",\"honey\",\"swim\",\"dance\"]\n",
        "number = [7,8,9,55,66,21]"
      ],
      "metadata": {
        "id": "FduSo473oCZ1"
      },
      "execution_count": 42,
      "outputs": []
    },
    {
      "cell_type": "code",
      "source": [
        "zip_3_diff = zip(characters,fav,number)"
      ],
      "metadata": {
        "id": "QGk7UoMeoLE6"
      },
      "execution_count": 43,
      "outputs": []
    },
    {
      "cell_type": "code",
      "source": [
        "tuple(zip_3_diff)"
      ],
      "metadata": {
        "colab": {
          "base_uri": "https://localhost:8080/"
        },
        "id": "Ts48-Sv0oQ0j",
        "outputId": "655da86d-a894-4f2f-86db-be2506ee3529"
      },
      "execution_count": 44,
      "outputs": [
        {
          "output_type": "execute_result",
          "data": {
            "text/plain": [
              "(('Mickey', 'Cheese', 7),\n",
              " ('Donald', 'Jazz', 8),\n",
              " ('Goofy', 'cats', 9),\n",
              " ('Winnie-the-Pooh', 'honey', 55),\n",
              " ('Moana', 'swim', 66),\n",
              " ('Simba', 'dance', 21))"
            ]
          },
          "metadata": {},
          "execution_count": 44
        }
      ]
    },
    {
      "cell_type": "markdown",
      "source": [
        "##unzip"
      ],
      "metadata": {
        "id": "L3v2HSkepMD-"
      }
    },
    {
      "cell_type": "code",
      "source": [
        "#unzip\n",
        "#zip with list\n",
        "characters = [\"Mickey\",\"Donald\",\"Goofy\",\"Winnie-the-Pooh\",\"Moana\",\"Simba\"]\n",
        "fav = [\"Cheese\",\"Jazz\",\"cats\",\"honey\",\"swim\",\"dance\"]\n",
        "zip_list = zip(characters,fav)\n"
      ],
      "metadata": {
        "id": "vUnlR03_oUFq"
      },
      "execution_count": 64,
      "outputs": []
    },
    {
      "cell_type": "code",
      "source": [
        "c,f = zip(*zip_list)"
      ],
      "metadata": {
        "id": "IuIHNyB9pR55"
      },
      "execution_count": 65,
      "outputs": []
    },
    {
      "cell_type": "code",
      "source": [
        "c"
      ],
      "metadata": {
        "colab": {
          "base_uri": "https://localhost:8080/"
        },
        "id": "y15Ccaxfp8jw",
        "outputId": "17135e33-60e9-486e-e100-0b20d44b96d0"
      },
      "execution_count": 66,
      "outputs": [
        {
          "output_type": "execute_result",
          "data": {
            "text/plain": [
              "('Mickey', 'Donald', 'Goofy', 'Winnie-the-Pooh', 'Moana', 'Simba')"
            ]
          },
          "metadata": {},
          "execution_count": 66
        }
      ]
    },
    {
      "cell_type": "code",
      "source": [
        "f"
      ],
      "metadata": {
        "colab": {
          "base_uri": "https://localhost:8080/"
        },
        "id": "f3Rw6y_Sp89c",
        "outputId": "7eb3ba51-5991-4fa9-ecb2-3c38f4eef44f"
      },
      "execution_count": 67,
      "outputs": [
        {
          "output_type": "execute_result",
          "data": {
            "text/plain": [
              "('Cheese', 'Jazz', 'cats', 'honey', 'swim', 'dance')"
            ]
          },
          "metadata": {},
          "execution_count": 67
        }
      ]
    },
    {
      "cell_type": "markdown",
      "source": [
        "##Creating dictionary with zipped keys and values"
      ],
      "metadata": {
        "id": "CNJHyDMXqGlm"
      }
    },
    {
      "cell_type": "code",
      "source": [
        "characters = [\"Mickey\",\"Donald\",\"Goofy\",\"Winnie-the-Pooh\",\"Moana\",\"Simba\"]\n",
        "fav = [\"Cheese\",\"Jazz\",\"cats\",\"honey\",\"swim\",\"dance\"]\n",
        "characters_dict = dict(zip(characters,fav))"
      ],
      "metadata": {
        "id": "tcpd6sO7p3IZ"
      },
      "execution_count": 68,
      "outputs": []
    },
    {
      "cell_type": "code",
      "source": [
        "characters_dict"
      ],
      "metadata": {
        "colab": {
          "base_uri": "https://localhost:8080/"
        },
        "id": "d-yBzs1yruqk",
        "outputId": "94d281c8-7b6d-4d61-a47a-227d6a4192ef"
      },
      "execution_count": 69,
      "outputs": [
        {
          "output_type": "execute_result",
          "data": {
            "text/plain": [
              "{'Mickey': 'Cheese',\n",
              " 'Donald': 'Jazz',\n",
              " 'Goofy': 'cats',\n",
              " 'Winnie-the-Pooh': 'honey',\n",
              " 'Moana': 'swim',\n",
              " 'Simba': 'dance'}"
            ]
          },
          "metadata": {},
          "execution_count": 69
        }
      ]
    },
    {
      "cell_type": "markdown",
      "source": [
        "##Looping through multiple list at once"
      ],
      "metadata": {
        "id": "FG9Uh7LFrzzg"
      }
    },
    {
      "cell_type": "code",
      "source": [
        "characters = [\"Mickey\",\"Donald\",\"Goofy\",\"Winnie-the-Pooh\",\"Moana\",\"Simba\"]\n",
        "favs = [\"Cheese\",\"Jazz\",\"cats\",\"honey\",\"swim\",\"dance\"]\n",
        "\n",
        "for character,fav in zip(characters,favs):\n",
        "  print(character,\": \",fav)\n"
      ],
      "metadata": {
        "colab": {
          "base_uri": "https://localhost:8080/"
        },
        "id": "aZUUQ-pirwRE",
        "outputId": "4e846183-0406-4297-d9b3-c326e59362ba"
      },
      "execution_count": 70,
      "outputs": [
        {
          "output_type": "stream",
          "name": "stdout",
          "text": [
            "Mickey :  Cheese\n",
            "Donald :  Jazz\n",
            "Goofy :  cats\n",
            "Winnie-the-Pooh :  honey\n",
            "Moana :  swim\n",
            "Simba :  dance\n"
          ]
        }
      ]
    },
    {
      "cell_type": "code",
      "source": [
        "characters = [\"Mickey\",\"Donald\",\"Goofy\",\"Winnie-the-Pooh\",\"Moana\",\"Simba\"]\n",
        "favs = [\"Cheese\",\"Jazz\",\"cats\",\"honey\",\"swim\",\"dance\"]\n",
        "ages = [7,8,9,55,66,21]"
      ],
      "metadata": {
        "id": "znXj3yZtsTWC"
      },
      "execution_count": 74,
      "outputs": []
    },
    {
      "cell_type": "code",
      "source": [
        "for character,fav,age in zip(characters,favs,ages):\n",
        "  print(\"%s of %d years likes %s\" %(character,age,fav))"
      ],
      "metadata": {
        "colab": {
          "base_uri": "https://localhost:8080/"
        },
        "id": "fNNixuWmsa4t",
        "outputId": "4e57b372-042f-4ab3-c571-994ae8a08030"
      },
      "execution_count": 76,
      "outputs": [
        {
          "output_type": "stream",
          "name": "stdout",
          "text": [
            "Mickey of 7 years likes Cheese\n",
            "Donald of 8 years likes Jazz\n",
            "Goofy of 9 years likes cats\n",
            "Winnie-the-Pooh of 55 years likes honey\n",
            "Moana of 66 years likes swim\n",
            "Simba of 21 years likes dance\n"
          ]
        }
      ]
    },
    {
      "cell_type": "markdown",
      "source": [
        "#Sorted()"
      ],
      "metadata": {
        "id": "5FNuX5enukc1"
      }
    },
    {
      "cell_type": "code",
      "source": [
        "a = (1, 11, 2)\n",
        "\n",
        "x = sorted(a)\n",
        "\n",
        "print(x)"
      ],
      "metadata": {
        "colab": {
          "base_uri": "https://localhost:8080/"
        },
        "id": "D9FYuaSMu2h0",
        "outputId": "6e35d3e0-cf64-42e6-f7a9-d9909754bfbf"
      },
      "execution_count": 78,
      "outputs": [
        {
          "output_type": "stream",
          "name": "stdout",
          "text": [
            "[1, 2, 11]\n"
          ]
        }
      ]
    },
    {
      "cell_type": "code",
      "source": [
        "a = (\"h\", \"b\", \"a\", \"c\", \"f\", \"d\", \"e\", \"g\")\n",
        "\n",
        "x = sorted(a)\n",
        "\n",
        "print(x)"
      ],
      "metadata": {
        "colab": {
          "base_uri": "https://localhost:8080/"
        },
        "id": "IpRMJZZUswSZ",
        "outputId": "e5d893bf-e616-44a8-e31c-0c9fb20b4f8a"
      },
      "execution_count": 77,
      "outputs": [
        {
          "output_type": "stream",
          "name": "stdout",
          "text": [
            "['a', 'b', 'c', 'd', 'e', 'f', 'g', 'h']\n"
          ]
        }
      ]
    },
    {
      "cell_type": "code",
      "source": [
        "a = (\"h\", \"b\", \"a\", \"c\", \"f\", \"d\", \"e\", \"g\")\n",
        "\n",
        "x = sorted(a, reverse=True)\n",
        "\n",
        "print(x)\n"
      ],
      "metadata": {
        "colab": {
          "base_uri": "https://localhost:8080/"
        },
        "id": "tSs4K_0suvvi",
        "outputId": "e77283b4-3db0-4827-916c-7ec228350ac8"
      },
      "execution_count": 79,
      "outputs": [
        {
          "output_type": "stream",
          "name": "stdout",
          "text": [
            "['h', 'g', 'f', 'e', 'd', 'c', 'b', 'a']\n"
          ]
        }
      ]
    },
    {
      "cell_type": "code",
      "source": [
        "for i in sorted(a):\n",
        "  print(i)"
      ],
      "metadata": {
        "colab": {
          "base_uri": "https://localhost:8080/"
        },
        "id": "zSy7sH3Ku6zE",
        "outputId": "f4452433-e64b-4b87-e80c-742f64c2725b"
      },
      "execution_count": 90,
      "outputs": [
        {
          "output_type": "stream",
          "name": "stdout",
          "text": [
            "a\n",
            "b\n",
            "c\n",
            "d\n",
            "e\n",
            "f\n",
            "g\n",
            "h\n"
          ]
        }
      ]
    },
    {
      "cell_type": "code",
      "source": [
        "characters = [\"Mickey\",\"Donald\",\"Goofy\",\"Winnie-the-Pooh\",\"Moana\",\"Simba\"]\n",
        "for character in sorted(characters):\n",
        "  print(character)"
      ],
      "metadata": {
        "colab": {
          "base_uri": "https://localhost:8080/"
        },
        "id": "_SMNFVyjyN10",
        "outputId": "a2342ef3-38c6-421c-edab-2de45b7e0d1e"
      },
      "execution_count": 92,
      "outputs": [
        {
          "output_type": "stream",
          "name": "stdout",
          "text": [
            "Donald\n",
            "Goofy\n",
            "Mickey\n",
            "Moana\n",
            "Simba\n",
            "Winnie-the-Pooh\n"
          ]
        }
      ]
    },
    {
      "cell_type": "code",
      "source": [
        "#reversed with dictionary\n",
        "novel = {\n",
        "          \"Name\":  \"Karnali Blues\",\n",
        "         \"Writer\": \"Buddhi Sagar\",\n",
        "         \"Rating\":  4.2\n",
        "}"
      ],
      "metadata": {
        "id": "xik0u3ajyigE"
      },
      "execution_count": 101,
      "outputs": []
    },
    {
      "cell_type": "code",
      "source": [
        "for key in sorted(novel):\n",
        "  print(key)"
      ],
      "metadata": {
        "colab": {
          "base_uri": "https://localhost:8080/"
        },
        "id": "0qhw_rBwyxl1",
        "outputId": "6b097bef-6b75-4342-c288-e75e89c13cbf"
      },
      "execution_count": 97,
      "outputs": [
        {
          "output_type": "stream",
          "name": "stdout",
          "text": [
            "Name\n",
            "Rating\n",
            "Writer\n"
          ]
        }
      ]
    },
    {
      "cell_type": "code",
      "source": [
        "for item in novel.items():\n",
        "  print(item)"
      ],
      "metadata": {
        "colab": {
          "base_uri": "https://localhost:8080/"
        },
        "id": "TFo3jC1oHEcq",
        "outputId": "02351094-62f2-4cca-9dc3-33fd20f954cb"
      },
      "execution_count": 102,
      "outputs": [
        {
          "output_type": "stream",
          "name": "stdout",
          "text": [
            "('Name', 'Karnali Blues')\n",
            "('Writer', 'Buddhi Sagar')\n",
            "('Rating', 4.2)\n"
          ]
        }
      ]
    },
    {
      "cell_type": "code",
      "source": [
        "for item in sorted(novel.items()):\n",
        "  print(item)"
      ],
      "metadata": {
        "colab": {
          "base_uri": "https://localhost:8080/"
        },
        "id": "1eAMZogFG3j5",
        "outputId": "d485ef88-b58f-4e92-d75a-4ba2dcfe8026"
      },
      "execution_count": 99,
      "outputs": [
        {
          "output_type": "stream",
          "name": "stdout",
          "text": [
            "('Name', 'Karnali Blues')\n",
            "('Rating', 4.2)\n",
            "('Writer', 'Buddhi Sagar')\n"
          ]
        }
      ]
    },
    {
      "cell_type": "code",
      "source": [
        "for key,value in sorted(novel.items()):\n",
        "  print(key,\": \",value)"
      ],
      "metadata": {
        "colab": {
          "base_uri": "https://localhost:8080/"
        },
        "id": "9olcWl6ZHAws",
        "outputId": "a437d611-4ed9-43b4-e84b-27d6a903f527"
      },
      "execution_count": 104,
      "outputs": [
        {
          "output_type": "stream",
          "name": "stdout",
          "text": [
            "Name :  Karnali Blues\n",
            "Rating :  4.2\n",
            "Writer :  Buddhi Sagar\n"
          ]
        }
      ]
    },
    {
      "cell_type": "markdown",
      "source": [
        "#Reversed"
      ],
      "metadata": {
        "id": "LlKGb7wdvVDb"
      }
    },
    {
      "cell_type": "code",
      "source": [
        "for i in reversed(range(5)):\n",
        "  print(i)"
      ],
      "metadata": {
        "colab": {
          "base_uri": "https://localhost:8080/"
        },
        "id": "Uhswl9vqwK3S",
        "outputId": "4718fed7-fc16-4682-c7b9-de2bbfc58401"
      },
      "execution_count": 83,
      "outputs": [
        {
          "output_type": "stream",
          "name": "stdout",
          "text": [
            "4\n",
            "3\n",
            "2\n",
            "1\n",
            "0\n"
          ]
        }
      ]
    },
    {
      "cell_type": "code",
      "source": [
        "for i in reversed(range(0,50,5)):\n",
        "  print(i)"
      ],
      "metadata": {
        "colab": {
          "base_uri": "https://localhost:8080/"
        },
        "id": "Y7vozJrxwY9K",
        "outputId": "60cd000c-b518-4ffb-931c-a34222dfd172"
      },
      "execution_count": 84,
      "outputs": [
        {
          "output_type": "stream",
          "name": "stdout",
          "text": [
            "45\n",
            "40\n",
            "35\n",
            "30\n",
            "25\n",
            "20\n",
            "15\n",
            "10\n",
            "5\n",
            "0\n"
          ]
        }
      ]
    },
    {
      "cell_type": "code",
      "source": [
        "a = (\"h\", \"b\", \"a\", \"c\", \"f\", \"d\", \"e\", \"g\")\n",
        "for i in reversed(a):\n",
        "  print(i)"
      ],
      "metadata": {
        "colab": {
          "base_uri": "https://localhost:8080/"
        },
        "id": "zxz5ID_GvCZc",
        "outputId": "9a93811b-bec6-45bf-b889-4149c3178394"
      },
      "execution_count": 81,
      "outputs": [
        {
          "output_type": "stream",
          "name": "stdout",
          "text": [
            "g\n",
            "e\n",
            "d\n",
            "f\n",
            "c\n",
            "a\n",
            "b\n",
            "h\n"
          ]
        }
      ]
    },
    {
      "cell_type": "code",
      "source": [
        "characters = [\"Mickey\",\"Donald\",\"Goofy\",\"Winnie-the-Pooh\",\"Moana\",\"Simba\"]\n",
        "for character in reversed(characters):\n",
        "  print(character)"
      ],
      "metadata": {
        "colab": {
          "base_uri": "https://localhost:8080/"
        },
        "id": "lhHujpBKv6rY",
        "outputId": "d5f8dcee-2d04-476f-ba97-36645fe4ee34"
      },
      "execution_count": 82,
      "outputs": [
        {
          "output_type": "stream",
          "name": "stdout",
          "text": [
            "Simba\n",
            "Moana\n",
            "Winnie-the-Pooh\n",
            "Goofy\n",
            "Donald\n",
            "Mickey\n"
          ]
        }
      ]
    },
    {
      "cell_type": "code",
      "source": [
        "#reversed with dictionary\n",
        "novel = {\n",
        "          \"name\":  \"Karnali Blues\",\n",
        "         \"Writer\": \"Buddhi Sagar\",\n",
        "         \"Rating\":  4.2\n",
        "}"
      ],
      "metadata": {
        "id": "1yMizK0Wok-_"
      },
      "execution_count": 85,
      "outputs": []
    },
    {
      "cell_type": "code",
      "source": [
        "for key in reversed(novel):\n",
        "  print(key)"
      ],
      "metadata": {
        "colab": {
          "base_uri": "https://localhost:8080/"
        },
        "id": "pNHwkLIMxus1",
        "outputId": "b0384ddd-ec72-40f4-a65a-41d9de90e8ec"
      },
      "execution_count": 88,
      "outputs": [
        {
          "output_type": "stream",
          "name": "stdout",
          "text": [
            "Rating\n",
            "Writer\n",
            "name\n"
          ]
        }
      ]
    },
    {
      "cell_type": "code",
      "source": [
        "for key in reversed(novel):\n",
        "  print(\"%s : %s\" %(key,novel[key]))"
      ],
      "metadata": {
        "colab": {
          "base_uri": "https://localhost:8080/"
        },
        "id": "RYemBbjmx0zb",
        "outputId": "e1b34ec5-a9d1-48e4-914d-67857c9619b2"
      },
      "execution_count": 89,
      "outputs": [
        {
          "output_type": "stream",
          "name": "stdout",
          "text": [
            "Rating : 4.2\n",
            "Writer : Buddhi Sagar\n",
            "name : Karnali Blues\n"
          ]
        }
      ]
    }
  ]
}