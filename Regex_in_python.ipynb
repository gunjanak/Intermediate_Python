{
  "nbformat": 4,
  "nbformat_minor": 0,
  "metadata": {
    "colab": {
      "provenance": [],
      "collapsed_sections": [
        "AfjHHVFV_q6P",
        "shMG2jiodBW3",
        "6lt8JNEUdZGm",
        "6cpfz-yeEscV",
        "-kfo1gFFdzua",
        "kc0Qkp65eqFX",
        "noPn5cFbfM06",
        "Xe_2ws3Sf3DY",
        "5CpCDS9egZ90",
        "7S-itaadhLDW",
        "B3RR5jaJhkaP",
        "RnPVMAokiJuD",
        "S3KvUI_7iURj",
        "EXTebvwikU05",
        "lypdFyvqle3b",
        "jlOkuxi8mUHj",
        "jEJD92m_mrPZ",
        "QaHtj6qzoP7k",
        "EBYeX7NRpasR",
        "j49qOMnoqKMY",
        "fFCUGZfGr40n",
        "QTr-IenBr7xa",
        "PSbqNo-QsLAk",
        "F2Wr15sosYgk",
        "MI9_AYuOt6Y-",
        "rEfPM_XQ2boJ",
        "lT0zwiAcXSvq"
      ],
      "authorship_tag": "ABX9TyPDF9C/5viZDF5tYdxIIJIs",
      "include_colab_link": true
    },
    "kernelspec": {
      "name": "python3",
      "display_name": "Python 3"
    },
    "language_info": {
      "name": "python"
    }
  },
  "cells": [
    {
      "cell_type": "markdown",
      "metadata": {
        "id": "view-in-github",
        "colab_type": "text"
      },
      "source": [
        "<a href=\"https://colab.research.google.com/github/gunjanak/Intermediate_Python/blob/main/Regex_in_python.ipynb\" target=\"_parent\"><img src=\"https://colab.research.google.com/assets/colab-badge.svg\" alt=\"Open In Colab\"/></a>"
      ]
    },
    {
      "cell_type": "code",
      "source": [
        "import re"
      ],
      "metadata": {
        "id": "wr-Bp5pi7FkG"
      },
      "execution_count": 1,
      "outputs": []
    },
    {
      "cell_type": "code",
      "source": [
        "txt = \"The rain in Spain\""
      ],
      "metadata": {
        "id": "PuTt-ZHW7H9t"
      },
      "execution_count": null,
      "outputs": []
    },
    {
      "cell_type": "code",
      "source": [
        "#find all lower case characters alphabetically between \"a\" and \"m\""
      ],
      "metadata": {
        "id": "ctI9H4707K43"
      },
      "execution_count": null,
      "outputs": []
    },
    {
      "cell_type": "code",
      "source": [
        "x = re.findall(\"[a-m]\",txt)"
      ],
      "metadata": {
        "id": "wQ2jv8gG88RA"
      },
      "execution_count": null,
      "outputs": []
    },
    {
      "cell_type": "code",
      "source": [
        "print(x)"
      ],
      "metadata": {
        "colab": {
          "base_uri": "https://localhost:8080/"
        },
        "id": "aGD4Q-Tx9DAL",
        "outputId": "18392312-38f0-4fa7-9a78-5f0b888bf7f1"
      },
      "execution_count": null,
      "outputs": [
        {
          "output_type": "stream",
          "name": "stdout",
          "text": [
            "['h', 'e', 'a', 'i', 'i', 'a', 'i']\n"
          ]
        }
      ]
    },
    {
      "cell_type": "code",
      "source": [
        "#find all digit characters\n",
        "txt = \"its 89 degree Farenheit\"\n",
        "re.findall(\"\\d\",txt)"
      ],
      "metadata": {
        "colab": {
          "base_uri": "https://localhost:8080/"
        },
        "id": "JR9Hy_IG9GXz",
        "outputId": "5afa823a-e83d-4921-c217-cf9afef1f41c"
      },
      "execution_count": null,
      "outputs": [
        {
          "output_type": "execute_result",
          "data": {
            "text/plain": [
              "['8', '9']"
            ]
          },
          "metadata": {},
          "execution_count": 12
        }
      ]
    },
    {
      "cell_type": "markdown",
      "source": [
        "#Special sequences"
      ],
      "metadata": {
        "id": "AfjHHVFV_q6P"
      }
    },
    {
      "cell_type": "markdown",
      "source": [
        "##\\\\A"
      ],
      "metadata": {
        "id": "shMG2jiodBW3"
      }
    },
    {
      "cell_type": "code",
      "source": [
        "#\\A Returns a match if the specified characters are the begining of the string\n",
        "import re\n",
        "txt = \"Love is being stupid together\"\n",
        "#check if the starts with \"Love\"\n",
        "re.findall(\"\\ALove\",txt)"
      ],
      "metadata": {
        "colab": {
          "base_uri": "https://localhost:8080/"
        },
        "id": "Tcrmn3UH-F91",
        "outputId": "39cc714b-c41c-4b73-f02a-0f487e320a85"
      },
      "execution_count": null,
      "outputs": [
        {
          "output_type": "execute_result",
          "data": {
            "text/plain": [
              "['Love']"
            ]
          },
          "metadata": {},
          "execution_count": 6
        }
      ]
    },
    {
      "cell_type": "code",
      "source": [
        "x = re.findall(\"\\ALove\",txt)\n",
        "if x:\n",
        "  print(\"Yes we found Love\")\n",
        "else:\n",
        "  print(\"No match\")"
      ],
      "metadata": {
        "colab": {
          "base_uri": "https://localhost:8080/"
        },
        "id": "MMirjDXtCoFg",
        "outputId": "46347dba-509a-4ea0-83dd-b20f6832413e"
      },
      "execution_count": null,
      "outputs": [
        {
          "output_type": "stream",
          "name": "stdout",
          "text": [
            "Yes we found Love\n"
          ]
        }
      ]
    },
    {
      "cell_type": "code",
      "source": [
        "txt = \"This is not Love\""
      ],
      "metadata": {
        "id": "AQdErky6dKkb"
      },
      "execution_count": null,
      "outputs": []
    },
    {
      "cell_type": "code",
      "source": [
        "x = re.findall(\"\\ALove\",txt)\n",
        "if x:\n",
        "  print(\"Yes we found Love\")\n",
        "else:\n",
        "  print(\"No match\")"
      ],
      "metadata": {
        "colab": {
          "base_uri": "https://localhost:8080/"
        },
        "id": "MG7H-Pw5dSNM",
        "outputId": "6bc3ceaf-c738-46e8-b282-b546b9cd74d2"
      },
      "execution_count": null,
      "outputs": [
        {
          "output_type": "stream",
          "name": "stdout",
          "text": [
            "No match\n"
          ]
        }
      ]
    },
    {
      "cell_type": "code",
      "source": [],
      "metadata": {
        "id": "8g9oQAY4dUwD"
      },
      "execution_count": null,
      "outputs": []
    },
    {
      "cell_type": "markdown",
      "source": [
        "##\\\\b"
      ],
      "metadata": {
        "id": "6lt8JNEUdZGm"
      }
    },
    {
      "cell_type": "code",
      "source": [
        "#Returns a match where the specified characters are at the begining or at the end of a wod\n",
        "txt = \"I scream, you scream, we all scream for ice cream\""
      ],
      "metadata": {
        "id": "puDG_kHdC3ph"
      },
      "execution_count": null,
      "outputs": []
    },
    {
      "cell_type": "code",
      "source": [
        "#It will search for words in txt that start with \"cream\"\n",
        "re.findall(r\"\\bcream\",txt) "
      ],
      "metadata": {
        "colab": {
          "base_uri": "https://localhost:8080/"
        },
        "id": "whlzpQWkEF2I",
        "outputId": "8a36212d-ab29-4536-e62b-fb4685dd599b"
      },
      "execution_count": null,
      "outputs": [
        {
          "output_type": "execute_result",
          "data": {
            "text/plain": [
              "['cream']"
            ]
          },
          "metadata": {},
          "execution_count": 11
        }
      ]
    },
    {
      "cell_type": "code",
      "source": [
        "##It will search for words in txt that end with \"cream\n",
        "re.findall(r\"cream\\b\",txt)"
      ],
      "metadata": {
        "colab": {
          "base_uri": "https://localhost:8080/"
        },
        "id": "7D_uPj1BENOV",
        "outputId": "2168bd52-d696-4439-eff7-30accf6de1aa"
      },
      "execution_count": null,
      "outputs": [
        {
          "output_type": "execute_result",
          "data": {
            "text/plain": [
              "['cream', 'cream', 'cream', 'cream']"
            ]
          },
          "metadata": {},
          "execution_count": 12
        }
      ]
    },
    {
      "cell_type": "markdown",
      "source": [
        "##\\\\B"
      ],
      "metadata": {
        "id": "6cpfz-yeEscV"
      }
    },
    {
      "cell_type": "markdown",
      "source": [
        "Returns a match whrere the specified characters are present, but NOT at the begining (or at the end) of a word.\n",
        "\n",
        "\n",
        "\n"
      ],
      "metadata": {
        "id": "DMQuAyIYExAM"
      }
    },
    {
      "cell_type": "code",
      "source": [
        "txt = \"I scream, you scream, we all scream for ice cream\""
      ],
      "metadata": {
        "id": "TF6LFF1MFDOa"
      },
      "execution_count": null,
      "outputs": []
    },
    {
      "cell_type": "code",
      "source": [
        "#Secarching for all words that have cream but not at the begining\n",
        "#r is used to make sure that the string is being treated as \"raw string\"\n",
        "re.findall(r\"\\Bcream\",txt)"
      ],
      "metadata": {
        "colab": {
          "base_uri": "https://localhost:8080/"
        },
        "id": "rC88stdZFR7-",
        "outputId": "aff2e118-5799-4551-a555-ad5d207e9dd5"
      },
      "execution_count": null,
      "outputs": [
        {
          "output_type": "execute_result",
          "data": {
            "text/plain": [
              "['cream', 'cream', 'cream']"
            ]
          },
          "metadata": {},
          "execution_count": 14
        }
      ]
    },
    {
      "cell_type": "code",
      "source": [
        "re.findall(r\"cream\\B\",txt)"
      ],
      "metadata": {
        "colab": {
          "base_uri": "https://localhost:8080/"
        },
        "id": "T71XelvdFpXX",
        "outputId": "94a1aa59-a306-4011-bbb4-88c1b183c0f1"
      },
      "execution_count": null,
      "outputs": [
        {
          "output_type": "execute_result",
          "data": {
            "text/plain": [
              "[]"
            ]
          },
          "metadata": {},
          "execution_count": 15
        }
      ]
    },
    {
      "cell_type": "code",
      "source": [
        "txt = \"If a dog chews shoes, whose shoes does he choose?\""
      ],
      "metadata": {
        "id": "r46xkXwLFvuT"
      },
      "execution_count": null,
      "outputs": []
    },
    {
      "cell_type": "code",
      "source": [
        "re.findall(r\"shoe\\B\",txt)"
      ],
      "metadata": {
        "id": "-76zefrAF8Pw",
        "outputId": "969ce234-18f3-48b8-fcda-7126799df7fa",
        "colab": {
          "base_uri": "https://localhost:8080/"
        }
      },
      "execution_count": null,
      "outputs": [
        {
          "output_type": "execute_result",
          "data": {
            "text/plain": [
              "['shoe', 'shoe']"
            ]
          },
          "metadata": {},
          "execution_count": 17
        }
      ]
    },
    {
      "cell_type": "markdown",
      "source": [
        "##\\\\d"
      ],
      "metadata": {
        "id": "-kfo1gFFdzua"
      }
    },
    {
      "cell_type": "code",
      "source": [
        "#Returns a match where the string contains digits (numbers from 0-9)"
      ],
      "metadata": {
        "id": "Xme20rKGGAr7"
      },
      "execution_count": null,
      "outputs": []
    },
    {
      "cell_type": "code",
      "source": [
        "txt1 = \"She sells seashells by the seashore\"\n",
        "txt2 = \"There are 15 songs in this album\""
      ],
      "metadata": {
        "id": "14ENyMN4d_HT"
      },
      "execution_count": null,
      "outputs": []
    },
    {
      "cell_type": "code",
      "source": [
        "re.findall(\"\\d\",txt1)"
      ],
      "metadata": {
        "colab": {
          "base_uri": "https://localhost:8080/"
        },
        "id": "1cNy36jdeagm",
        "outputId": "f4a568b5-fe39-4f33-ca7f-f62b537b1418"
      },
      "execution_count": null,
      "outputs": [
        {
          "output_type": "execute_result",
          "data": {
            "text/plain": [
              "[]"
            ]
          },
          "metadata": {},
          "execution_count": 20
        }
      ]
    },
    {
      "cell_type": "code",
      "source": [
        "re.findall('\\d',txt2)"
      ],
      "metadata": {
        "colab": {
          "base_uri": "https://localhost:8080/"
        },
        "id": "uSCA5uyAefaJ",
        "outputId": "6b390e0b-96f0-4c25-ab31-c0dbd4a09b9d"
      },
      "execution_count": null,
      "outputs": [
        {
          "output_type": "execute_result",
          "data": {
            "text/plain": [
              "['1', '5']"
            ]
          },
          "metadata": {},
          "execution_count": 21
        }
      ]
    },
    {
      "cell_type": "markdown",
      "source": [
        "##\\\\D"
      ],
      "metadata": {
        "id": "kc0Qkp65eqFX"
      }
    },
    {
      "cell_type": "code",
      "source": [
        "#Returns a match where the string does not contain digits"
      ],
      "metadata": {
        "id": "kD_sK1rEektV"
      },
      "execution_count": null,
      "outputs": []
    },
    {
      "cell_type": "code",
      "source": [
        "txt1 = \"She sells seashells\"\n",
        "txt2 = \"There are 15 songs.\""
      ],
      "metadata": {
        "id": "TxDo_4wWexGX"
      },
      "execution_count": null,
      "outputs": []
    },
    {
      "cell_type": "code",
      "source": [
        "print(re.findall(\"\\D\",txt1))\n",
        "print(re.findall(\"\\D\",txt2))"
      ],
      "metadata": {
        "colab": {
          "base_uri": "https://localhost:8080/"
        },
        "id": "2xAOj2Pce4F4",
        "outputId": "f4c4239f-6b0c-4868-b59a-529200582d33"
      },
      "execution_count": null,
      "outputs": [
        {
          "output_type": "stream",
          "name": "stdout",
          "text": [
            "['S', 'h', 'e', ' ', 's', 'e', 'l', 'l', 's', ' ', 's', 'e', 'a', 's', 'h', 'e', 'l', 'l', 's']\n",
            "['T', 'h', 'e', 'r', 'e', ' ', 'a', 'r', 'e', ' ', ' ', 's', 'o', 'n', 'g', 's', '.']\n"
          ]
        }
      ]
    },
    {
      "cell_type": "markdown",
      "source": [
        "##\\s"
      ],
      "metadata": {
        "id": "noPn5cFbfM06"
      }
    },
    {
      "cell_type": "code",
      "source": [
        "#Returns a match where the string contains a white space characters\n",
        "txt1 = \"She sells seashells\"\n",
        "txt2 = \"There are 15 songs.\""
      ],
      "metadata": {
        "id": "SFw0QPCCfCrd"
      },
      "execution_count": null,
      "outputs": []
    },
    {
      "cell_type": "code",
      "source": [
        "re.findall(\"\\s\",txt1)"
      ],
      "metadata": {
        "colab": {
          "base_uri": "https://localhost:8080/"
        },
        "id": "p23LMcHPfra8",
        "outputId": "9c55fd39-5617-4c38-e305-af4dcf3dc1ab"
      },
      "execution_count": null,
      "outputs": [
        {
          "output_type": "execute_result",
          "data": {
            "text/plain": [
              "[' ', ' ']"
            ]
          },
          "metadata": {},
          "execution_count": 28
        }
      ]
    },
    {
      "cell_type": "code",
      "source": [
        "re.findall(\"\\s\",txt2)"
      ],
      "metadata": {
        "colab": {
          "base_uri": "https://localhost:8080/"
        },
        "id": "H9PCo1HZfvt_",
        "outputId": "3dc23756-228a-43a7-ec35-ce4e92480327"
      },
      "execution_count": null,
      "outputs": [
        {
          "output_type": "execute_result",
          "data": {
            "text/plain": [
              "[' ', ' ', ' ']"
            ]
          },
          "metadata": {},
          "execution_count": 29
        }
      ]
    },
    {
      "cell_type": "markdown",
      "source": [
        "##\\\\S"
      ],
      "metadata": {
        "id": "Xe_2ws3Sf3DY"
      }
    },
    {
      "cell_type": "code",
      "source": [
        "#Return a match at every NON white-space character"
      ],
      "metadata": {
        "id": "osxg_A1Uf0Qc"
      },
      "execution_count": null,
      "outputs": []
    },
    {
      "cell_type": "code",
      "source": [
        "txt1 = \"She sells seashells\"\n",
        "txt2 = \"There are 15 songs.\""
      ],
      "metadata": {
        "id": "crcPPPVngLYg"
      },
      "execution_count": null,
      "outputs": []
    },
    {
      "cell_type": "code",
      "source": [
        "re.findall(\"\\S\",txt1)"
      ],
      "metadata": {
        "colab": {
          "base_uri": "https://localhost:8080/"
        },
        "id": "QxLEZp1wgHI8",
        "outputId": "3e6024b5-40d5-44ff-b3ce-a16fa00091b6"
      },
      "execution_count": null,
      "outputs": [
        {
          "output_type": "execute_result",
          "data": {
            "text/plain": [
              "['S',\n",
              " 'h',\n",
              " 'e',\n",
              " 's',\n",
              " 'e',\n",
              " 'l',\n",
              " 'l',\n",
              " 's',\n",
              " 's',\n",
              " 'e',\n",
              " 'a',\n",
              " 's',\n",
              " 'h',\n",
              " 'e',\n",
              " 'l',\n",
              " 'l',\n",
              " 's']"
            ]
          },
          "metadata": {},
          "execution_count": 32
        }
      ]
    },
    {
      "cell_type": "code",
      "source": [
        "re.findall(\"\\S\",txt2)"
      ],
      "metadata": {
        "id": "cGLzo7w9El-_",
        "colab": {
          "base_uri": "https://localhost:8080/"
        },
        "outputId": "df03e5a6-56ff-4c87-e4ff-d5c4dad749f7"
      },
      "execution_count": null,
      "outputs": [
        {
          "output_type": "execute_result",
          "data": {
            "text/plain": [
              "['T',\n",
              " 'h',\n",
              " 'e',\n",
              " 'r',\n",
              " 'e',\n",
              " 'a',\n",
              " 'r',\n",
              " 'e',\n",
              " '1',\n",
              " '5',\n",
              " 's',\n",
              " 'o',\n",
              " 'n',\n",
              " 'g',\n",
              " 's',\n",
              " '.']"
            ]
          },
          "metadata": {},
          "execution_count": 33
        }
      ]
    },
    {
      "cell_type": "markdown",
      "source": [
        "##\\\\w"
      ],
      "metadata": {
        "id": "5CpCDS9egZ90"
      }
    },
    {
      "cell_type": "code",
      "source": [
        "#Return a match at every word character (characters from a to Z,digits from 0-9,\n",
        "#and the underscore _ character)"
      ],
      "metadata": {
        "id": "Ut-SCGkBgVEC"
      },
      "execution_count": null,
      "outputs": []
    },
    {
      "cell_type": "code",
      "source": [
        "txt1 = \"my email is j_k_l_15@me.com\""
      ],
      "metadata": {
        "id": "4ZFqIiOwgq1r"
      },
      "execution_count": null,
      "outputs": []
    },
    {
      "cell_type": "code",
      "source": [
        "re.findall(\"\\w\",txt1)"
      ],
      "metadata": {
        "colab": {
          "base_uri": "https://localhost:8080/"
        },
        "id": "toqXqXWMg_rD",
        "outputId": "1155a107-160f-4cf6-92e5-cab0aef45176"
      },
      "execution_count": null,
      "outputs": [
        {
          "output_type": "execute_result",
          "data": {
            "text/plain": [
              "['m',\n",
              " 'y',\n",
              " 'e',\n",
              " 'm',\n",
              " 'a',\n",
              " 'i',\n",
              " 'l',\n",
              " 'i',\n",
              " 's',\n",
              " 'j',\n",
              " '_',\n",
              " 'k',\n",
              " '_',\n",
              " 'l',\n",
              " '_',\n",
              " '1',\n",
              " '5',\n",
              " 'm',\n",
              " 'e',\n",
              " 'c',\n",
              " 'o',\n",
              " 'm']"
            ]
          },
          "metadata": {},
          "execution_count": 36
        }
      ]
    },
    {
      "cell_type": "markdown",
      "source": [
        "##\\\\W"
      ],
      "metadata": {
        "id": "7S-itaadhLDW"
      }
    },
    {
      "cell_type": "code",
      "source": [
        "#Returns a match where the string DOES NOT contain any word characters"
      ],
      "metadata": {
        "id": "v7yKhJrRhDL6"
      },
      "execution_count": null,
      "outputs": []
    },
    {
      "cell_type": "code",
      "source": [
        "txt1 = \"my email is j_k_l_15@me.com\""
      ],
      "metadata": {
        "id": "tovecKghhTDE"
      },
      "execution_count": null,
      "outputs": []
    },
    {
      "cell_type": "code",
      "source": [
        "re.findall(\"\\W\",txt1)"
      ],
      "metadata": {
        "colab": {
          "base_uri": "https://localhost:8080/"
        },
        "id": "ChLw1fg0hdcw",
        "outputId": "51afcf4c-cadc-4f8a-8657-01bd2673ac9a"
      },
      "execution_count": null,
      "outputs": [
        {
          "output_type": "execute_result",
          "data": {
            "text/plain": [
              "[' ', ' ', ' ', '@', '.']"
            ]
          },
          "metadata": {},
          "execution_count": 39
        }
      ]
    },
    {
      "cell_type": "markdown",
      "source": [
        "##\\\\z"
      ],
      "metadata": {
        "id": "B3RR5jaJhkaP"
      }
    },
    {
      "cell_type": "code",
      "source": [
        "#Returns a match if the specified characters are at the end of the string\n",
        "txt1 = \"my email is j_k_l_15@me.com\""
      ],
      "metadata": {
        "id": "FgvPHzEihhFI"
      },
      "execution_count": null,
      "outputs": []
    },
    {
      "cell_type": "code",
      "source": [
        "re.findall(\"com\\Z\",txt1)"
      ],
      "metadata": {
        "colab": {
          "base_uri": "https://localhost:8080/"
        },
        "id": "57Orye23h1to",
        "outputId": "05f1b83e-76b6-495c-a045-7e610c2fab59"
      },
      "execution_count": null,
      "outputs": [
        {
          "output_type": "execute_result",
          "data": {
            "text/plain": [
              "['com']"
            ]
          },
          "metadata": {},
          "execution_count": 41
        }
      ]
    },
    {
      "cell_type": "markdown",
      "source": [
        "#Sets"
      ],
      "metadata": {
        "id": "RnPVMAokiJuD"
      }
    },
    {
      "cell_type": "markdown",
      "source": [
        "A set is a set of characters inside a pair of square brackets [] with a special meaning."
      ],
      "metadata": {
        "id": "LtMW07gciMhw"
      }
    },
    {
      "cell_type": "markdown",
      "source": [
        "##[aeiou]"
      ],
      "metadata": {
        "id": "S3KvUI_7iURj"
      }
    },
    {
      "cell_type": "code",
      "source": [
        "#Returns a match where one of the specified characters (a,e,i,o or u)is present"
      ],
      "metadata": {
        "id": "pbNIRlCKEVU2"
      },
      "execution_count": null,
      "outputs": []
    },
    {
      "cell_type": "code",
      "source": [
        "txt = \"Eddie edited it\""
      ],
      "metadata": {
        "id": "Gem_ZFYyiiX1"
      },
      "execution_count": null,
      "outputs": []
    },
    {
      "cell_type": "code",
      "source": [
        "re.findall(\"[aeiou]\",txt)"
      ],
      "metadata": {
        "colab": {
          "base_uri": "https://localhost:8080/"
        },
        "id": "bpk6u3r9jRI6",
        "outputId": "36d4fa80-ab7b-4f67-a3a5-2a0d208646a5"
      },
      "execution_count": null,
      "outputs": [
        {
          "output_type": "execute_result",
          "data": {
            "text/plain": [
              "['i', 'e', 'e', 'i', 'e', 'i']"
            ]
          },
          "metadata": {},
          "execution_count": 48
        }
      ]
    },
    {
      "cell_type": "code",
      "source": [
        "txt2 = \"Fred fed Ted bread, and Ted fed Fred bread\""
      ],
      "metadata": {
        "id": "dKzgfhiVjVB0"
      },
      "execution_count": null,
      "outputs": []
    },
    {
      "cell_type": "code",
      "source": [
        "re.findall(\"[aeiou]\",txt2)"
      ],
      "metadata": {
        "colab": {
          "base_uri": "https://localhost:8080/"
        },
        "id": "DEIuerjXjzG8",
        "outputId": "596a59a9-a41a-4304-b746-c3b5a93f2dd2"
      },
      "execution_count": null,
      "outputs": [
        {
          "output_type": "execute_result",
          "data": {
            "text/plain": [
              "['e', 'e', 'e', 'e', 'a', 'a', 'e', 'e', 'e', 'e', 'a']"
            ]
          },
          "metadata": {},
          "execution_count": 50
        }
      ]
    },
    {
      "cell_type": "code",
      "source": [
        "#Changing the order\n",
        "re.findall(\"[uoiea]\",txt2)"
      ],
      "metadata": {
        "colab": {
          "base_uri": "https://localhost:8080/"
        },
        "id": "kYAuwPrxj3ch",
        "outputId": "c5e7ea3e-90d3-417d-b2bb-41a6230273f6"
      },
      "execution_count": null,
      "outputs": [
        {
          "output_type": "execute_result",
          "data": {
            "text/plain": [
              "['e', 'e', 'e', 'e', 'a', 'a', 'e', 'e', 'e', 'e', 'a']"
            ]
          },
          "metadata": {},
          "execution_count": 51
        }
      ]
    },
    {
      "cell_type": "code",
      "source": [
        "re.findall(\"[fat]\",txt2)"
      ],
      "metadata": {
        "colab": {
          "base_uri": "https://localhost:8080/"
        },
        "id": "dHckiOOXj9wJ",
        "outputId": "a9a80b31-04e6-426c-b0f0-ce8102e9f715"
      },
      "execution_count": null,
      "outputs": [
        {
          "output_type": "execute_result",
          "data": {
            "text/plain": [
              "['f', 'a', 'a', 'f', 'a']"
            ]
          },
          "metadata": {},
          "execution_count": 52
        }
      ]
    },
    {
      "cell_type": "markdown",
      "source": [
        "##[a-n]"
      ],
      "metadata": {
        "id": "EXTebvwikU05"
      }
    },
    {
      "cell_type": "code",
      "source": [
        "#Returns a match for any lower case character, alphabetically between a and n"
      ],
      "metadata": {
        "id": "2liMl5-XkHPI"
      },
      "execution_count": null,
      "outputs": []
    },
    {
      "cell_type": "code",
      "source": [
        "txt = \"Fred fed Ted bread, and Ted fed Fred bread\""
      ],
      "metadata": {
        "id": "YUH0PGm8keqN"
      },
      "execution_count": null,
      "outputs": []
    },
    {
      "cell_type": "code",
      "source": [
        "re.findall(\"[a-n]\",txt)"
      ],
      "metadata": {
        "colab": {
          "base_uri": "https://localhost:8080/"
        },
        "id": "2rC88pSUkkdw",
        "outputId": "3edd7b65-add8-4e22-8784-e59e1f48124f"
      },
      "execution_count": null,
      "outputs": [
        {
          "output_type": "execute_result",
          "data": {
            "text/plain": [
              "['e',\n",
              " 'd',\n",
              " 'f',\n",
              " 'e',\n",
              " 'd',\n",
              " 'e',\n",
              " 'd',\n",
              " 'b',\n",
              " 'e',\n",
              " 'a',\n",
              " 'd',\n",
              " 'a',\n",
              " 'n',\n",
              " 'd',\n",
              " 'e',\n",
              " 'd',\n",
              " 'f',\n",
              " 'e',\n",
              " 'd',\n",
              " 'e',\n",
              " 'd',\n",
              " 'b',\n",
              " 'e',\n",
              " 'a',\n",
              " 'd']"
            ]
          },
          "metadata": {},
          "execution_count": 55
        }
      ]
    },
    {
      "cell_type": "code",
      "source": [
        "#Changing the range\n",
        "re.findall(\"[e-m]\",txt)"
      ],
      "metadata": {
        "colab": {
          "base_uri": "https://localhost:8080/"
        },
        "id": "GyCm1Y-7ksoN",
        "outputId": "7cacb819-68ab-43b3-ecac-070c04f7f752"
      },
      "execution_count": null,
      "outputs": [
        {
          "output_type": "execute_result",
          "data": {
            "text/plain": [
              "['e', 'f', 'e', 'e', 'e', 'e', 'f', 'e', 'e', 'e']"
            ]
          },
          "metadata": {},
          "execution_count": 58
        }
      ]
    },
    {
      "cell_type": "markdown",
      "source": [
        "##[^aeiou]"
      ],
      "metadata": {
        "id": "lypdFyvqle3b"
      }
    },
    {
      "cell_type": "code",
      "source": [
        "#Check if the string has characters other than a,e,i,o and u"
      ],
      "metadata": {
        "id": "34Nbvb9nk0jw"
      },
      "execution_count": null,
      "outputs": []
    },
    {
      "cell_type": "code",
      "source": [
        "txt2 = \"Fred fed Ted bread, and Ted fed Fred bread\""
      ],
      "metadata": {
        "id": "7uEZftcFlqcA"
      },
      "execution_count": null,
      "outputs": []
    },
    {
      "cell_type": "code",
      "source": [
        "re.findall(\"[^aeiou]\",txt2)"
      ],
      "metadata": {
        "colab": {
          "base_uri": "https://localhost:8080/"
        },
        "id": "bO9H3CtMlsgi",
        "outputId": "bf897226-522b-4adb-aacd-aa52f857ebb2"
      },
      "execution_count": null,
      "outputs": [
        {
          "output_type": "execute_result",
          "data": {
            "text/plain": [
              "['F',\n",
              " 'r',\n",
              " 'd',\n",
              " ' ',\n",
              " 'f',\n",
              " 'd',\n",
              " ' ',\n",
              " 'T',\n",
              " 'd',\n",
              " ' ',\n",
              " 'b',\n",
              " 'r',\n",
              " 'd',\n",
              " ',',\n",
              " ' ',\n",
              " 'n',\n",
              " 'd',\n",
              " ' ',\n",
              " 'T',\n",
              " 'd',\n",
              " ' ',\n",
              " 'f',\n",
              " 'd',\n",
              " ' ',\n",
              " 'F',\n",
              " 'r',\n",
              " 'd',\n",
              " ' ',\n",
              " 'b',\n",
              " 'r',\n",
              " 'd']"
            ]
          },
          "metadata": {},
          "execution_count": 61
        }
      ]
    },
    {
      "cell_type": "code",
      "source": [
        "txt = \"Thank You for $55\""
      ],
      "metadata": {
        "id": "mVm2bmlQlyeR"
      },
      "execution_count": null,
      "outputs": []
    },
    {
      "cell_type": "code",
      "source": [
        "re.findall(\"[^ao]\",txt)"
      ],
      "metadata": {
        "colab": {
          "base_uri": "https://localhost:8080/"
        },
        "id": "0BquKdsLmEQw",
        "outputId": "adab670f-00f7-4ac4-ebdb-6cc792879f3f"
      },
      "execution_count": null,
      "outputs": [
        {
          "output_type": "execute_result",
          "data": {
            "text/plain": [
              "['T', 'h', 'n', 'k', ' ', 'Y', 'u', ' ', 'f', 'r', ' ', '$', '5', '5']"
            ]
          },
          "metadata": {},
          "execution_count": 63
        }
      ]
    },
    {
      "cell_type": "markdown",
      "source": [
        "##[125]"
      ],
      "metadata": {
        "id": "jlOkuxi8mUHj"
      }
    },
    {
      "cell_type": "code",
      "source": [
        "#Returns a match when any of the specified digits (1,2,5) are present"
      ],
      "metadata": {
        "id": "pcNzVYKTmKBu"
      },
      "execution_count": null,
      "outputs": []
    },
    {
      "cell_type": "code",
      "source": [
        "txt = \"Thank You for $55\""
      ],
      "metadata": {
        "id": "uO9yX517mifi"
      },
      "execution_count": null,
      "outputs": []
    },
    {
      "cell_type": "code",
      "source": [
        "re.findall(\"[125]\",txt)"
      ],
      "metadata": {
        "colab": {
          "base_uri": "https://localhost:8080/"
        },
        "id": "PwcCcTSdmkan",
        "outputId": "d4786408-ca3d-4141-8eba-cc5b62bf8152"
      },
      "execution_count": null,
      "outputs": [
        {
          "output_type": "execute_result",
          "data": {
            "text/plain": [
              "['5', '5']"
            ]
          },
          "metadata": {},
          "execution_count": 66
        }
      ]
    },
    {
      "cell_type": "markdown",
      "source": [
        "##[0-9]"
      ],
      "metadata": {
        "id": "jEJD92m_mrPZ"
      }
    },
    {
      "cell_type": "code",
      "source": [
        "#Returns a match for any digit between 0 and 9\n",
        "txt = \"Thank You for $58\"\n",
        "re.findall(\"[0-9]\",txt)"
      ],
      "metadata": {
        "colab": {
          "base_uri": "https://localhost:8080/"
        },
        "id": "qaGpwbKNmpZB",
        "outputId": "b117f358-ed94-4821-83f7-9e2411a3f0ce"
      },
      "execution_count": null,
      "outputs": [
        {
          "output_type": "execute_result",
          "data": {
            "text/plain": [
              "['5', '8']"
            ]
          },
          "metadata": {},
          "execution_count": 68
        }
      ]
    },
    {
      "cell_type": "code",
      "source": [
        "txt = \"Thank You for $58\"\n",
        "re.findall(\"[2-6]\",txt)"
      ],
      "metadata": {
        "colab": {
          "base_uri": "https://localhost:8080/"
        },
        "id": "WSi5d7OMn2ML",
        "outputId": "91247085-63ec-4aa2-bad9-cfdcc6db75ad"
      },
      "execution_count": null,
      "outputs": [
        {
          "output_type": "execute_result",
          "data": {
            "text/plain": [
              "['5']"
            ]
          },
          "metadata": {},
          "execution_count": 69
        }
      ]
    },
    {
      "cell_type": "markdown",
      "source": [
        "##[0-5][0-9]"
      ],
      "metadata": {
        "id": "QaHtj6qzoP7k"
      }
    },
    {
      "cell_type": "code",
      "source": [
        "#Check if the string has any two-digits numbers, from 00 to 59"
      ],
      "metadata": {
        "id": "n2dpchsjn-pI"
      },
      "execution_count": null,
      "outputs": []
    },
    {
      "cell_type": "code",
      "source": [
        "txt = \"The time is 08:59 pm\""
      ],
      "metadata": {
        "id": "aeg10U-_ocgi"
      },
      "execution_count": null,
      "outputs": []
    },
    {
      "cell_type": "code",
      "source": [
        "re.findall(\"[0-9][0-9]\",txt)"
      ],
      "metadata": {
        "colab": {
          "base_uri": "https://localhost:8080/"
        },
        "id": "6jwpjLyfoiS_",
        "outputId": "a34ea70c-3080-46b1-8eec-8185be709dd4"
      },
      "execution_count": null,
      "outputs": [
        {
          "output_type": "execute_result",
          "data": {
            "text/plain": [
              "['08', '59']"
            ]
          },
          "metadata": {},
          "execution_count": 73
        }
      ]
    },
    {
      "cell_type": "code",
      "source": [
        "txt = \"Today is 2019-05-29\""
      ],
      "metadata": {
        "id": "KCb4dPh-ooM4"
      },
      "execution_count": null,
      "outputs": []
    },
    {
      "cell_type": "code",
      "source": [
        "re.findall(\"[0-9][0-9]\",txt)"
      ],
      "metadata": {
        "colab": {
          "base_uri": "https://localhost:8080/"
        },
        "id": "DR8z8l3iovuf",
        "outputId": "a9d3dcb6-f125-460d-dc8f-fcaa37a59b1b"
      },
      "execution_count": null,
      "outputs": [
        {
          "output_type": "execute_result",
          "data": {
            "text/plain": [
              "['20', '19', '05', '29']"
            ]
          },
          "metadata": {},
          "execution_count": 75
        }
      ]
    },
    {
      "cell_type": "code",
      "source": [
        "re.findall(\"[0-9][0-9][0-9][0-9]\",txt)"
      ],
      "metadata": {
        "colab": {
          "base_uri": "https://localhost:8080/"
        },
        "id": "uesGAnHToxrG",
        "outputId": "86fad569-501d-4520-fa98-9a9259eeba5c"
      },
      "execution_count": null,
      "outputs": [
        {
          "output_type": "execute_result",
          "data": {
            "text/plain": [
              "['2019']"
            ]
          },
          "metadata": {},
          "execution_count": 76
        }
      ]
    },
    {
      "cell_type": "code",
      "source": [
        "txt = \"Year 2019 AD and 5580 BC\""
      ],
      "metadata": {
        "id": "0kYT1LB_pFLP"
      },
      "execution_count": null,
      "outputs": []
    },
    {
      "cell_type": "code",
      "source": [
        "re.findall(\"[5-9][5-9][0-9][0-9]\",txt)"
      ],
      "metadata": {
        "colab": {
          "base_uri": "https://localhost:8080/"
        },
        "id": "e8UgOK7Ho29n",
        "outputId": "66d40918-14e3-4cde-8f83-8acf0ba639c6"
      },
      "execution_count": null,
      "outputs": [
        {
          "output_type": "execute_result",
          "data": {
            "text/plain": [
              "['5580']"
            ]
          },
          "metadata": {},
          "execution_count": 79
        }
      ]
    },
    {
      "cell_type": "markdown",
      "source": [
        "##[a-zA-Z]"
      ],
      "metadata": {
        "id": "EBYeX7NRpasR"
      }
    },
    {
      "cell_type": "code",
      "source": [
        "#Returns a match for any character alphabetically between a and z\n",
        "#lower case OR upper case"
      ],
      "metadata": {
        "id": "KSfHR-bXpPEe"
      },
      "execution_count": null,
      "outputs": []
    },
    {
      "cell_type": "code",
      "source": [
        "txt = \"Year 2019 AD and 5580 BC\""
      ],
      "metadata": {
        "id": "Wlg5yhVgpsaS"
      },
      "execution_count": null,
      "outputs": []
    },
    {
      "cell_type": "code",
      "source": [
        "re.findall(\"[a-zA-Z]\",txt)"
      ],
      "metadata": {
        "colab": {
          "base_uri": "https://localhost:8080/"
        },
        "id": "vYbn2m8Kpwir",
        "outputId": "29066e81-fd44-44fb-f142-c839165ec0bc"
      },
      "execution_count": null,
      "outputs": [
        {
          "output_type": "execute_result",
          "data": {
            "text/plain": [
              "['Y', 'e', 'a', 'r', 'A', 'D', 'a', 'n', 'd', 'B', 'C']"
            ]
          },
          "metadata": {},
          "execution_count": 82
        }
      ]
    },
    {
      "cell_type": "code",
      "source": [
        "re.findall(\"[m-zA-M]\",txt)"
      ],
      "metadata": {
        "colab": {
          "base_uri": "https://localhost:8080/"
        },
        "id": "0SuwBBDhp2tg",
        "outputId": "5396e327-3a5e-4d07-aaa8-8d4689a31259"
      },
      "execution_count": null,
      "outputs": [
        {
          "output_type": "execute_result",
          "data": {
            "text/plain": [
              "['r', 'A', 'D', 'n', 'B', 'C']"
            ]
          },
          "metadata": {},
          "execution_count": 83
        }
      ]
    },
    {
      "cell_type": "code",
      "source": [
        "re.findall(\"[a-fM-Z]\",txt)"
      ],
      "metadata": {
        "colab": {
          "base_uri": "https://localhost:8080/"
        },
        "id": "YvCgL25tp_Om",
        "outputId": "0a85f07e-ffda-4a96-afb7-ac07d11a6d3c"
      },
      "execution_count": null,
      "outputs": [
        {
          "output_type": "execute_result",
          "data": {
            "text/plain": [
              "['Y', 'e', 'a', 'a', 'd']"
            ]
          },
          "metadata": {},
          "execution_count": 84
        }
      ]
    },
    {
      "cell_type": "code",
      "source": [
        "re.findall(\"[0-8A-Z]\",txt)"
      ],
      "metadata": {
        "colab": {
          "base_uri": "https://localhost:8080/"
        },
        "id": "3sHisy8NqB_4",
        "outputId": "49836327-dcb1-4173-f5a7-46214b64dac2"
      },
      "execution_count": null,
      "outputs": [
        {
          "output_type": "execute_result",
          "data": {
            "text/plain": [
              "['Y', '2', '0', '1', 'A', 'D', '5', '5', '8', '0', 'B', 'C']"
            ]
          },
          "metadata": {},
          "execution_count": 85
        }
      ]
    },
    {
      "cell_type": "markdown",
      "source": [
        "##[+]"
      ],
      "metadata": {
        "id": "j49qOMnoqKMY"
      }
    },
    {
      "cell_type": "code",
      "source": [
        "#Check if the string has any + characters"
      ],
      "metadata": {
        "id": "7dhHe0bBqFDO"
      },
      "execution_count": null,
      "outputs": []
    },
    {
      "cell_type": "code",
      "source": [
        "txt = \"Year 2019 AD and 5580 BC\"\n",
        "re.findall(\"[+]\",txt)"
      ],
      "metadata": {
        "colab": {
          "base_uri": "https://localhost:8080/"
        },
        "id": "Wp6G7bBzqUI9",
        "outputId": "e643b761-a512-479d-ab3b-33208d0fffb0"
      },
      "execution_count": null,
      "outputs": [
        {
          "output_type": "execute_result",
          "data": {
            "text/plain": [
              "[]"
            ]
          },
          "metadata": {},
          "execution_count": 87
        }
      ]
    },
    {
      "cell_type": "code",
      "source": [
        "txt = \"5+9 is fourteen\"\n",
        "re.findall(\"[+]\",txt)"
      ],
      "metadata": {
        "colab": {
          "base_uri": "https://localhost:8080/"
        },
        "id": "n1lLaZ_Gqh6m",
        "outputId": "5e33c00a-d79e-4796-f2f6-33527a56922b"
      },
      "execution_count": null,
      "outputs": [
        {
          "output_type": "execute_result",
          "data": {
            "text/plain": [
              "['+']"
            ]
          },
          "metadata": {},
          "execution_count": 88
        }
      ]
    },
    {
      "cell_type": "code",
      "source": [
        "txt = \"5+9 is fourteen but 5*9 is forty-five\"\n",
        "re.findall(\"[*]\",txt)"
      ],
      "metadata": {
        "colab": {
          "base_uri": "https://localhost:8080/"
        },
        "id": "bQ2tT8UqkvOF",
        "outputId": "f7a256ce-9201-460c-d5a6-b7011bd424ee"
      },
      "execution_count": null,
      "outputs": [
        {
          "output_type": "execute_result",
          "data": {
            "text/plain": [
              "['*']"
            ]
          },
          "metadata": {},
          "execution_count": 89
        }
      ]
    },
    {
      "cell_type": "code",
      "source": [
        "txt = \"my@email.com\"\n",
        "re.findall(\"[@]\",txt)"
      ],
      "metadata": {
        "colab": {
          "base_uri": "https://localhost:8080/"
        },
        "id": "NcfohO0bq04v",
        "outputId": "1f88440e-b289-4c18-e3d4-dada31bcffdc"
      },
      "execution_count": null,
      "outputs": [
        {
          "output_type": "execute_result",
          "data": {
            "text/plain": [
              "['@']"
            ]
          },
          "metadata": {},
          "execution_count": 90
        }
      ]
    },
    {
      "cell_type": "markdown",
      "source": [
        "#Metacharacters"
      ],
      "metadata": {
        "id": "fFCUGZfGr40n"
      }
    },
    {
      "cell_type": "markdown",
      "source": [
        "##[]"
      ],
      "metadata": {
        "id": "QTr-IenBr7xa"
      }
    },
    {
      "cell_type": "code",
      "source": [
        "#A set of characters\n",
        "import re"
      ],
      "metadata": {
        "id": "6cwUf4FKq_jM"
      },
      "execution_count": null,
      "outputs": []
    },
    {
      "cell_type": "code",
      "source": [
        "re.findall(\"[a-f]\",\"Hello Ocean\")"
      ],
      "metadata": {
        "colab": {
          "base_uri": "https://localhost:8080/"
        },
        "id": "P2tmxisYsCWH",
        "outputId": "6741717f-0820-44e7-a8ab-bc7d8d1f2a05"
      },
      "execution_count": null,
      "outputs": [
        {
          "output_type": "execute_result",
          "data": {
            "text/plain": [
              "['e', 'c', 'e', 'a']"
            ]
          },
          "metadata": {},
          "execution_count": 2
        }
      ]
    },
    {
      "cell_type": "markdown",
      "source": [
        "##\\\\"
      ],
      "metadata": {
        "id": "PSbqNo-QsLAk"
      }
    },
    {
      "cell_type": "code",
      "source": [
        "#Signals a special sequence\n",
        "re.findall(\"\\d\",\"Searching for 789\")"
      ],
      "metadata": {
        "colab": {
          "base_uri": "https://localhost:8080/"
        },
        "id": "t2gz6_-HsJwW",
        "outputId": "82d30873-fb47-4ea6-ed36-b1b9be7d58c9"
      },
      "execution_count": null,
      "outputs": [
        {
          "output_type": "execute_result",
          "data": {
            "text/plain": [
              "['7', '8', '9']"
            ]
          },
          "metadata": {},
          "execution_count": 3
        }
      ]
    },
    {
      "cell_type": "markdown",
      "source": [
        "##."
      ],
      "metadata": {
        "id": "F2Wr15sosYgk"
      }
    },
    {
      "cell_type": "code",
      "source": [
        "#Any characters except newline character\n",
        "txt = \"This i$ a #up @p \\n Tea at 5 am\""
      ],
      "metadata": {
        "id": "6ioT4R2UsW06"
      },
      "execution_count": null,
      "outputs": []
    },
    {
      "cell_type": "code",
      "source": [
        "re.findall(\".\",txt)"
      ],
      "metadata": {
        "id": "1LitBUPusozN"
      },
      "execution_count": null,
      "outputs": []
    },
    {
      "cell_type": "code",
      "source": [
        "#search for a sequence that starts with \"ab\" followed by two (any) characters, and a 't'\n",
        "txt = \"abject, abduct, abrupt, abaft,abbot, ab***t, ab%%$t, ab@#t\"\n",
        "re.findall(\"ab...t\",txt)"
      ],
      "metadata": {
        "colab": {
          "base_uri": "https://localhost:8080/"
        },
        "id": "aDUkVCfksr2u",
        "outputId": "b206dd75-4524-4d06-9248-e840b444c327"
      },
      "execution_count": null,
      "outputs": [
        {
          "output_type": "execute_result",
          "data": {
            "text/plain": [
              "['abject', 'abduct', 'abrupt', 'ab***t', 'ab%%$t']"
            ]
          },
          "metadata": {},
          "execution_count": 8
        }
      ]
    },
    {
      "cell_type": "markdown",
      "source": [
        "##^"
      ],
      "metadata": {
        "id": "MI9_AYuOt6Y-"
      }
    },
    {
      "cell_type": "code",
      "source": [
        "#Check if the string starts with \"How\"\n",
        "txt = \"How can a clam cram in a clean cream can?\"\n",
        "re.findall(\"^How\",txt)"
      ],
      "metadata": {
        "colab": {
          "base_uri": "https://localhost:8080/"
        },
        "id": "Se6XXdwltgfg",
        "outputId": "dbc0e509-8036-433b-f19c-e569bcc293a8"
      },
      "execution_count": null,
      "outputs": [
        {
          "output_type": "execute_result",
          "data": {
            "text/plain": [
              "['How']"
            ]
          },
          "metadata": {},
          "execution_count": 9
        }
      ]
    },
    {
      "cell_type": "code",
      "source": [
        "re.findall(\"^can\",txt)"
      ],
      "metadata": {
        "colab": {
          "base_uri": "https://localhost:8080/"
        },
        "id": "o_4NHJoM2Pzz",
        "outputId": "e7175436-f2f2-40b1-ef71-5d06adae2518"
      },
      "execution_count": null,
      "outputs": [
        {
          "output_type": "execute_result",
          "data": {
            "text/plain": [
              "[]"
            ]
          },
          "metadata": {},
          "execution_count": 10
        }
      ]
    },
    {
      "cell_type": "markdown",
      "source": [
        "##$"
      ],
      "metadata": {
        "id": "rEfPM_XQ2boJ"
      }
    },
    {
      "cell_type": "code",
      "source": [
        "##Check if the string ends with \"How\"\n",
        "txt = \"How can a clam cram in a clean cream can?\"\n",
        "re.findall(\"How$\",txt)"
      ],
      "metadata": {
        "colab": {
          "base_uri": "https://localhost:8080/"
        },
        "id": "-3wGYBtk2U-8",
        "outputId": "c0ed02dc-31a7-45c0-da5f-84852ddb28a2"
      },
      "execution_count": null,
      "outputs": [
        {
          "output_type": "execute_result",
          "data": {
            "text/plain": [
              "[]"
            ]
          },
          "metadata": {},
          "execution_count": 11
        }
      ]
    },
    {
      "cell_type": "code",
      "source": [
        "\n",
        "txt = \"How can a clam cram in a clean cream can?\"\n",
        "re.findall(\"$How\",txt)"
      ],
      "metadata": {
        "colab": {
          "base_uri": "https://localhost:8080/"
        },
        "id": "3iptOGTn2jhT",
        "outputId": "5df2e570-4895-41d9-9145-d91f8517a5eb"
      },
      "execution_count": null,
      "outputs": [
        {
          "output_type": "execute_result",
          "data": {
            "text/plain": [
              "[]"
            ]
          },
          "metadata": {},
          "execution_count": 12
        }
      ]
    },
    {
      "cell_type": "code",
      "source": [
        "txt = \"How can a clam cram in a clean cream can?\"\n",
        "re.findall(\"$can\",txt)"
      ],
      "metadata": {
        "colab": {
          "base_uri": "https://localhost:8080/"
        },
        "id": "zvrXO4HO2prV",
        "outputId": "879de4a4-ee23-40b8-91d8-60fad9655118"
      },
      "execution_count": null,
      "outputs": [
        {
          "output_type": "execute_result",
          "data": {
            "text/plain": [
              "[]"
            ]
          },
          "metadata": {},
          "execution_count": 14
        }
      ]
    },
    {
      "cell_type": "code",
      "source": [
        "#Check if the string ends with can?\n",
        "\n",
        "txt = \"How can a clam cram in a clean cream can?\"\n",
        "re.findall(\"can\\?$\",txt)"
      ],
      "metadata": {
        "colab": {
          "base_uri": "https://localhost:8080/"
        },
        "id": "SXRc-EwD2xT1",
        "outputId": "93cbf263-60da-4453-8dd3-193133dbf2ee"
      },
      "execution_count": null,
      "outputs": [
        {
          "output_type": "execute_result",
          "data": {
            "text/plain": [
              "['can?']"
            ]
          },
          "metadata": {},
          "execution_count": 18
        }
      ]
    },
    {
      "cell_type": "markdown",
      "source": [
        "##*"
      ],
      "metadata": {
        "id": "c-RuGeDI3KQU"
      }
    },
    {
      "cell_type": "code",
      "source": [
        "#Zero or more occurence"
      ],
      "metadata": {
        "id": "x9lZpKEf3FLD"
      },
      "execution_count": null,
      "outputs": []
    },
    {
      "cell_type": "code",
      "source": [
        "txt = \"abt, abbbt, aaabttt, act, abct, aabbt,aaaa,bct,bat,t,ab,at\"\n",
        "re.findall(\"ab*t\",txt)"
      ],
      "metadata": {
        "colab": {
          "base_uri": "https://localhost:8080/"
        },
        "id": "l4U8ZdsY3N-z",
        "outputId": "6b022a95-5218-4cb8-dd70-b82f93a56e74"
      },
      "execution_count": null,
      "outputs": [
        {
          "output_type": "execute_result",
          "data": {
            "text/plain": [
              "['abt', 'abbbt', 'abt', 'abbt', 'at', 'at']"
            ]
          },
          "metadata": {},
          "execution_count": 49
        }
      ]
    },
    {
      "cell_type": "code",
      "source": [
        "txt = \"Spider, Spiiider, Spder, pider\"\n",
        "re.findall(\"Spi*der\",txt)"
      ],
      "metadata": {
        "colab": {
          "base_uri": "https://localhost:8080/"
        },
        "id": "I3P7JRT2Enm1",
        "outputId": "bee0b7de-16d9-4354-d2bb-98b8065fff64"
      },
      "execution_count": null,
      "outputs": [
        {
          "output_type": "execute_result",
          "data": {
            "text/plain": [
              "['Spider', 'Spiiider', 'Spder']"
            ]
          },
          "metadata": {},
          "execution_count": 54
        }
      ]
    },
    {
      "cell_type": "markdown",
      "source": [
        "##+"
      ],
      "metadata": {
        "id": "vz6DDy62Az5G"
      }
    },
    {
      "cell_type": "code",
      "source": [
        "#One or more occurence"
      ],
      "metadata": {
        "id": "zdXuMtqIAlNq"
      },
      "execution_count": null,
      "outputs": []
    },
    {
      "cell_type": "code",
      "source": [
        "#Here we need at least one 'b' between a and t\n",
        "txt = \"abt, abbbt, aaabttt, act, abct, aabbt,aaaa,bct,bat,t,ab,at\"\n",
        "re.findall(\"ab+t\",txt)"
      ],
      "metadata": {
        "colab": {
          "base_uri": "https://localhost:8080/"
        },
        "id": "tpi9d1e9CqiD",
        "outputId": "275eb959-4b48-4ec5-cbd5-74f05906c2b1"
      },
      "execution_count": null,
      "outputs": [
        {
          "output_type": "execute_result",
          "data": {
            "text/plain": [
              "['abt', 'abbbt', 'abt', 'abbt']"
            ]
          },
          "metadata": {},
          "execution_count": 51
        }
      ]
    },
    {
      "cell_type": "code",
      "source": [
        "txt = \"Spider, Spiiider, Spder, pider\"\n",
        "re.findall(\"Spi+der\",txt)"
      ],
      "metadata": {
        "colab": {
          "base_uri": "https://localhost:8080/"
        },
        "id": "H49W_CarEJkP",
        "outputId": "0eb96e70-327f-481a-8e30-3fb141d9305e"
      },
      "execution_count": null,
      "outputs": [
        {
          "output_type": "execute_result",
          "data": {
            "text/plain": [
              "['Spider', 'Spiiider']"
            ]
          },
          "metadata": {},
          "execution_count": 53
        }
      ]
    },
    {
      "cell_type": "markdown",
      "source": [
        "##?"
      ],
      "metadata": {
        "id": "gjytfXlIFu6Y"
      }
    },
    {
      "cell_type": "code",
      "source": [
        "#Zero or one occurences"
      ],
      "metadata": {
        "id": "PI7zdiAOEjKW"
      },
      "execution_count": 2,
      "outputs": []
    },
    {
      "cell_type": "code",
      "source": [
        "txt = \"abt, abbbt, aaabttt, act, abct, aabbt,aaaa,bct,bat,t,ab,at\"\n",
        "re.findall(\"ab?t\",txt)"
      ],
      "metadata": {
        "colab": {
          "base_uri": "https://localhost:8080/"
        },
        "id": "V1k2ggXKDMBG",
        "outputId": "9215c34b-f808-4602-a3e5-b4c285f5a5f5"
      },
      "execution_count": 3,
      "outputs": [
        {
          "output_type": "execute_result",
          "data": {
            "text/plain": [
              "['abt', 'abt', 'at', 'at']"
            ]
          },
          "metadata": {},
          "execution_count": 3
        }
      ]
    },
    {
      "cell_type": "markdown",
      "source": [
        "##{}"
      ],
      "metadata": {
        "id": "Y7jLSWvDGDgh"
      }
    },
    {
      "cell_type": "code",
      "source": [
        "#Exactly the specified number of occurences"
      ],
      "metadata": {
        "id": "RRTuaf2DF3Wc"
      },
      "execution_count": 4,
      "outputs": []
    },
    {
      "cell_type": "code",
      "source": [
        "txt = \"abt, abbbt, aaabttt, act, abct, aabbt,aaaa,bct,bat,t,ab,at\"\n",
        "re.findall(\"ab{2}t\",txt)"
      ],
      "metadata": {
        "colab": {
          "base_uri": "https://localhost:8080/"
        },
        "id": "BxTc_eeFGIkG",
        "outputId": "7ec35a48-015f-44ac-a93c-188236c76f12"
      },
      "execution_count": 5,
      "outputs": [
        {
          "output_type": "execute_result",
          "data": {
            "text/plain": [
              "['abbt']"
            ]
          },
          "metadata": {},
          "execution_count": 5
        }
      ]
    },
    {
      "cell_type": "markdown",
      "source": [
        "## |"
      ],
      "metadata": {
        "id": "LsDLC2i0PaIT"
      }
    },
    {
      "cell_type": "code",
      "source": [
        "#or"
      ],
      "metadata": {
        "id": "qCpujRMuGMV6"
      },
      "execution_count": 6,
      "outputs": []
    },
    {
      "cell_type": "code",
      "source": [
        "txt = \"Its either Sunday or Wednesday but not Monday\""
      ],
      "metadata": {
        "id": "Z3JKxNKJCva-"
      },
      "execution_count": 7,
      "outputs": []
    },
    {
      "cell_type": "code",
      "source": [
        "re.findall(\"Sunday|Monday\",txt)"
      ],
      "metadata": {
        "colab": {
          "base_uri": "https://localhost:8080/"
        },
        "id": "-hdJLJkqPrYQ",
        "outputId": "d2eb3370-bdd2-41a9-d1b4-7f65ddb1aa18"
      },
      "execution_count": 8,
      "outputs": [
        {
          "output_type": "execute_result",
          "data": {
            "text/plain": [
              "['Sunday', 'Monday']"
            ]
          },
          "metadata": {},
          "execution_count": 8
        }
      ]
    },
    {
      "cell_type": "code",
      "source": [
        "re.findall(\"Sunday|Saturday\",txt)"
      ],
      "metadata": {
        "colab": {
          "base_uri": "https://localhost:8080/"
        },
        "id": "Gsswus4fPxK7",
        "outputId": "f2c5a984-b59d-49b9-a3aa-09a14b43d5a4"
      },
      "execution_count": 9,
      "outputs": [
        {
          "output_type": "execute_result",
          "data": {
            "text/plain": [
              "['Sunday']"
            ]
          },
          "metadata": {},
          "execution_count": 9
        }
      ]
    },
    {
      "cell_type": "markdown",
      "source": [
        "##()"
      ],
      "metadata": {
        "id": "WBAaeuDOVoNv"
      }
    },
    {
      "cell_type": "code",
      "source": [
        "#Grouping"
      ],
      "metadata": {
        "id": "nilcgz2RP1v5"
      },
      "execution_count": 10,
      "outputs": []
    },
    {
      "cell_type": "code",
      "source": [
        "txt = \"Haaaaaha\""
      ],
      "metadata": {
        "id": "nBXN_nq-AciV"
      },
      "execution_count": 11,
      "outputs": []
    },
    {
      "cell_type": "code",
      "source": [
        "re.findall((\"Ha\"),txt)"
      ],
      "metadata": {
        "colab": {
          "base_uri": "https://localhost:8080/"
        },
        "id": "AWloTa4RV0Mc",
        "outputId": "cdc6d8c3-21c5-4959-ca54-56061000e18f"
      },
      "execution_count": 12,
      "outputs": [
        {
          "output_type": "execute_result",
          "data": {
            "text/plain": [
              "['Ha']"
            ]
          },
          "metadata": {},
          "execution_count": 12
        }
      ]
    },
    {
      "cell_type": "code",
      "source": [
        "txt2 = \"HahaHaaHaHaa\""
      ],
      "metadata": {
        "id": "EW0Xp2SuV4v1"
      },
      "execution_count": 13,
      "outputs": []
    },
    {
      "cell_type": "code",
      "source": [
        "re.findall((\"Ha\"),txt2)"
      ],
      "metadata": {
        "colab": {
          "base_uri": "https://localhost:8080/"
        },
        "id": "iudf3w_gV_Ei",
        "outputId": "adad117f-54f1-4c47-c15a-f7a38813db7a"
      },
      "execution_count": 14,
      "outputs": [
        {
          "output_type": "execute_result",
          "data": {
            "text/plain": [
              "['Ha', 'Ha', 'Ha', 'Ha']"
            ]
          },
          "metadata": {},
          "execution_count": 14
        }
      ]
    },
    {
      "cell_type": "code",
      "source": [
        "txt3 = \"HaaaaHaHaHaHaaaaaHaHa\""
      ],
      "metadata": {
        "id": "dlFIEwzoWBIz"
      },
      "execution_count": 15,
      "outputs": []
    },
    {
      "cell_type": "code",
      "source": [
        "re.findall((\"Ha\"),txt3)"
      ],
      "metadata": {
        "colab": {
          "base_uri": "https://localhost:8080/"
        },
        "id": "MecqrY2hWNx3",
        "outputId": "eee1a14d-4f7a-4d17-c54e-58c75176b79a"
      },
      "execution_count": 17,
      "outputs": [
        {
          "output_type": "execute_result",
          "data": {
            "text/plain": [
              "['Ha', 'Ha', 'Ha', 'Ha', 'Ha', 'Ha', 'Ha']"
            ]
          },
          "metadata": {},
          "execution_count": 17
        }
      ]
    },
    {
      "cell_type": "code",
      "source": [
        "ha = re.compile(r'(Ha){4}')"
      ],
      "metadata": {
        "id": "spJ1CPKhWPXB"
      },
      "execution_count": 23,
      "outputs": []
    },
    {
      "cell_type": "code",
      "source": [
        "ha.findall(txt3)"
      ],
      "metadata": {
        "colab": {
          "base_uri": "https://localhost:8080/"
        },
        "id": "KZs16naIWnZ4",
        "outputId": "c5a68feb-8304-4d20-a88b-13a6ede3c5de"
      },
      "execution_count": 24,
      "outputs": [
        {
          "output_type": "execute_result",
          "data": {
            "text/plain": [
              "['Ha']"
            ]
          },
          "metadata": {},
          "execution_count": 24
        }
      ]
    },
    {
      "cell_type": "markdown",
      "source": [
        "#Case Insensitive Matching"
      ],
      "metadata": {
        "id": "lT0zwiAcXSvq"
      }
    },
    {
      "cell_type": "code",
      "source": [
        "regex1 = re.compile(\"Indonesia\")\n",
        "regex2 = re.compile(\"InDoNeSIA\")\n",
        "regex3 = re.compile(\"indoneSIA\")"
      ],
      "metadata": {
        "id": "-XMZUNlYWqUY"
      },
      "execution_count": 25,
      "outputs": []
    },
    {
      "cell_type": "code",
      "source": [
        "indo = re.compile(r'indonesia',re.IGNORECASE)"
      ],
      "metadata": {
        "id": "e_UxfvMqXmRE"
      },
      "execution_count": 37,
      "outputs": []
    },
    {
      "cell_type": "code",
      "source": [
        "txt = \"Capital of Indonesia is JAkarta\"\n",
        "txt2 = \"GDP of IndonesiA is 1.186 Trillion USD\"\n",
        "txt3 = \"There are over 17000 island in INDOnesia\""
      ],
      "metadata": {
        "id": "V0cbI0L9XvFs"
      },
      "execution_count": 42,
      "outputs": []
    },
    {
      "cell_type": "code",
      "source": [
        "indo.search(txt)"
      ],
      "metadata": {
        "colab": {
          "base_uri": "https://localhost:8080/"
        },
        "id": "BaOQAgJoYM_j",
        "outputId": "13f1a5b5-6df2-454c-8b84-5f167820756e"
      },
      "execution_count": 38,
      "outputs": [
        {
          "output_type": "execute_result",
          "data": {
            "text/plain": [
              "<re.Match object; span=(11, 20), match='Indonesia'>"
            ]
          },
          "metadata": {},
          "execution_count": 38
        }
      ]
    },
    {
      "cell_type": "code",
      "source": [
        "indo.search(txt2)"
      ],
      "metadata": {
        "colab": {
          "base_uri": "https://localhost:8080/"
        },
        "id": "731QDou3YWbW",
        "outputId": "f1badbb4-6f40-47a1-e02b-48338ce81e34"
      },
      "execution_count": 43,
      "outputs": [
        {
          "output_type": "execute_result",
          "data": {
            "text/plain": [
              "<re.Match object; span=(7, 16), match='IndonesiA'>"
            ]
          },
          "metadata": {},
          "execution_count": 43
        }
      ]
    },
    {
      "cell_type": "code",
      "source": [
        "indo.search(txt2).group()"
      ],
      "metadata": {
        "colab": {
          "base_uri": "https://localhost:8080/",
          "height": 35
        },
        "id": "u6S6Qy4LYbxX",
        "outputId": "0c6d597e-b038-4638-e7e4-590bce54b2db"
      },
      "execution_count": 44,
      "outputs": [
        {
          "output_type": "execute_result",
          "data": {
            "text/plain": [
              "'IndonesiA'"
            ],
            "application/vnd.google.colaboratory.intrinsic+json": {
              "type": "string"
            }
          },
          "metadata": {},
          "execution_count": 44
        }
      ]
    },
    {
      "cell_type": "code",
      "source": [
        "indo.search(txt3).group()"
      ],
      "metadata": {
        "colab": {
          "base_uri": "https://localhost:8080/",
          "height": 35
        },
        "id": "Ema1wmv7Y6E5",
        "outputId": "117ec3e5-a950-4ad8-c95f-000783d4e86a"
      },
      "execution_count": 45,
      "outputs": [
        {
          "output_type": "execute_result",
          "data": {
            "text/plain": [
              "'INDOnesia'"
            ],
            "application/vnd.google.colaboratory.intrinsic+json": {
              "type": "string"
            }
          },
          "metadata": {},
          "execution_count": 45
        }
      ]
    },
    {
      "cell_type": "markdown",
      "source": [
        "#Subsituting Strings with the sub() method "
      ],
      "metadata": {
        "id": "qAmJISV5ZCY9"
      }
    },
    {
      "cell_type": "code",
      "source": [
        "capital = re.compile(r'Sumatra')"
      ],
      "metadata": {
        "id": "Cod7azftZymG"
      },
      "execution_count": 47,
      "outputs": []
    },
    {
      "cell_type": "code",
      "source": [
        "txt = \"Sumatra is Capital of Indonesia.\""
      ],
      "metadata": {
        "id": "3Bz-OOd4ZHpV"
      },
      "execution_count": 46,
      "outputs": []
    },
    {
      "cell_type": "code",
      "source": [
        "capital.sub(\"Jakarta\",txt)"
      ],
      "metadata": {
        "colab": {
          "base_uri": "https://localhost:8080/",
          "height": 35
        },
        "id": "-DxFTwAsZ5UY",
        "outputId": "5d304043-8688-4690-adc8-4c2b7d7f5c03"
      },
      "execution_count": 50,
      "outputs": [
        {
          "output_type": "execute_result",
          "data": {
            "text/plain": [
              "'Jakarta is Capital of Indonesia.'"
            ],
            "application/vnd.google.colaboratory.intrinsic+json": {
              "type": "string"
            }
          },
          "metadata": {},
          "execution_count": 50
        }
      ]
    },
    {
      "cell_type": "code",
      "source": [
        "txt = \"Sumatra is Capital of Indonesia. Sumatra sits on the northwest coast of the island of Java.\""
      ],
      "metadata": {
        "id": "XAdM1hu6ZxFl"
      },
      "execution_count": 53,
      "outputs": []
    },
    {
      "cell_type": "code",
      "source": [
        "capital.sub(\"Jakarta\",txt)"
      ],
      "metadata": {
        "colab": {
          "base_uri": "https://localhost:8080/",
          "height": 35
        },
        "id": "jLHbx9iZaUb3",
        "outputId": "7dd8bc53-814a-4d36-8a4b-b9a4a18c8729"
      },
      "execution_count": 54,
      "outputs": [
        {
          "output_type": "execute_result",
          "data": {
            "text/plain": [
              "'Jakarta is Capital of Indonesia. Jakarta sits on the northwest coast of the island of Java.'"
            ],
            "application/vnd.google.colaboratory.intrinsic+json": {
              "type": "string"
            }
          },
          "metadata": {},
          "execution_count": 54
        }
      ]
    },
    {
      "cell_type": "code",
      "source": [
        "#Replacing all numbers with ***"
      ],
      "metadata": {
        "id": "6KpedHtUaWI2"
      },
      "execution_count": 55,
      "outputs": []
    },
    {
      "cell_type": "code",
      "source": [
        "#pattern\n",
        "pattern = re.compile(r'[0-9]+')"
      ],
      "metadata": {
        "id": "I-7XEXoIcOj_"
      },
      "execution_count": 58,
      "outputs": []
    },
    {
      "cell_type": "code",
      "source": [
        "txt = \"Credit card number: 123-456-896 amount 55.62\""
      ],
      "metadata": {
        "id": "nyMiQTGbcWzh"
      },
      "execution_count": 57,
      "outputs": []
    },
    {
      "cell_type": "code",
      "source": [
        "pattern.sub('***',txt)"
      ],
      "metadata": {
        "colab": {
          "base_uri": "https://localhost:8080/",
          "height": 35
        },
        "id": "X_o7kWiBcdoi",
        "outputId": "8d58ce5b-454d-4e0f-af64-0da4c7f92b61"
      },
      "execution_count": 61,
      "outputs": [
        {
          "output_type": "execute_result",
          "data": {
            "text/plain": [
              "'Credit card number: ***-***-*** amount ***.***'"
            ],
            "application/vnd.google.colaboratory.intrinsic+json": {
              "type": "string"
            }
          },
          "metadata": {},
          "execution_count": 61
        }
      ]
    },
    {
      "cell_type": "code",
      "source": [
        "#Limiting number of replacement"
      ],
      "metadata": {
        "id": "PDms43jPY8dO"
      },
      "execution_count": 62,
      "outputs": []
    },
    {
      "cell_type": "code",
      "source": [
        "pattern.sub('***',txt,count=2)"
      ],
      "metadata": {
        "colab": {
          "base_uri": "https://localhost:8080/",
          "height": 35
        },
        "id": "HeDyOTUydAGV",
        "outputId": "893b90e1-d579-4a3b-ee7f-2367fe671d00"
      },
      "execution_count": 63,
      "outputs": [
        {
          "output_type": "execute_result",
          "data": {
            "text/plain": [
              "'Credit card number: ***-***-896 amount 55.62'"
            ],
            "application/vnd.google.colaboratory.intrinsic+json": {
              "type": "string"
            }
          },
          "metadata": {},
          "execution_count": 63
        }
      ]
    },
    {
      "cell_type": "code",
      "source": [
        "#using sub to replace the plain phone number"
      ],
      "metadata": {
        "id": "OeAKqm0PdFKY"
      },
      "execution_count": 64,
      "outputs": []
    },
    {
      "cell_type": "code",
      "source": [
        "txt = \"(212)-456-9870\""
      ],
      "metadata": {
        "id": "SdBtxt4-dg7G"
      },
      "execution_count": 65,
      "outputs": []
    },
    {
      "cell_type": "code",
      "source": [
        "pattern = re.compile(r'\\D')"
      ],
      "metadata": {
        "id": "ltpIZd9rdlsA"
      },
      "execution_count": 66,
      "outputs": []
    },
    {
      "cell_type": "code",
      "source": [
        "pattern.sub(\"\",txt)"
      ],
      "metadata": {
        "colab": {
          "base_uri": "https://localhost:8080/",
          "height": 35
        },
        "id": "f8trOMkpdqf_",
        "outputId": "e2a13208-7764-4ebe-ff01-11cd29cb96e7"
      },
      "execution_count": 67,
      "outputs": [
        {
          "output_type": "execute_result",
          "data": {
            "text/plain": [
              "'2124569870'"
            ],
            "application/vnd.google.colaboratory.intrinsic+json": {
              "type": "string"
            }
          },
          "metadata": {},
          "execution_count": 67
        }
      ]
    },
    {
      "cell_type": "code",
      "source": [
        "#\\D is inverse digit character set that matches any single character\n",
        "#which is not a digit.\n",
        "#Therefore, the sub() functjion replaces all non-digit characters with the empty string ''"
      ],
      "metadata": {
        "id": "Dtx4NCq7d7MY"
      },
      "execution_count": 68,
      "outputs": []
    },
    {
      "cell_type": "markdown",
      "source": [
        "#Few common examples"
      ],
      "metadata": {
        "id": "0raBftIQgHB9"
      }
    },
    {
      "cell_type": "markdown",
      "source": [
        "##Date Pattern"
      ],
      "metadata": {
        "id": "E-fqFifZgKV1"
      }
    },
    {
      "cell_type": "code",
      "source": [
        "pattern = \"\\d{2}[/-]\\d{2}[/-]\\d{4}\""
      ],
      "metadata": {
        "id": "oCKQ7_ryWe-E"
      },
      "execution_count": 69,
      "outputs": []
    },
    {
      "cell_type": "code",
      "source": [
        "pattern = \"\\d{4}\""
      ],
      "metadata": {
        "id": "FZ6uoClbhN_X"
      },
      "execution_count": 75,
      "outputs": []
    },
    {
      "cell_type": "code",
      "source": [
        "txt = \"The major dates of her life: 2012-12-12 1963-01-31 and 2000/05/30\""
      ],
      "metadata": {
        "id": "TQj0lHCtgWPP"
      },
      "execution_count": 76,
      "outputs": []
    },
    {
      "cell_type": "code",
      "source": [
        "re.findall(pattern,txt)"
      ],
      "metadata": {
        "colab": {
          "base_uri": "https://localhost:8080/"
        },
        "id": "WSVDarUigzqP",
        "outputId": "ed214fd6-4e1b-4629-c8b9-c8d8ed644cce"
      },
      "execution_count": 77,
      "outputs": [
        {
          "output_type": "execute_result",
          "data": {
            "text/plain": [
              "['2012', '1963', '2000']"
            ]
          },
          "metadata": {},
          "execution_count": 77
        }
      ]
    },
    {
      "cell_type": "code",
      "source": [
        "pattern = \"\\d{2}\"\n",
        "re.findall(pattern,txt)"
      ],
      "metadata": {
        "colab": {
          "base_uri": "https://localhost:8080/"
        },
        "id": "ByBgfnLJhGBJ",
        "outputId": "ff94d01d-8309-44c9-aa67-766b793847eb"
      },
      "execution_count": 95,
      "outputs": [
        {
          "output_type": "execute_result",
          "data": {
            "text/plain": [
              "['20', '12', '12', '12', '19', '63', '01', '31', '20', '00', '05', '30']"
            ]
          },
          "metadata": {},
          "execution_count": 95
        }
      ]
    },
    {
      "cell_type": "code",
      "source": [
        "pattern = \"\\d{2}-\\d{2}\"\n",
        "re.findall(pattern,txt)"
      ],
      "metadata": {
        "colab": {
          "base_uri": "https://localhost:8080/"
        },
        "id": "swB05JKbhd5s",
        "outputId": "ae7b38b0-9b52-49ac-9f52-e46a33161660"
      },
      "execution_count": 97,
      "outputs": [
        {
          "output_type": "execute_result",
          "data": {
            "text/plain": [
              "['12-12', '63-01']"
            ]
          },
          "metadata": {},
          "execution_count": 97
        }
      ]
    },
    {
      "cell_type": "code",
      "source": [
        "pattern = \"\\d{4}-\\d{2}-\\d{2}\"\n",
        "re.findall(pattern,txt)"
      ],
      "metadata": {
        "colab": {
          "base_uri": "https://localhost:8080/"
        },
        "id": "pGgAvNiLhhlX",
        "outputId": "1d03ae5c-4a99-489f-e8a1-3dc341382aa8"
      },
      "execution_count": 100,
      "outputs": [
        {
          "output_type": "execute_result",
          "data": {
            "text/plain": [
              "['2012-12-12', '1963-01-31']"
            ]
          },
          "metadata": {},
          "execution_count": 100
        }
      ]
    },
    {
      "cell_type": "code",
      "source": [
        "pattern = r\"\\d{4}[-/]\\d{2}[-/]\\d{2}\"\n",
        "re.findall(pattern,txt)"
      ],
      "metadata": {
        "colab": {
          "base_uri": "https://localhost:8080/"
        },
        "id": "2mucie9SiNi9",
        "outputId": "abb6d82d-7ca4-4994-e96c-3f957d4d5e46"
      },
      "execution_count": 106,
      "outputs": [
        {
          "output_type": "execute_result",
          "data": {
            "text/plain": [
              "['2012-12-12', '1963-01-31', '2000/05/30']"
            ]
          },
          "metadata": {},
          "execution_count": 106
        }
      ]
    },
    {
      "cell_type": "markdown",
      "source": [
        "##time"
      ],
      "metadata": {
        "id": "xIbc1totisiQ"
      }
    },
    {
      "cell_type": "code",
      "source": [
        "txt = \"its 11:15 PM but not 05:16 AM \""
      ],
      "metadata": {
        "id": "MBQSEt-tg8vJ"
      },
      "execution_count": 123,
      "outputs": []
    },
    {
      "cell_type": "code",
      "source": [
        "pattern = r'\\s(\\d{2}\\:\\d{2}\\s?(?:AM|PM|am|pm))'"
      ],
      "metadata": {
        "id": "5hsxmjAwkg13"
      },
      "execution_count": 122,
      "outputs": []
    },
    {
      "cell_type": "code",
      "source": [
        "re.findall(pattern,txt)"
      ],
      "metadata": {
        "colab": {
          "base_uri": "https://localhost:8080/"
        },
        "id": "Ff8tIszUkmXv",
        "outputId": "39c3bc90-52de-4d17-ed48-80cb430d85c3"
      },
      "execution_count": 124,
      "outputs": [
        {
          "output_type": "execute_result",
          "data": {
            "text/plain": [
              "['11:15 PM', '05:16 AM']"
            ]
          },
          "metadata": {},
          "execution_count": 124
        }
      ]
    },
    {
      "cell_type": "code",
      "source": [
        "\"\"\"\n",
        "Explanation:\n",
        "\n",
        "\\s matches any whitespace character (equal to [\\r\\n\\t\\f\\v ]) 1st Capturing\n",
        "\n",
        "\\d{2} matches a digit (equal to [0-9]) {2} Quantifier — Matches exactly 2 times\n",
        "\n",
        "\\: matches the character : literally (case sensitive)\n",
        "\n",
        "\\d{2} matches a digit (equal to [0-9]) {2} Quantifier — Matches exactly 2 times\n",
        "\n",
        "\\s? matches any whitespace character (equal to [\\r\\n\\t\\f\\v ]) 0 or more times\n",
        "\n",
        "Non-capturing group (?:AM|PM|am|pm) 1st Alternative AM AM matches the characters AM literally (case sensitive) 2nd Alternative PM 3rd Alternative am 4th Alternative pm\n",
        "\n",
        "\"\"\"\n",
        "\n"
      ],
      "metadata": {
        "colab": {
          "base_uri": "https://localhost:8080/",
          "height": 105
        },
        "id": "xIoAdydjkybR",
        "outputId": "1509df08-c78f-420e-e792-18ab976d1eda"
      },
      "execution_count": 125,
      "outputs": [
        {
          "output_type": "execute_result",
          "data": {
            "text/plain": [
              "'\\nExplanation:\\n\\n\\\\s matches any whitespace character (equal to [\\r\\n\\t\\x0c\\x0b ]) 1st Capturing\\n\\n\\\\d{2} matches a digit (equal to [0-9]) {2} Quantifier — Matches exactly 2 times\\n\\n\\\\: matches the character : literally (case sensitive)\\n\\n\\\\d{2} matches a digit (equal to [0-9]) {2} Quantifier — Matches exactly 2 times\\n\\n\\\\s? matches any whitespace character (equal to [\\r\\n\\t\\x0c\\x0b ]) 0 or more times\\n\\nNon-capturing group (?:AM|PM|am|pm) 1st Alternative AM AM matches the characters AM literally (case sensitive) 2nd Alternative PM 3rd Alternative am 4th Alternative pm\\n\\n'"
            ],
            "application/vnd.google.colaboratory.intrinsic+json": {
              "type": "string"
            }
          },
          "metadata": {},
          "execution_count": 125
        }
      ]
    },
    {
      "cell_type": "markdown",
      "source": [
        "##Email"
      ],
      "metadata": {
        "id": "phisPKlXlikV"
      }
    },
    {
      "cell_type": "code",
      "source": [
        "pattern = r'\\b[A-Za-z0-9._%+-]+@[A-Za-z0-9.-]+\\.[A-Z|a-z]{2,}\\b'"
      ],
      "metadata": {
        "id": "DRi66Py7lQtr"
      },
      "execution_count": 129,
      "outputs": []
    },
    {
      "cell_type": "code",
      "source": [
        "email1 = \"she@sea.com\"\n",
        "email2 = \"She.she@ship.co\"\n",
        "email3=\"Ship_sea#sea.common\"\n",
        "email4 = \"Ship-sea@sea.co\"\n",
        "email5 = \"some_ship@sea.co.np\"\n",
        "email6 = \"s#s@ship.com\"\n",
        "emails = [email1,email2,email3,email4,email5,email6]"
      ],
      "metadata": {
        "id": "4EOnP18BlkVi"
      },
      "execution_count": 137,
      "outputs": []
    },
    {
      "cell_type": "code",
      "source": [
        "for email in emails:\n",
        "  if(re.fullmatch(pattern,email)):\n",
        "    print(\"Valid Email:  \"+email)\n",
        "  else:\n",
        "    print(\"Invalid Email:  \",email)\n",
        "\n",
        "    "
      ],
      "metadata": {
        "colab": {
          "base_uri": "https://localhost:8080/"
        },
        "id": "VJMkmVScmXSV",
        "outputId": "d466db77-19e8-4488-a247-00c038726f52"
      },
      "execution_count": 139,
      "outputs": [
        {
          "output_type": "stream",
          "name": "stdout",
          "text": [
            "Valid Email:  she@sea.com\n",
            "Valid Email:  She.she@ship.co\n",
            "Invalid Email:   Ship_sea#sea.common\n",
            "Valid Email:  Ship-sea@sea.co\n",
            "Valid Email:  some_ship@sea.co.np\n",
            "Invalid Email:   s#s@ship.com\n"
          ]
        }
      ]
    },
    {
      "cell_type": "code",
      "source": [],
      "metadata": {
        "id": "ik_21VXz2vbw"
      },
      "execution_count": null,
      "outputs": []
    }
  ]
}