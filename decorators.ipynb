{
  "nbformat": 4,
  "nbformat_minor": 0,
  "metadata": {
    "colab": {
      "provenance": [],
      "authorship_tag": "ABX9TyO9D7YgSfEaaRGEimFvHmJg",
      "include_colab_link": true
    },
    "kernelspec": {
      "name": "python3",
      "display_name": "Python 3"
    },
    "language_info": {
      "name": "python"
    }
  },
  "cells": [
    {
      "cell_type": "markdown",
      "metadata": {
        "id": "view-in-github",
        "colab_type": "text"
      },
      "source": [
        "<a href=\"https://colab.research.google.com/github/gunjanak/Intermediate_Python/blob/main/decorators.ipynb\" target=\"_parent\"><img src=\"https://colab.research.google.com/assets/colab-badge.svg\" alt=\"Open In Colab\"/></a>"
      ]
    },
    {
      "cell_type": "markdown",
      "source": [
        "Sometimes we may need to modify several functions in the same way - for example, we may want to perform a particular action before and after executing each of the functions, or pass in an extra parameter, or convert the outpur to another format.\n"
      ],
      "metadata": {
        "id": "3hOpP20gOdi-"
      }
    },
    {
      "cell_type": "markdown",
      "source": [
        "We may also have good reasons not to write the modification into all the functions - maybe it would make the function definition very verbose and unwidely, and maybe we would like the option to apply the modification quickly and easily to any function (and remove it just as easily).\n",
        "\n",
        "Or we have imported the function from some other module that you do not have access to."
      ],
      "metadata": {
        "id": "kI5WjVfiOyuH"
      }
    },
    {
      "cell_type": "markdown",
      "source": [
        "To solve this problem, we can write a function which modifies function.\n",
        "\n",
        "We call a function like this a decorator.\n",
        "\n",
        "Our function will take a function object as parameter and will return a new function object - we can then assign the new fucntion value to the old function\\'s name to replace the old function with the new function. \n",
        "\n",
        "For example, here is a decorator which logs the function name and its arguments to a log file whenever the function is used:"
      ],
      "metadata": {
        "id": "EIdXEZudQC2Q"
      }
    },
    {
      "cell_type": "code",
      "execution_count": null,
      "metadata": {
        "id": "yfMABjD6OQ0J"
      },
      "outputs": [],
      "source": [
        "def greeting(name):\n",
        "  greet = \"Hello \"+name\n",
        "  return greet"
      ]
    },
    {
      "cell_type": "code",
      "source": [
        "greeting('arvind')"
      ],
      "metadata": {
        "colab": {
          "base_uri": "https://localhost:8080/",
          "height": 246
        },
        "id": "8VRIVXl1Q7wF",
        "outputId": "05972fc4-a335-4b05-a8b2-10004c2dd7f0"
      },
      "execution_count": null,
      "outputs": [
        {
          "output_type": "execute_result",
          "data": {
            "text/plain": [
              "'Hello arvind'"
            ],
            "application/vnd.google.colaboratory.intrinsic+json": {
              "type": "string"
            }
          },
          "metadata": {},
          "execution_count": 2
        }
      ]
    },
    {
      "cell_type": "code",
      "source": [
        "#We define a decorator\n",
        "def Capitalize_me(original_function):\n",
        "  def new_function(name):\n",
        "    name = name.capitalize()\n",
        "    return original_function(name)\n",
        "\n",
        "  return new_function\n"
      ],
      "metadata": {
        "id": "PFm-yhPyWzxt"
      },
      "execution_count": null,
      "outputs": []
    },
    {
      "cell_type": "code",
      "source": [
        "greeting = Capitalize_me(greeting)"
      ],
      "metadata": {
        "id": "inewgWqrYxRL"
      },
      "execution_count": null,
      "outputs": []
    },
    {
      "cell_type": "code",
      "source": [
        "greeting('arvind')"
      ],
      "metadata": {
        "colab": {
          "base_uri": "https://localhost:8080/",
          "height": 246
        },
        "id": "ZXjje-1XY78W",
        "outputId": "06f2108b-9cef-476b-ab68-e950db872cef"
      },
      "execution_count": null,
      "outputs": [
        {
          "output_type": "execute_result",
          "data": {
            "text/plain": [
              "'Hello Arvind'"
            ],
            "application/vnd.google.colaboratory.intrinsic+json": {
              "type": "string"
            }
          },
          "metadata": {},
          "execution_count": 5
        }
      ]
    },
    {
      "cell_type": "markdown",
      "source": [
        "Another example where the basic function just returns the output when a is divided by b.\n",
        "\n",
        "\n",
        "The decorator returns the quotient and the remainder "
      ],
      "metadata": {
        "id": "En-GMSrDc6rz"
      }
    },
    {
      "cell_type": "code",
      "source": [
        "def div(a,b):\n",
        "  return a/b"
      ],
      "metadata": {
        "id": "Ho0QTCYDavAO"
      },
      "execution_count": null,
      "outputs": []
    },
    {
      "cell_type": "code",
      "source": [
        "div(9,8)"
      ],
      "metadata": {
        "colab": {
          "base_uri": "https://localhost:8080/"
        },
        "id": "BP3RnVaGddjF",
        "outputId": "9e67864b-0622-42c4-8549-a0027c638535"
      },
      "execution_count": null,
      "outputs": [
        {
          "output_type": "execute_result",
          "data": {
            "text/plain": [
              "1.125"
            ]
          },
          "metadata": {},
          "execution_count": 7
        }
      ]
    },
    {
      "cell_type": "code",
      "source": [
        "#We will modify the function so that it will return q=1 and r=1\n",
        "\n",
        "def div2(function):\n",
        "  def inner_function(a,b):\n",
        "    r = a%b\n",
        "    q = a//b\n",
        "    return q,r\n",
        "\n",
        "    return function(a,b)\n",
        "  return inner_function"
      ],
      "metadata": {
        "id": "R11m6jNzdfVq"
      },
      "execution_count": null,
      "outputs": []
    },
    {
      "cell_type": "code",
      "source": [
        "div = div2(div)"
      ],
      "metadata": {
        "id": "gbZVnU-FeTx4"
      },
      "execution_count": null,
      "outputs": []
    },
    {
      "cell_type": "code",
      "source": [
        "div(9,8)"
      ],
      "metadata": {
        "colab": {
          "base_uri": "https://localhost:8080/"
        },
        "id": "EQ1mRD9GeXWe",
        "outputId": "616285c3-b064-4272-e639-be7be9d63ae2"
      },
      "execution_count": null,
      "outputs": [
        {
          "output_type": "execute_result",
          "data": {
            "text/plain": [
              "(1, 1)"
            ]
          },
          "metadata": {},
          "execution_count": 10
        }
      ]
    },
    {
      "cell_type": "markdown",
      "source": [
        "There is a shorthand syntax for applying decorators to functions: we can use the @ symbol together with the decorator\n",
        "name before the definition of each function that we want to decorate:"
      ],
      "metadata": {
        "id": "rQZWVjypfJkv"
      }
    },
    {
      "cell_type": "code",
      "source": [
        "@Capitalize_me\n",
        "def greeting_hi(name):\n",
        "  return \"Hi \"+name\n"
      ],
      "metadata": {
        "id": "uiDL1KALestf"
      },
      "execution_count": null,
      "outputs": []
    },
    {
      "cell_type": "code",
      "source": [
        "greeting_hi('arvind')\n"
      ],
      "metadata": {
        "colab": {
          "base_uri": "https://localhost:8080/",
          "height": 194
        },
        "id": "clJl8V94e2Lc",
        "outputId": "a46881b2-bc3b-4111-efd6-44d2c8c9493a"
      },
      "execution_count": null,
      "outputs": [
        {
          "output_type": "execute_result",
          "data": {
            "text/plain": [
              "'Hi Arvind'"
            ],
            "application/vnd.google.colaboratory.intrinsic+json": {
              "type": "string"
            }
          },
          "metadata": {},
          "execution_count": 12
        }
      ]
    },
    {
      "cell_type": "markdown",
      "source": [
        "#Example 2"
      ],
      "metadata": {
        "id": "TDqvO5q2k2oy"
      }
    },
    {
      "cell_type": "markdown",
      "source": [
        "In this example, decorator logs the function name and its arguments to a log file whenever the function is used."
      ],
      "metadata": {
        "id": "L83pbriPk7eL"
      }
    },
    {
      "cell_type": "code",
      "source": [
        "#We can pass additional parameters to our decorator.\n",
        "#Here we pass function and logfilename as parameters to our function\n",
        "\n",
        "def log(function,logfilename='log.txt'):\n",
        "  def wrapper_function(*args,**kwargs):\n",
        "    with open(logfilename,\"w\") as logfile:\n",
        "      logfile.write(f'function: {function} Args: {args} Kwargs: {kwargs}')\n",
        "\n",
        "    return function(*args,**kwargs)\n",
        "\n",
        "  return wrapper_function\n",
        "\n"
      ],
      "metadata": {
        "id": "fvP70aiNk2Ka"
      },
      "execution_count": null,
      "outputs": []
    },
    {
      "cell_type": "code",
      "source": [
        "def my_function(message):\n",
        "  print(message)"
      ],
      "metadata": {
        "id": "pLxDUf2om3MU"
      },
      "execution_count": null,
      "outputs": []
    },
    {
      "cell_type": "code",
      "source": [
        "my_function = log(my_function,'my_log.txt')"
      ],
      "metadata": {
        "id": "k03sqO5Wm8ml"
      },
      "execution_count": null,
      "outputs": []
    },
    {
      "cell_type": "code",
      "source": [
        "my_function('Hello Noise')"
      ],
      "metadata": {
        "colab": {
          "base_uri": "https://localhost:8080/"
        },
        "id": "mZZJsx_RnAm5",
        "outputId": "898e4398-d0b8-428b-959d-12cd40bd2cbe"
      },
      "execution_count": null,
      "outputs": [
        {
          "output_type": "stream",
          "name": "stdout",
          "text": [
            "Hello Noise\n"
          ]
        }
      ]
    },
    {
      "cell_type": "code",
      "source": [
        "def power_x(a,x):\n",
        "  return a**x"
      ],
      "metadata": {
        "id": "YGVfeyTDnDLF"
      },
      "execution_count": null,
      "outputs": []
    },
    {
      "cell_type": "code",
      "source": [
        "power_x(5,2)"
      ],
      "metadata": {
        "colab": {
          "base_uri": "https://localhost:8080/"
        },
        "id": "8EyrbCOknw4u",
        "outputId": "822194fa-6397-4c84-8ff1-0f47575924d9"
      },
      "execution_count": null,
      "outputs": [
        {
          "output_type": "execute_result",
          "data": {
            "text/plain": [
              "25"
            ]
          },
          "metadata": {},
          "execution_count": 18
        }
      ]
    },
    {
      "cell_type": "code",
      "source": [
        "power_x = log(power_x)"
      ],
      "metadata": {
        "id": "1Ncr8yFjnzRG"
      },
      "execution_count": null,
      "outputs": []
    },
    {
      "cell_type": "code",
      "source": [
        "power_x(5,2)"
      ],
      "metadata": {
        "colab": {
          "base_uri": "https://localhost:8080/"
        },
        "id": "9T6RUYVVoABx",
        "outputId": "f34cf9bc-d7f4-4c10-ad7b-b1a1d707c97a"
      },
      "execution_count": null,
      "outputs": [
        {
          "output_type": "execute_result",
          "data": {
            "text/plain": [
              "25"
            ]
          },
          "metadata": {},
          "execution_count": 20
        }
      ]
    },
    {
      "cell_type": "code",
      "source": [
        "@log\n",
        "def information(name,surname,address,middle_name='Awesome',salary=0):\n",
        "  print(\"Greetings : \"+name+\" \"+middle_name+\" \"+surname)\n",
        "  print(\"You live at : \",address)\n",
        "  print(\"Your salary is : \",salary)"
      ],
      "metadata": {
        "id": "KO_ciItAp5ek"
      },
      "execution_count": null,
      "outputs": []
    },
    {
      "cell_type": "code",
      "source": [
        "information('Arvind','Goswami','Baker Street',salary=5000)"
      ],
      "metadata": {
        "colab": {
          "base_uri": "https://localhost:8080/"
        },
        "id": "g18v2uSeqacV",
        "outputId": "731a5bc8-2986-410b-80c8-359880bb6322"
      },
      "execution_count": null,
      "outputs": [
        {
          "output_type": "stream",
          "name": "stdout",
          "text": [
            "Greetings : Arvind Awesome Goswami\n",
            "You live at :  Baker Street\n",
            "Your salary is :  5000\n"
          ]
        }
      ]
    },
    {
      "cell_type": "code",
      "source": [
        "information('Nitya','Menon','Panchkuna',middle_name='Khatun',salary=5)"
      ],
      "metadata": {
        "colab": {
          "base_uri": "https://localhost:8080/"
        },
        "id": "eqNWFVvNqlsf",
        "outputId": "fb915fbb-1c44-4d5a-8c5f-d29e8152f8c4"
      },
      "execution_count": null,
      "outputs": [
        {
          "output_type": "stream",
          "name": "stdout",
          "text": [
            "Greetings : Nitya Khatun Menon\n",
            "You live at :  Panchkuna\n",
            "Your salary is :  5\n"
          ]
        }
      ]
    },
    {
      "cell_type": "markdown",
      "source": [
        "Python has several built-in decorators which are commonly used to decorate class methods."
      ],
      "metadata": {
        "id": "w8vdkPanfb9t"
      }
    }
  ]
}