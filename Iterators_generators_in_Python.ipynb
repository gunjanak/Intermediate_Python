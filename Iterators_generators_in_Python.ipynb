{
  "nbformat": 4,
  "nbformat_minor": 0,
  "metadata": {
    "colab": {
      "provenance": [],
      "authorship_tag": "ABX9TyPLAYTRv1azocFI2TuB60dI",
      "include_colab_link": true
    },
    "kernelspec": {
      "name": "python3",
      "display_name": "Python 3"
    },
    "language_info": {
      "name": "python"
    }
  },
  "cells": [
    {
      "cell_type": "markdown",
      "metadata": {
        "id": "view-in-github",
        "colab_type": "text"
      },
      "source": [
        "<a href=\"https://colab.research.google.com/github/gunjanak/Intermediate_Python/blob/main/Iterators_generators_in_Python.ipynb\" target=\"_parent\"><img src=\"https://colab.research.google.com/assets/colab-badge.svg\" alt=\"Open In Colab\"/></a>"
      ]
    },
    {
      "cell_type": "markdown",
      "source": [
        "#Iterators"
      ],
      "metadata": {
        "id": "EuYpSPU3lF4i"
      }
    },
    {
      "cell_type": "markdown",
      "source": [
        "Iterator in Python is an object that is used to iterate over \n",
        "\n",
        "iterable objects like lists, tuples, dicts, and sets. The iterator \n",
        "\n",
        "object is initialized using the iter() method. \n",
        "\n",
        "It uses the next() method for iteration"
      ],
      "metadata": {
        "id": "VwSVuCvhlLNr"
      }
    },
    {
      "cell_type": "markdown",
      "source": [
        "##\\_\\_iter\\_\\_(): "
      ],
      "metadata": {
        "id": "n6gBpAzAlRfM"
      }
    },
    {
      "cell_type": "code",
      "source": [
        "#The iter() method is called for the initialization of an iterator. This returns an iterator object"
      ],
      "metadata": {
        "id": "2smQlvFXlFO7"
      },
      "execution_count": 1,
      "outputs": []
    },
    {
      "cell_type": "code",
      "source": [
        "txt = \"Mouse\"\n",
        "the_iterator = iter(txt)"
      ],
      "metadata": {
        "id": "bkzeIr8JlZLt"
      },
      "execution_count": 2,
      "outputs": []
    },
    {
      "cell_type": "code",
      "source": [
        "next(the_iterator)"
      ],
      "metadata": {
        "colab": {
          "base_uri": "https://localhost:8080/",
          "height": 35
        },
        "id": "MlryYgb9lpQA",
        "outputId": "a234e4d5-99de-4af6-a1a9-4a33e5bc13af"
      },
      "execution_count": 3,
      "outputs": [
        {
          "output_type": "execute_result",
          "data": {
            "text/plain": [
              "'M'"
            ],
            "application/vnd.google.colaboratory.intrinsic+json": {
              "type": "string"
            }
          },
          "metadata": {},
          "execution_count": 3
        }
      ]
    },
    {
      "cell_type": "code",
      "source": [
        "next(the_iterator)"
      ],
      "metadata": {
        "colab": {
          "base_uri": "https://localhost:8080/",
          "height": 35
        },
        "id": "m5clPJXflrby",
        "outputId": "9485fdc3-812e-4a60-9c34-14f2d957413d"
      },
      "execution_count": 4,
      "outputs": [
        {
          "output_type": "execute_result",
          "data": {
            "text/plain": [
              "'o'"
            ],
            "application/vnd.google.colaboratory.intrinsic+json": {
              "type": "string"
            }
          },
          "metadata": {},
          "execution_count": 4
        }
      ]
    },
    {
      "cell_type": "code",
      "source": [
        "next(the_iterator)"
      ],
      "metadata": {
        "colab": {
          "base_uri": "https://localhost:8080/",
          "height": 35
        },
        "id": "jVCIiQH8lunX",
        "outputId": "42b39c92-4a72-4949-bd5c-6de1a82ca679"
      },
      "execution_count": 5,
      "outputs": [
        {
          "output_type": "execute_result",
          "data": {
            "text/plain": [
              "'u'"
            ],
            "application/vnd.google.colaboratory.intrinsic+json": {
              "type": "string"
            }
          },
          "metadata": {},
          "execution_count": 5
        }
      ]
    },
    {
      "cell_type": "code",
      "source": [
        "next(the_iterator)"
      ],
      "metadata": {
        "colab": {
          "base_uri": "https://localhost:8080/",
          "height": 35
        },
        "id": "GbEq3FXhlvbN",
        "outputId": "fb8c859f-f303-4501-af01-49ccb59a3e61"
      },
      "execution_count": 6,
      "outputs": [
        {
          "output_type": "execute_result",
          "data": {
            "text/plain": [
              "'s'"
            ],
            "application/vnd.google.colaboratory.intrinsic+json": {
              "type": "string"
            }
          },
          "metadata": {},
          "execution_count": 6
        }
      ]
    },
    {
      "cell_type": "code",
      "source": [
        "next(the_iterator)"
      ],
      "metadata": {
        "colab": {
          "base_uri": "https://localhost:8080/",
          "height": 35
        },
        "id": "sbt3ZPlClwNW",
        "outputId": "47ea0615-29ce-455c-ac81-3e08f8f718d6"
      },
      "execution_count": 7,
      "outputs": [
        {
          "output_type": "execute_result",
          "data": {
            "text/plain": [
              "'e'"
            ],
            "application/vnd.google.colaboratory.intrinsic+json": {
              "type": "string"
            }
          },
          "metadata": {},
          "execution_count": 7
        }
      ]
    },
    {
      "cell_type": "code",
      "source": [
        "# An iterable user defined type\n",
        "class Test:\n",
        " \n",
        "    # Constructor\n",
        "    def __init__(self, limit):\n",
        "        self.limit = limit\n",
        " \n",
        "    # Creates iterator object\n",
        "    # Called when iteration is initialized\n",
        "    def __iter__(self):\n",
        "        self.x = 10\n",
        "        return self\n",
        " \n",
        "    # To move to next element. In Python 3,\n",
        "    # we should replace next with __next__\n",
        "    def __next__(self):\n",
        " \n",
        "        # Store current value ofx\n",
        "        x = self.x\n",
        " \n",
        "        # Stop iteration if limit is reached\n",
        "        if x > self.limit:\n",
        "            raise StopIteration\n",
        " \n",
        "        # Else increment and return old value\n",
        "        self.x = x + 1;\n",
        "        return x"
      ],
      "metadata": {
        "id": "j6Iz6cQKlw4I"
      },
      "execution_count": 27,
      "outputs": []
    },
    {
      "cell_type": "code",
      "source": [
        "for i in Test(15):\n",
        "  print(i)"
      ],
      "metadata": {
        "colab": {
          "base_uri": "https://localhost:8080/"
        },
        "id": "WdmDb3i4mNhj",
        "outputId": "d80c6c4c-85aa-4809-f11d-95103b7c96e1"
      },
      "execution_count": 9,
      "outputs": [
        {
          "output_type": "stream",
          "name": "stdout",
          "text": [
            "10\n",
            "11\n",
            "12\n",
            "13\n",
            "14\n",
            "15\n"
          ]
        }
      ]
    },
    {
      "cell_type": "code",
      "source": [
        "for i in Test(5):\n",
        "  print(i)"
      ],
      "metadata": {
        "id": "YqLNB3YRmVf8"
      },
      "execution_count": 10,
      "outputs": []
    },
    {
      "cell_type": "code",
      "source": [
        "my_test= Test(12)"
      ],
      "metadata": {
        "id": "zTmWl1RpOPYa"
      },
      "execution_count": 28,
      "outputs": []
    },
    {
      "cell_type": "code",
      "source": [
        "for i in my_test:\n",
        "  print(i)"
      ],
      "metadata": {
        "colab": {
          "base_uri": "https://localhost:8080/"
        },
        "id": "dyHHWcBtOTX6",
        "outputId": "1ac8e221-a0f7-4fd6-c5a6-2d63212c2e30"
      },
      "execution_count": 29,
      "outputs": [
        {
          "output_type": "stream",
          "name": "stdout",
          "text": [
            "10\n",
            "11\n",
            "12\n"
          ]
        }
      ]
    },
    {
      "cell_type": "code",
      "source": [
        "#Let us change the definition of __next__\n",
        "# An iterable user defined type\n",
        "class Test:\n",
        " \n",
        "    # Constructor\n",
        "    def __init__(self, limit):\n",
        "        self.limit = limit\n",
        " \n",
        "    # Creates iterator object\n",
        "    # Called when iteration is initialized\n",
        "    def __iter__(self):\n",
        "        self.x = 10\n",
        "        return self\n",
        " \n",
        "    # To move to next element. In Python 3,\n",
        "    # we should replace next with __next__\n",
        "    def __next__(self):\n",
        " \n",
        "        # Store current value ofx\n",
        "        x = self.x\n",
        " \n",
        "        # Stop iteration if limit is reached\n",
        "        if x > self.limit:\n",
        "            raise StopIteration\n",
        " \n",
        "        # Else increment and return old value\n",
        "        self.x = x + 5;\n",
        "        return x"
      ],
      "metadata": {
        "id": "rs-KFxNJmcp9"
      },
      "execution_count": 11,
      "outputs": []
    },
    {
      "cell_type": "code",
      "source": [
        "for i in Test(25):\n",
        "  print(i)"
      ],
      "metadata": {
        "colab": {
          "base_uri": "https://localhost:8080/"
        },
        "id": "RN8H2Mjsmliy",
        "outputId": "ee1f62d8-f15f-4271-a386-7c6eacaa11b4"
      },
      "execution_count": 12,
      "outputs": [
        {
          "output_type": "stream",
          "name": "stdout",
          "text": [
            "10\n",
            "15\n",
            "20\n",
            "25\n"
          ]
        }
      ]
    },
    {
      "cell_type": "code",
      "source": [
        "for i in Test(5):\n",
        "  print(i)"
      ],
      "metadata": {
        "id": "X-HvhRg8mtJa"
      },
      "execution_count": 13,
      "outputs": []
    },
    {
      "cell_type": "code",
      "source": [
        "#Iterable vs Iterator\n",
        "#iterable and iterator are different. \n",
        "#The main difference between them is, iterable cannot save the state of the iteration, \n",
        "#but whereas in iterators the state of the current iteration gets saved."
      ],
      "metadata": {
        "id": "bAtscW_pmvSN"
      },
      "execution_count": 14,
      "outputs": []
    },
    {
      "cell_type": "code",
      "source": [
        "fruits = (\"Apple\",\"Banana\",\"Cherry\")"
      ],
      "metadata": {
        "id": "1lTpevZ9nUv2"
      },
      "execution_count": 15,
      "outputs": []
    },
    {
      "cell_type": "code",
      "source": [
        "for fruit in fruits:\n",
        "  print(fruit)"
      ],
      "metadata": {
        "colab": {
          "base_uri": "https://localhost:8080/"
        },
        "id": "Qi0S_mWuni-r",
        "outputId": "464770a7-ac61-4ab4-b357-7592175cc6b7"
      },
      "execution_count": 16,
      "outputs": [
        {
          "output_type": "stream",
          "name": "stdout",
          "text": [
            "Apple\n",
            "Banana\n",
            "Cherry\n"
          ]
        }
      ]
    },
    {
      "cell_type": "code",
      "source": [
        "fruits = (\"Apple\",\"Banana\",\"Cherry\")"
      ],
      "metadata": {
        "id": "E_VT7wa9N5vL"
      },
      "execution_count": 22,
      "outputs": []
    },
    {
      "cell_type": "code",
      "source": [
        "iter_fruits = iter(fruits)"
      ],
      "metadata": {
        "id": "cSZVF4dlnyWW"
      },
      "execution_count": 23,
      "outputs": []
    },
    {
      "cell_type": "code",
      "source": [
        "print(next(iter_fruits))"
      ],
      "metadata": {
        "colab": {
          "base_uri": "https://localhost:8080/"
        },
        "id": "i-MiOFV0nsfm",
        "outputId": "753b90e7-f283-4384-ad42-affa6ae1c5e3"
      },
      "execution_count": 24,
      "outputs": [
        {
          "output_type": "stream",
          "name": "stdout",
          "text": [
            "Apple\n"
          ]
        }
      ]
    },
    {
      "cell_type": "code",
      "source": [
        "print(next(iter_fruits))"
      ],
      "metadata": {
        "id": "UG-HVTIrnxC5",
        "colab": {
          "base_uri": "https://localhost:8080/"
        },
        "outputId": "58078bc1-49a1-4b15-9ca5-877967f8afab"
      },
      "execution_count": 25,
      "outputs": [
        {
          "output_type": "stream",
          "name": "stdout",
          "text": [
            "Banana\n"
          ]
        }
      ]
    },
    {
      "cell_type": "code",
      "source": [
        "print(next(iter_fruits))"
      ],
      "metadata": {
        "colab": {
          "base_uri": "https://localhost:8080/"
        },
        "id": "McGa0XY-N9Lc",
        "outputId": "9b7899fa-ce1e-427d-c47e-6c1ec759ca4e"
      },
      "execution_count": 26,
      "outputs": [
        {
          "output_type": "stream",
          "name": "stdout",
          "text": [
            "Cherry\n"
          ]
        }
      ]
    },
    {
      "cell_type": "markdown",
      "source": [
        "#Generators in python"
      ],
      "metadata": {
        "id": "0yeD7pagNMPw"
      }
    },
    {
      "cell_type": "markdown",
      "source": [
        "Generator-Function: A generator-function is defined like a normal function, but whenever it needs to generate a value, it does so with the yield keyword rather than return. If the body of a def contains yield, the function automatically becomes a generator function. "
      ],
      "metadata": {
        "id": "9lWza1m2TO5y"
      }
    },
    {
      "cell_type": "markdown",
      "source": [
        "##Example 1"
      ],
      "metadata": {
        "id": "qro8BVBpTWau"
      }
    },
    {
      "cell_type": "code",
      "execution_count": 30,
      "metadata": {
        "id": "OuuuOvrdMl8L"
      },
      "outputs": [],
      "source": [
        "def simple_generator():\n",
        "  yield 'Alpha'\n",
        "  yield 'Beta'\n",
        "  yield 'Charlie'"
      ]
    },
    {
      "cell_type": "code",
      "source": [
        "simple_generator()"
      ],
      "metadata": {
        "colab": {
          "base_uri": "https://localhost:8080/"
        },
        "id": "Q0oVnrI3TmIS",
        "outputId": "459e4c65-152c-4a4b-857a-2037331ad0e2"
      },
      "execution_count": 31,
      "outputs": [
        {
          "output_type": "execute_result",
          "data": {
            "text/plain": [
              "<generator object simple_generator at 0x7fd9209b2820>"
            ]
          },
          "metadata": {},
          "execution_count": 31
        }
      ]
    },
    {
      "cell_type": "code",
      "source": [
        "for i in simple_generator():\n",
        "  print(i)"
      ],
      "metadata": {
        "colab": {
          "base_uri": "https://localhost:8080/"
        },
        "id": "605TixLjT24t",
        "outputId": "1a5a558d-ad25-4e98-c801-8ceda2f0da4f"
      },
      "execution_count": 35,
      "outputs": [
        {
          "output_type": "stream",
          "name": "stdout",
          "text": [
            "Alpha\n",
            "Beta\n",
            "Charlie\n"
          ]
        }
      ]
    },
    {
      "cell_type": "code",
      "source": [
        "codes = simple_generator()\n",
        "print(next(codes))\n",
        "print(next(codes))\n",
        "print(next(codes))"
      ],
      "metadata": {
        "colab": {
          "base_uri": "https://localhost:8080/"
        },
        "id": "IAqHbA2JT81Z",
        "outputId": "337b2eae-9016-4074-ef4c-b9c523d2f132"
      },
      "execution_count": 36,
      "outputs": [
        {
          "output_type": "stream",
          "name": "stdout",
          "text": [
            "Alpha\n",
            "Beta\n",
            "Charlie\n"
          ]
        }
      ]
    },
    {
      "cell_type": "code",
      "source": [
        "new_codes = simple_generator()\n",
        "print(next(new_codes))\n",
        "print(next(new_codes))\n",
        "print(next(new_codes))\n",
        "print(next(new_codes))"
      ],
      "metadata": {
        "colab": {
          "base_uri": "https://localhost:8080/",
          "height": 252
        },
        "id": "Xw3VTsTIUPkU",
        "outputId": "dcd08382-ba9d-45bc-97fe-a5f1ad048e7f"
      },
      "execution_count": 39,
      "outputs": [
        {
          "output_type": "stream",
          "name": "stdout",
          "text": [
            "Alpha\n",
            "Beta\n",
            "Charlie\n"
          ]
        },
        {
          "output_type": "error",
          "ename": "StopIteration",
          "evalue": "ignored",
          "traceback": [
            "\u001b[0;31m---------------------------------------------------------------------------\u001b[0m",
            "\u001b[0;31mStopIteration\u001b[0m                             Traceback (most recent call last)",
            "\u001b[0;32m<ipython-input-39-d11dc16cbf5e>\u001b[0m in \u001b[0;36m<module>\u001b[0;34m\u001b[0m\n\u001b[1;32m      3\u001b[0m \u001b[0mprint\u001b[0m\u001b[0;34m(\u001b[0m\u001b[0mnext\u001b[0m\u001b[0;34m(\u001b[0m\u001b[0mnew_codes\u001b[0m\u001b[0;34m)\u001b[0m\u001b[0;34m)\u001b[0m\u001b[0;34m\u001b[0m\u001b[0;34m\u001b[0m\u001b[0m\n\u001b[1;32m      4\u001b[0m \u001b[0mprint\u001b[0m\u001b[0;34m(\u001b[0m\u001b[0mnext\u001b[0m\u001b[0;34m(\u001b[0m\u001b[0mnew_codes\u001b[0m\u001b[0;34m)\u001b[0m\u001b[0;34m)\u001b[0m\u001b[0;34m\u001b[0m\u001b[0;34m\u001b[0m\u001b[0m\n\u001b[0;32m----> 5\u001b[0;31m \u001b[0mprint\u001b[0m\u001b[0;34m(\u001b[0m\u001b[0mnext\u001b[0m\u001b[0;34m(\u001b[0m\u001b[0mnew_codes\u001b[0m\u001b[0;34m)\u001b[0m\u001b[0;34m)\u001b[0m\u001b[0;34m\u001b[0m\u001b[0;34m\u001b[0m\u001b[0m\n\u001b[0m",
            "\u001b[0;31mStopIteration\u001b[0m: "
          ]
        }
      ]
    },
    {
      "cell_type": "markdown",
      "source": [
        "##Example II : Creating emails"
      ],
      "metadata": {
        "id": "Jmry_ejQU0Hv"
      }
    },
    {
      "cell_type": "markdown",
      "source": [
        "**Creating emails using regular function**"
      ],
      "metadata": {
        "id": "o9Uo5uZ5WZ-4"
      }
    },
    {
      "cell_type": "code",
      "source": [
        "def create_emails(person_list):\n",
        "  emails = []\n",
        "  for name in person_list:\n",
        "    email = name+\"@knight.com\"\n",
        "    emails.append(email)\n",
        "  return emails"
      ],
      "metadata": {
        "id": "azqsexTRUdL4"
      },
      "execution_count": 42,
      "outputs": []
    },
    {
      "cell_type": "code",
      "source": [
        "person_list = [\"Mickey\",\"Donald\",\"Goofy\",\"Moana\",\"Simba\",\"Baloo\"]"
      ],
      "metadata": {
        "id": "j8P5l5cIWFuk"
      },
      "execution_count": 43,
      "outputs": []
    },
    {
      "cell_type": "code",
      "source": [
        "person_emails = create_emails(person_list)"
      ],
      "metadata": {
        "id": "ztLzXzfdWQZ6"
      },
      "execution_count": 44,
      "outputs": []
    },
    {
      "cell_type": "code",
      "source": [
        "person_emails"
      ],
      "metadata": {
        "colab": {
          "base_uri": "https://localhost:8080/"
        },
        "id": "oSiZIBfkWVe2",
        "outputId": "4d22b231-0489-4b03-e1f2-48853857b53d"
      },
      "execution_count": 45,
      "outputs": [
        {
          "output_type": "execute_result",
          "data": {
            "text/plain": [
              "['Mickey@knight.com',\n",
              " 'Donald@knight.com',\n",
              " 'Goofy@knight.com',\n",
              " 'Moana@knight.com',\n",
              " 'Simba@knight.com',\n",
              " 'Baloo@knight.com']"
            ]
          },
          "metadata": {},
          "execution_count": 45
        }
      ]
    },
    {
      "cell_type": "markdown",
      "source": [
        "**Creating emails using generator**"
      ],
      "metadata": {
        "id": "mOwgH5ScWgmG"
      }
    },
    {
      "cell_type": "code",
      "source": [
        "def create_emails(person_list):\n",
        "  for name in person_list:\n",
        "    email = name+\"@knight.com\"\n",
        "    yield email"
      ],
      "metadata": {
        "id": "VyMsS01GWXIG"
      },
      "execution_count": 46,
      "outputs": []
    },
    {
      "cell_type": "code",
      "source": [
        "person_emails = create_emails(person_list)"
      ],
      "metadata": {
        "id": "d7m1RJkmWuxC"
      },
      "execution_count": 47,
      "outputs": []
    },
    {
      "cell_type": "code",
      "source": [
        "person_emails"
      ],
      "metadata": {
        "colab": {
          "base_uri": "https://localhost:8080/"
        },
        "id": "pMI5hPUwWvVk",
        "outputId": "963fadc6-d8f5-4be7-91cb-9138f6c468e9"
      },
      "execution_count": 48,
      "outputs": [
        {
          "output_type": "execute_result",
          "data": {
            "text/plain": [
              "<generator object create_emails at 0x7fd9209509e0>"
            ]
          },
          "metadata": {},
          "execution_count": 48
        }
      ]
    },
    {
      "cell_type": "code",
      "source": [
        "for email in person_emails:\n",
        "  print(email)"
      ],
      "metadata": {
        "colab": {
          "base_uri": "https://localhost:8080/"
        },
        "id": "YE7s0osWWxBv",
        "outputId": "292d69c4-c056-4c58-f5ac-e416463a2040"
      },
      "execution_count": 49,
      "outputs": [
        {
          "output_type": "stream",
          "name": "stdout",
          "text": [
            "Mickey@knight.com\n",
            "Donald@knight.com\n",
            "Goofy@knight.com\n",
            "Moana@knight.com\n",
            "Simba@knight.com\n",
            "Baloo@knight.com\n"
          ]
        }
      ]
    },
    {
      "cell_type": "markdown",
      "source": [
        "**using list comprehension**"
      ],
      "metadata": {
        "id": "f0RWVvbYW5er"
      }
    },
    {
      "cell_type": "code",
      "source": [
        "emails = [x+\"@knight.com\" for x in person_list]"
      ],
      "metadata": {
        "id": "td2UrMNlUU7h"
      },
      "execution_count": 50,
      "outputs": []
    },
    {
      "cell_type": "code",
      "source": [
        "emails"
      ],
      "metadata": {
        "colab": {
          "base_uri": "https://localhost:8080/"
        },
        "id": "e2ekaPpMVlyW",
        "outputId": "128eb60b-f284-48a8-905e-4f73225cb50e"
      },
      "execution_count": 51,
      "outputs": [
        {
          "output_type": "execute_result",
          "data": {
            "text/plain": [
              "['Mickey@knight.com',\n",
              " 'Donald@knight.com',\n",
              " 'Goofy@knight.com',\n",
              " 'Moana@knight.com',\n",
              " 'Simba@knight.com',\n",
              " 'Baloo@knight.com']"
            ]
          },
          "metadata": {},
          "execution_count": 51
        }
      ]
    },
    {
      "cell_type": "markdown",
      "source": [
        "**using list comprehension to create generator**"
      ],
      "metadata": {
        "id": "was3FhZLXMfy"
      }
    },
    {
      "cell_type": "code",
      "source": [
        "emails = (x+\"@knight.com\" for x in person_list)"
      ],
      "metadata": {
        "id": "jcg3rVmYVnMB"
      },
      "execution_count": 52,
      "outputs": []
    },
    {
      "cell_type": "code",
      "source": [
        "emails"
      ],
      "metadata": {
        "colab": {
          "base_uri": "https://localhost:8080/"
        },
        "id": "XM08HFu9XVkr",
        "outputId": "d5814f77-285b-4edd-a556-ac16819605c9"
      },
      "execution_count": 53,
      "outputs": [
        {
          "output_type": "execute_result",
          "data": {
            "text/plain": [
              "<generator object <genexpr> at 0x7fd920950c10>"
            ]
          },
          "metadata": {},
          "execution_count": 53
        }
      ]
    },
    {
      "cell_type": "code",
      "source": [
        "for email in emails:\n",
        "  print(email)"
      ],
      "metadata": {
        "colab": {
          "base_uri": "https://localhost:8080/"
        },
        "id": "BAXz_2GLXWcM",
        "outputId": "cb3f2abc-f64b-41d8-8714-0da8410e4f46"
      },
      "execution_count": 54,
      "outputs": [
        {
          "output_type": "stream",
          "name": "stdout",
          "text": [
            "Mickey@knight.com\n",
            "Donald@knight.com\n",
            "Goofy@knight.com\n",
            "Moana@knight.com\n",
            "Simba@knight.com\n",
            "Baloo@knight.com\n"
          ]
        }
      ]
    },
    {
      "cell_type": "code",
      "source": [
        "#generators create element only needed or called saving memory. It just remembers its current state\n",
        "#functions using 'return' does the all operation at once\n",
        "#generators are more memory efficient"
      ],
      "metadata": {
        "id": "iNwrvbRRXaUv"
      },
      "execution_count": 55,
      "outputs": []
    },
    {
      "cell_type": "markdown",
      "source": [
        "#time and memory comparison"
      ],
      "metadata": {
        "id": "kBt0rLHoYLF2"
      }
    },
    {
      "cell_type": "code",
      "source": [
        "!pip install -U memory_profiler"
      ],
      "metadata": {
        "colab": {
          "base_uri": "https://localhost:8080/"
        },
        "id": "mfls_dt7ZPW0",
        "outputId": "33bb7c77-c8a8-407a-b9e3-d27ed65a163d"
      },
      "execution_count": 57,
      "outputs": [
        {
          "output_type": "stream",
          "name": "stdout",
          "text": [
            "Looking in indexes: https://pypi.org/simple, https://us-python.pkg.dev/colab-wheels/public/simple/\n",
            "Collecting memory_profiler\n",
            "  Downloading memory_profiler-0.61.0-py3-none-any.whl (31 kB)\n",
            "Requirement already satisfied: psutil in /usr/local/lib/python3.8/dist-packages (from memory_profiler) (5.4.8)\n",
            "Installing collected packages: memory_profiler\n",
            "Successfully installed memory_profiler-0.61.0\n"
          ]
        }
      ]
    },
    {
      "cell_type": "code",
      "source": [
        "import memory_profiler"
      ],
      "metadata": {
        "id": "zL1JfOYkZVzC"
      },
      "execution_count": 58,
      "outputs": []
    },
    {
      "cell_type": "code",
      "source": [
        "import random \n",
        "import time"
      ],
      "metadata": {
        "id": "RfLqtdg5X5vd"
      },
      "execution_count": 59,
      "outputs": []
    },
    {
      "cell_type": "code",
      "source": [
        "print ('Memory (Before): {} MB'.format(memory_profiler.memory_usage()))"
      ],
      "metadata": {
        "colab": {
          "base_uri": "https://localhost:8080/"
        },
        "id": "c8aPzf-RY8bm",
        "outputId": "7ceb65ca-4eec-4786-c023-778373ab865e"
      },
      "execution_count": 60,
      "outputs": [
        {
          "output_type": "stream",
          "name": "stdout",
          "text": [
            "Memory (Before): [105.46484375] MB\n"
          ]
        }
      ]
    },
    {
      "cell_type": "code",
      "source": [
        "characters = [\"Mickey\",\"Donald\",\"Winni-the-Pooh\",\"Baloo\",\"Simba\",\"Moana\"]\n",
        "hobbies = [\"Dance\",\"Singing\",\"Swimming\",\"Fishing\",\"Running\",\"Jumping\"] "
      ],
      "metadata": {
        "id": "LCXOSTvjZcXd"
      },
      "execution_count": 61,
      "outputs": []
    },
    {
      "cell_type": "code",
      "source": [
        "def The_hobby(total):\n",
        "  result = []\n",
        "  for i in range(total):\n",
        "    person = {\n",
        "        'id':i,\n",
        "        \"name\":random.choice(characters),\n",
        "        \"hobby\":random.choice(hobbies)\n",
        "    }\n",
        "\n",
        "    result.append(person)\n",
        "\n",
        "  return result"
      ],
      "metadata": {
        "id": "HFJFpW18Z6Zb"
      },
      "execution_count": 84,
      "outputs": []
    },
    {
      "cell_type": "code",
      "source": [
        "the_hobby = The_hobby(10)"
      ],
      "metadata": {
        "id": "FadQhUW_a1fx"
      },
      "execution_count": 63,
      "outputs": []
    },
    {
      "cell_type": "code",
      "source": [
        "the_hobby"
      ],
      "metadata": {
        "id": "R2Tticg_a6CS"
      },
      "execution_count": null,
      "outputs": []
    },
    {
      "cell_type": "code",
      "source": [
        "print ('Memory (Before): {} MB'.format(memory_profiler.memory_usage()))\n",
        "t1 = time.time()\n",
        "the_hobby = The_hobby(1000000)\n",
        "t2 = time.time()\n",
        "\n",
        "print('Memory (After): {} MB'.format(memory_profiler.memory_usage()))\n",
        "print(\"Took {} Seconds\".format(t2-t1))"
      ],
      "metadata": {
        "colab": {
          "base_uri": "https://localhost:8080/"
        },
        "id": "1EuqmmP5a7sh",
        "outputId": "a981769b-8619-41b7-e67a-100f602dbae8"
      },
      "execution_count": 85,
      "outputs": [
        {
          "output_type": "stream",
          "name": "stdout",
          "text": [
            "Memory (Before): [126.8125] MB\n",
            "Memory (After): [385.13671875] MB\n",
            "Took 1.5601155757904053 Seconds\n"
          ]
        }
      ]
    },
    {
      "cell_type": "code",
      "source": [
        "#Doing the same this with generators\n",
        "def The_hobby_gen(total):\n",
        "\n",
        "  for i in range(total):\n",
        "    person = {\n",
        "        'id':i,\n",
        "        \"name\":random.choice(characters),\n",
        "        \"hobby\":random.choice(hobbies)\n",
        "    }\n",
        "\n",
        "    yield person"
      ],
      "metadata": {
        "id": "NIxWV5clbquE"
      },
      "execution_count": 79,
      "outputs": []
    },
    {
      "cell_type": "code",
      "source": [
        "#testing with 10 data\n",
        "the_hobby = The_hobby_gen(10)"
      ],
      "metadata": {
        "id": "bvXfQwqxcCoA"
      },
      "execution_count": 80,
      "outputs": []
    },
    {
      "cell_type": "code",
      "source": [
        "the_hobby"
      ],
      "metadata": {
        "colab": {
          "base_uri": "https://localhost:8080/"
        },
        "id": "5oACOAikcJj3",
        "outputId": "942c5702-e3d6-4a0d-b0ed-966dc91201e2"
      },
      "execution_count": 81,
      "outputs": [
        {
          "output_type": "execute_result",
          "data": {
            "text/plain": [
              "<generator object The_hobby_gen at 0x7fd92093b040>"
            ]
          },
          "metadata": {},
          "execution_count": 81
        }
      ]
    },
    {
      "cell_type": "code",
      "source": [
        "for i in the_hobby:\n",
        "  print(i)"
      ],
      "metadata": {
        "id": "3IB4iFHzcLW0"
      },
      "execution_count": null,
      "outputs": []
    },
    {
      "cell_type": "code",
      "source": [
        "print ('Memory (Before): {} MB'.format(memory_profiler.memory_usage()))\n",
        "t1 = time.time()\n",
        "the_hobby = The_hobby_gen(1000000)\n",
        "t2 = time.time()\n",
        "\n",
        "print('Memory (After): {} MB'.format(memory_profiler.memory_usage()))\n",
        "print(\"Took {} Seconds\".format(t2-t1))"
      ],
      "metadata": {
        "colab": {
          "base_uri": "https://localhost:8080/"
        },
        "id": "AT-DoxE7cOpv",
        "outputId": "8d23bf41-2a80-4cb2-97cd-4f27716c7235"
      },
      "execution_count": 83,
      "outputs": [
        {
          "output_type": "stream",
          "name": "stdout",
          "text": [
            "Memory (Before): [126.8125] MB\n",
            "Memory (After): [126.8125] MB\n",
            "Took 6.270408630371094e-05 Seconds\n"
          ]
        }
      ]
    }
  ]
}