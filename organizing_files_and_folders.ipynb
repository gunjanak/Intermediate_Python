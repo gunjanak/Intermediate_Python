{
  "nbformat": 4,
  "nbformat_minor": 0,
  "metadata": {
    "colab": {
      "provenance": [],
      "authorship_tag": "ABX9TyPggVJ/zXwGV57Gzs1N3bS8",
      "include_colab_link": true
    },
    "kernelspec": {
      "name": "python3",
      "display_name": "Python 3"
    },
    "language_info": {
      "name": "python"
    }
  },
  "cells": [
    {
      "cell_type": "markdown",
      "metadata": {
        "id": "view-in-github",
        "colab_type": "text"
      },
      "source": [
        "<a href=\"https://colab.research.google.com/github/gunjanak/Intermediate_Python/blob/main/organizing_files_and_folders.ipynb\" target=\"_parent\"><img src=\"https://colab.research.google.com/assets/colab-badge.svg\" alt=\"Open In Colab\"/></a>"
      ]
    },
    {
      "cell_type": "markdown",
      "source": [
        "#Creating some dicretories and files"
      ],
      "metadata": {
        "id": "JIhFOefuvtyF"
      }
    },
    {
      "cell_type": "code",
      "source": [
        "import os\n",
        "if not os.path.exists(\"/content/A/\"):\n",
        "    os.makedirs(\"/content/A/\")"
      ],
      "metadata": {
        "id": "wUsiA0q_5bXm"
      },
      "execution_count": 1,
      "outputs": []
    },
    {
      "cell_type": "code",
      "source": [
        "#creating multiple folders\n",
        "folders = [\"B\",\"C\",\"D\",\"Y\",\"Z\"]"
      ],
      "metadata": {
        "id": "MCZUQEIB5gjn"
      },
      "execution_count": 2,
      "outputs": []
    },
    {
      "cell_type": "code",
      "source": [
        "for folder in folders:\n",
        "  path_folder = \"/content/\"+folder+\"/\"\n",
        "  if not os.path.exists(path_folder):\n",
        "    os.makedirs(path_folder)"
      ],
      "metadata": {
        "id": "zbvWqQWO50li"
      },
      "execution_count": 3,
      "outputs": []
    },
    {
      "cell_type": "code",
      "source": [
        "!pip3 install path"
      ],
      "metadata": {
        "colab": {
          "base_uri": "https://localhost:8080/"
        },
        "id": "R9CuCsGy64y8",
        "outputId": "eee3425d-2d60-431f-9e28-562d986c76ce"
      },
      "execution_count": 4,
      "outputs": [
        {
          "output_type": "stream",
          "name": "stdout",
          "text": [
            "Looking in indexes: https://pypi.org/simple, https://us-python.pkg.dev/colab-wheels/public/simple/\n",
            "Collecting path\n",
            "  Downloading path-16.6.0-py3-none-any.whl (26 kB)\n",
            "Installing collected packages: path\n",
            "Successfully installed path-16.6.0\n"
          ]
        }
      ]
    },
    {
      "cell_type": "code",
      "source": [
        "from path import Path"
      ],
      "metadata": {
        "id": "fFNZP2fM6cVZ"
      },
      "execution_count": 5,
      "outputs": []
    },
    {
      "cell_type": "code",
      "source": [
        "Path(\"/content/Z/\").chdir()"
      ],
      "metadata": {
        "id": "sOwtMbms61y7"
      },
      "execution_count": 6,
      "outputs": []
    },
    {
      "cell_type": "code",
      "source": [
        "#current working directory\n",
        "os.getcwd()"
      ],
      "metadata": {
        "colab": {
          "base_uri": "https://localhost:8080/",
          "height": 35
        },
        "id": "4b5gyNWB7IIl",
        "outputId": "d1fc8bbd-2f4d-4eb9-afc5-976faf5b99da"
      },
      "execution_count": 7,
      "outputs": [
        {
          "output_type": "execute_result",
          "data": {
            "text/plain": [
              "'/content/Z'"
            ],
            "application/vnd.google.colaboratory.intrinsic+json": {
              "type": "string"
            }
          },
          "metadata": {},
          "execution_count": 7
        }
      ]
    },
    {
      "cell_type": "code",
      "source": [
        "#create few files in this folder\n",
        "for i in range(1,5):\n",
        "  name = \"file_\"+str(i)+\".txt\"\n",
        "  file = open(name,'x')"
      ],
      "metadata": {
        "id": "rO1zLsdc7K1P"
      },
      "execution_count": 8,
      "outputs": []
    },
    {
      "cell_type": "code",
      "source": [
        "#Changing the current dir to Y\n",
        "Path(\"/content/Y/\").chdir()\n",
        "print(os.getcwd())"
      ],
      "metadata": {
        "colab": {
          "base_uri": "https://localhost:8080/"
        },
        "id": "kAzIqGjF8h87",
        "outputId": "3363eee4-1e32-4ce6-d057-9bacd4e17850"
      },
      "execution_count": 9,
      "outputs": [
        {
          "output_type": "stream",
          "name": "stdout",
          "text": [
            "/content/Y\n"
          ]
        }
      ]
    },
    {
      "cell_type": "code",
      "source": [
        "#Create few files in this folder\n",
        "#create few files in this folder\n",
        "for i in range(1,5):\n",
        "  name = \"Y_file_\"+str(i)+\".txt\"\n",
        "  file = open(name,'x')"
      ],
      "metadata": {
        "id": "aeu7OcrH8KF9"
      },
      "execution_count": 10,
      "outputs": []
    },
    {
      "cell_type": "code",
      "source": [
        "#Change the current dir back to A\n",
        "Path(\"/content/A/\").chdir()\n",
        "print(os.getcwd())"
      ],
      "metadata": {
        "colab": {
          "base_uri": "https://localhost:8080/"
        },
        "id": "9DmbpCR38_0U",
        "outputId": "0b5aed4b-95b5-4b39-fa65-ae793073bdbe"
      },
      "execution_count": 11,
      "outputs": [
        {
          "output_type": "stream",
          "name": "stdout",
          "text": [
            "/content/A\n"
          ]
        }
      ]
    },
    {
      "cell_type": "code",
      "source": [
        "#Create multiple folders in dir A\n",
        "#creating multiple folders\n",
        "folders = [\"BB\",\"BBB\",\"BBB\",\"BBB\",\"BBBB\"]\n",
        "for folder in folders:\n",
        "  path_folder = \"/content/A/\"+folder+\"/\"\n",
        "  if not os.path.exists(path_folder):\n",
        "    os.makedirs(path_folder)"
      ],
      "metadata": {
        "id": "65zE44yRymtS"
      },
      "execution_count": 12,
      "outputs": []
    },
    {
      "cell_type": "markdown",
      "source": [
        "#shutil"
      ],
      "metadata": {
        "id": "KN0UPlphwF98"
      }
    },
    {
      "cell_type": "code",
      "source": [
        "#Pronounce it as shu-til\n",
        "import shutil"
      ],
      "metadata": {
        "id": "7ffvqgl_s1SR"
      },
      "execution_count": 13,
      "outputs": []
    },
    {
      "cell_type": "code",
      "source": [
        "import os"
      ],
      "metadata": {
        "id": "CZXug-N7tUZS"
      },
      "execution_count": 14,
      "outputs": []
    },
    {
      "cell_type": "code",
      "source": [
        "from pathlib import Path"
      ],
      "metadata": {
        "id": "JkSUDRiotV4A"
      },
      "execution_count": 15,
      "outputs": []
    },
    {
      "cell_type": "code",
      "source": [
        "#copying files from one folder to another"
      ],
      "metadata": {
        "id": "zQ0C6M51s8rm"
      },
      "execution_count": 16,
      "outputs": []
    },
    {
      "cell_type": "code",
      "source": [
        "#Here we copied file_1.txt from folder Z to folder C and named was not changed\n",
        "shutil.copy('/content/Z/file_1.txt','/content/C/')"
      ],
      "metadata": {
        "colab": {
          "base_uri": "https://localhost:8080/",
          "height": 35
        },
        "id": "Ql08eFKttGX4",
        "outputId": "4ec86417-335e-45ad-ba14-b5a603356bb6"
      },
      "execution_count": 18,
      "outputs": [
        {
          "output_type": "execute_result",
          "data": {
            "text/plain": [
              "'/content/C/file_1.txt'"
            ],
            "application/vnd.google.colaboratory.intrinsic+json": {
              "type": "string"
            }
          },
          "metadata": {},
          "execution_count": 18
        }
      ]
    },
    {
      "cell_type": "code",
      "source": [
        "#Here we copied file_2.txt from folder Z  to folder B and named it z_to_b.txt\n",
        "shutil.copy('/content/Z/file_2.txt','/content/B/z_to_b.txt')"
      ],
      "metadata": {
        "colab": {
          "base_uri": "https://localhost:8080/",
          "height": 35
        },
        "id": "auLeeeSPtqhT",
        "outputId": "2d26b907-0de5-483f-8e9d-cb6f0b94c83b"
      },
      "execution_count": 19,
      "outputs": [
        {
          "output_type": "execute_result",
          "data": {
            "text/plain": [
              "'/content/B/z_to_b.txt'"
            ],
            "application/vnd.google.colaboratory.intrinsic+json": {
              "type": "string"
            }
          },
          "metadata": {},
          "execution_count": 19
        }
      ]
    },
    {
      "cell_type": "code",
      "source": [
        "#Copying the entire folder and every folder and file contained in it.\n"
      ],
      "metadata": {
        "id": "D7yRADatt7pv"
      },
      "execution_count": 20,
      "outputs": []
    },
    {
      "cell_type": "code",
      "source": [
        "print(os.getcwd())"
      ],
      "metadata": {
        "colab": {
          "base_uri": "https://localhost:8080/"
        },
        "id": "Po2VZDKu4R8H",
        "outputId": "126dc401-adf5-4aed-8e6f-7f30e72b4d9f"
      },
      "execution_count": 30,
      "outputs": [
        {
          "output_type": "stream",
          "name": "stdout",
          "text": [
            "/content/A\n"
          ]
        }
      ]
    },
    {
      "cell_type": "code",
      "source": [
        "os.chdir(\"/content/\")"
      ],
      "metadata": {
        "id": "duHmQy7M4wnS"
      },
      "execution_count": 31,
      "outputs": []
    },
    {
      "cell_type": "code",
      "source": [
        "print(os.getcwd())"
      ],
      "metadata": {
        "colab": {
          "base_uri": "https://localhost:8080/"
        },
        "id": "x-UPR8Xm4WOb",
        "outputId": "b6719cd5-4439-4af0-9fba-f11ad35c03a9"
      },
      "execution_count": 32,
      "outputs": [
        {
          "output_type": "stream",
          "name": "stdout",
          "text": [
            "/content\n"
          ]
        }
      ]
    },
    {
      "cell_type": "code",
      "source": [
        "shutil.copytree('/content/A/','/content/F/')"
      ],
      "metadata": {
        "colab": {
          "base_uri": "https://localhost:8080/",
          "height": 35
        },
        "id": "gLOtrRxXy_QI",
        "outputId": "37c03d27-8341-4a6b-c0f1-b14b0e3b34ee"
      },
      "execution_count": 34,
      "outputs": [
        {
          "output_type": "execute_result",
          "data": {
            "text/plain": [
              "'/content/F/'"
            ],
            "application/vnd.google.colaboratory.intrinsic+json": {
              "type": "string"
            }
          },
          "metadata": {},
          "execution_count": 34
        }
      ]
    },
    {
      "cell_type": "markdown",
      "source": [
        "#Moving and Renaming files"
      ],
      "metadata": {
        "id": "LvWJo8Bqz5Zi"
      }
    },
    {
      "cell_type": "code",
      "source": [
        "#Move z_to_b.txt from B to D\n",
        "shutil.move(\"/content/B/z_to_b.txt\",\"/content/D/\")"
      ],
      "metadata": {
        "colab": {
          "base_uri": "https://localhost:8080/",
          "height": 35
        },
        "id": "E1XNaD0fzbKc",
        "outputId": "8e05cdb7-4770-4a9a-a44e-bec650d7f94e"
      },
      "execution_count": 35,
      "outputs": [
        {
          "output_type": "execute_result",
          "data": {
            "text/plain": [
              "'/content/D/z_to_b.txt'"
            ],
            "application/vnd.google.colaboratory.intrinsic+json": {
              "type": "string"
            }
          },
          "metadata": {},
          "execution_count": 35
        }
      ]
    },
    {
      "cell_type": "code",
      "source": [
        "#Moving and renaming \n",
        "#move z_to_b.txt back to B from D and renaming\n",
        "shutil.move(\"/content/D/z_to_b.txt\",\"/content/B/b_is_home.txt\")"
      ],
      "metadata": {
        "colab": {
          "base_uri": "https://localhost:8080/",
          "height": 35
        },
        "id": "9GTTTiDx5X4p",
        "outputId": "820830cf-6edc-43f6-9692-ca50f7f561c1"
      },
      "execution_count": 36,
      "outputs": [
        {
          "output_type": "execute_result",
          "data": {
            "text/plain": [
              "'/content/B/b_is_home.txt'"
            ],
            "application/vnd.google.colaboratory.intrinsic+json": {
              "type": "string"
            }
          },
          "metadata": {},
          "execution_count": 36
        }
      ]
    },
    {
      "cell_type": "markdown",
      "source": [
        "#Permanentaly deleting files and folders"
      ],
      "metadata": {
        "id": "xx1tIAob7Kci"
      }
    },
    {
      "cell_type": "code",
      "source": [
        "print(os.getcwd())"
      ],
      "metadata": {
        "colab": {
          "base_uri": "https://localhost:8080/"
        },
        "id": "27vflQ5i7CFt",
        "outputId": "a80db6d0-3f5c-4ca9-cd54-d07177fb5b7d"
      },
      "execution_count": 37,
      "outputs": [
        {
          "output_type": "stream",
          "name": "stdout",
          "text": [
            "/content\n"
          ]
        }
      ]
    },
    {
      "cell_type": "code",
      "source": [
        "os.rmdir('/content/D/')"
      ],
      "metadata": {
        "id": "Y0m_rMjz7fLd"
      },
      "execution_count": 40,
      "outputs": []
    },
    {
      "cell_type": "code",
      "source": [
        "#Can I remove dir F which has few folders inside it\n",
        "os.rmdir('/content/F/')"
      ],
      "metadata": {
        "colab": {
          "base_uri": "https://localhost:8080/",
          "height": 183
        },
        "id": "f1bixs3i7ma9",
        "outputId": "5e3727c0-5bd4-4127-9bec-5838d91ef9b1"
      },
      "execution_count": 41,
      "outputs": [
        {
          "output_type": "error",
          "ename": "OSError",
          "evalue": "ignored",
          "traceback": [
            "\u001b[0;31m---------------------------------------------------------------------------\u001b[0m",
            "\u001b[0;31mOSError\u001b[0m                                   Traceback (most recent call last)",
            "\u001b[0;32m<ipython-input-41-10484cbc7177>\u001b[0m in \u001b[0;36m<module>\u001b[0;34m\u001b[0m\n\u001b[1;32m      1\u001b[0m \u001b[0;31m#Can I remove dir F which has few folders inside it\u001b[0m\u001b[0;34m\u001b[0m\u001b[0;34m\u001b[0m\u001b[0;34m\u001b[0m\u001b[0m\n\u001b[0;32m----> 2\u001b[0;31m \u001b[0mos\u001b[0m\u001b[0;34m.\u001b[0m\u001b[0mrmdir\u001b[0m\u001b[0;34m(\u001b[0m\u001b[0;34m'/content/F/'\u001b[0m\u001b[0;34m)\u001b[0m\u001b[0;34m\u001b[0m\u001b[0;34m\u001b[0m\u001b[0m\n\u001b[0m",
            "\u001b[0;31mOSError\u001b[0m: [Errno 39] Directory not empty: '/content/F/'"
          ]
        }
      ]
    },
    {
      "cell_type": "code",
      "source": [
        "#rmtree() : Delete a directory and the files contained in it.\n",
        "shutil.rmtree('/content/F/')"
      ],
      "metadata": {
        "id": "P5W6j0zg8AB4"
      },
      "execution_count": 43,
      "outputs": []
    },
    {
      "cell_type": "markdown",
      "source": [
        "#Walking a Directory Tree"
      ],
      "metadata": {
        "id": "di5GayKF9_jF"
      }
    },
    {
      "cell_type": "code",
      "source": [
        "os.walk('/content/')"
      ],
      "metadata": {
        "colab": {
          "base_uri": "https://localhost:8080/"
        },
        "id": "SIE9tkpZA5q7",
        "outputId": "3cda707b-1b1a-4e80-9090-08d06129a028"
      },
      "execution_count": 46,
      "outputs": [
        {
          "output_type": "execute_result",
          "data": {
            "text/plain": [
              "<generator object walk at 0x7fd7f07a3b30>"
            ]
          },
          "metadata": {},
          "execution_count": 46
        }
      ]
    },
    {
      "cell_type": "code",
      "source": [
        "for folderName, subfolders, filenames in os.walk('/content/'):\n",
        "  print(\"The current folder is \"+folderName)\n",
        "\n",
        "  for subfolder in subfolders:\n",
        "    print('SUBFOLDER of '+folderName + \": \"+subfolder)\n",
        "\n",
        "  for filename in filenames:\n",
        "    print(\"FILE INSIDE \"+folderName+\": \"+filename)\n",
        "\n",
        "  print(\" \")\n"
      ],
      "metadata": {
        "id": "5ovw5po_9Lmu"
      },
      "execution_count": null,
      "outputs": []
    },
    {
      "cell_type": "markdown",
      "source": [
        "#Running terminal commands"
      ],
      "metadata": {
        "id": "c9CBEOnpBrBB"
      }
    },
    {
      "cell_type": "code",
      "source": [
        "os.system('mkdir terminal_dir')"
      ],
      "metadata": {
        "colab": {
          "base_uri": "https://localhost:8080/"
        },
        "id": "FuOY2qFQAtqa",
        "outputId": "535a923a-bacd-47d4-bc19-b90a07d8cc0b"
      },
      "execution_count": 50,
      "outputs": [
        {
          "output_type": "execute_result",
          "data": {
            "text/plain": [
              "0"
            ]
          },
          "metadata": {},
          "execution_count": 50
        }
      ]
    },
    {
      "cell_type": "code",
      "source": [
        "os.system(\"touch tree\")"
      ],
      "metadata": {
        "colab": {
          "base_uri": "https://localhost:8080/"
        },
        "id": "Zg-5UR_jBwgn",
        "outputId": "5fb6f57b-a8ce-4d6b-bf67-f79745ddf48e"
      },
      "execution_count": 51,
      "outputs": [
        {
          "output_type": "execute_result",
          "data": {
            "text/plain": [
              "0"
            ]
          },
          "metadata": {},
          "execution_count": 51
        }
      ]
    },
    {
      "cell_type": "code",
      "source": [
        "os.chdir(\"/content/terminal_dir/\")"
      ],
      "metadata": {
        "id": "UAZKcEvXCGZ1"
      },
      "execution_count": 54,
      "outputs": []
    },
    {
      "cell_type": "code",
      "source": [
        "os.getcwd()"
      ],
      "metadata": {
        "colab": {
          "base_uri": "https://localhost:8080/",
          "height": 35
        },
        "id": "AfepNEq_B1MI",
        "outputId": "da3a4cb3-feaa-43ec-a74f-c5ac4868a00f"
      },
      "execution_count": 55,
      "outputs": [
        {
          "output_type": "execute_result",
          "data": {
            "text/plain": [
              "'/content/terminal_dir'"
            ],
            "application/vnd.google.colaboratory.intrinsic+json": {
              "type": "string"
            }
          },
          "metadata": {},
          "execution_count": 55
        }
      ]
    },
    {
      "cell_type": "code",
      "source": [
        "os.system(\"touch terminal.txt\")"
      ],
      "metadata": {
        "colab": {
          "base_uri": "https://localhost:8080/"
        },
        "id": "BkEOvUegB3vl",
        "outputId": "e09e0417-e533-41be-9ad7-1869b847efa7"
      },
      "execution_count": 56,
      "outputs": [
        {
          "output_type": "execute_result",
          "data": {
            "text/plain": [
              "0"
            ]
          },
          "metadata": {},
          "execution_count": 56
        }
      ]
    },
    {
      "cell_type": "code",
      "source": [
        "os.system(\"ls > ls.txt\")"
      ],
      "metadata": {
        "colab": {
          "base_uri": "https://localhost:8080/"
        },
        "id": "Ubu_iNFtCOoW",
        "outputId": "229ed406-3766-43a4-a657-11ec3ed97025"
      },
      "execution_count": 58,
      "outputs": [
        {
          "output_type": "execute_result",
          "data": {
            "text/plain": [
              "0"
            ]
          },
          "metadata": {},
          "execution_count": 58
        }
      ]
    },
    {
      "cell_type": "code",
      "source": [
        "os.system(\"ls --version > ls_ver.txt\")"
      ],
      "metadata": {
        "colab": {
          "base_uri": "https://localhost:8080/"
        },
        "id": "0Pqn5EWnFAJl",
        "outputId": "9687bf98-fc86-409b-b051-840bf144611b"
      },
      "execution_count": 64,
      "outputs": [
        {
          "output_type": "execute_result",
          "data": {
            "text/plain": [
              "0"
            ]
          },
          "metadata": {},
          "execution_count": 64
        }
      ]
    },
    {
      "cell_type": "code",
      "source": [
        "os.system(\"date > date.txt\")"
      ],
      "metadata": {
        "colab": {
          "base_uri": "https://localhost:8080/"
        },
        "id": "RHNzIzx0DfY0",
        "outputId": "1acf9c52-fa03-4c4f-a26b-cf533c445706"
      },
      "execution_count": 63,
      "outputs": [
        {
          "output_type": "execute_result",
          "data": {
            "text/plain": [
              "0"
            ]
          },
          "metadata": {},
          "execution_count": 63
        }
      ]
    },
    {
      "cell_type": "code",
      "source": [
        "os.system(\"date > date.txt\")"
      ],
      "metadata": {
        "colab": {
          "base_uri": "https://localhost:8080/"
        },
        "id": "nCHCO1XgELjz",
        "outputId": "b3565390-f10b-455b-99cf-b7a5fb8dd44c"
      },
      "execution_count": 65,
      "outputs": [
        {
          "output_type": "execute_result",
          "data": {
            "text/plain": [
              "0"
            ]
          },
          "metadata": {},
          "execution_count": 65
        }
      ]
    },
    {
      "cell_type": "code",
      "source": [
        "os.system(\"rm ls.txt\")"
      ],
      "metadata": {
        "colab": {
          "base_uri": "https://localhost:8080/"
        },
        "id": "he-klaMcDVDq",
        "outputId": "e0771533-95f9-4bcb-bd06-02fbf565d97b"
      },
      "execution_count": 66,
      "outputs": [
        {
          "output_type": "execute_result",
          "data": {
            "text/plain": [
              "0"
            ]
          },
          "metadata": {},
          "execution_count": 66
        }
      ]
    },
    {
      "cell_type": "code",
      "source": [
        "os.system(\"lscpu > cpu.txt\")"
      ],
      "metadata": {
        "colab": {
          "base_uri": "https://localhost:8080/"
        },
        "id": "5tSqlECLFnlT",
        "outputId": "340bd5c0-2db9-45bd-d83c-f3d4a8f205a8"
      },
      "execution_count": 67,
      "outputs": [
        {
          "output_type": "execute_result",
          "data": {
            "text/plain": [
              "0"
            ]
          },
          "metadata": {},
          "execution_count": 67
        }
      ]
    },
    {
      "cell_type": "code",
      "source": [
        "os.system(\"df > hw.txt\")"
      ],
      "metadata": {
        "colab": {
          "base_uri": "https://localhost:8080/"
        },
        "id": "Q4hjMJkXGCPx",
        "outputId": "fa275c6e-717c-4c4d-fa8f-47cad482f610"
      },
      "execution_count": 72,
      "outputs": [
        {
          "output_type": "execute_result",
          "data": {
            "text/plain": [
              "0"
            ]
          },
          "metadata": {},
          "execution_count": 72
        }
      ]
    },
    {
      "cell_type": "code",
      "source": [
        "os.system(\"free > free.txt\")"
      ],
      "metadata": {
        "colab": {
          "base_uri": "https://localhost:8080/"
        },
        "id": "uep8jW7hGNBn",
        "outputId": "01a7a00b-04cb-43c9-8326-441b77065695"
      },
      "execution_count": 74,
      "outputs": [
        {
          "output_type": "execute_result",
          "data": {
            "text/plain": [
              "0"
            ]
          },
          "metadata": {},
          "execution_count": 74
        }
      ]
    },
    {
      "cell_type": "code",
      "source": [
        "os.system(\"uname > uname.txt\")"
      ],
      "metadata": {
        "colab": {
          "base_uri": "https://localhost:8080/"
        },
        "id": "3zZYXXbbGyU8",
        "outputId": "395b4fa6-432e-4b77-a62b-7c26d19f05aa"
      },
      "execution_count": 75,
      "outputs": [
        {
          "output_type": "execute_result",
          "data": {
            "text/plain": [
              "0"
            ]
          },
          "metadata": {},
          "execution_count": 75
        }
      ]
    },
    {
      "cell_type": "code",
      "source": [
        "os.system(\"uname -a > uname_a.txt\")"
      ],
      "metadata": {
        "colab": {
          "base_uri": "https://localhost:8080/"
        },
        "id": "T7XZhCryHNB5",
        "outputId": "7bb562c3-63a0-4d61-cdb1-e719a8bbe0d1"
      },
      "execution_count": 77,
      "outputs": [
        {
          "output_type": "execute_result",
          "data": {
            "text/plain": [
              "0"
            ]
          },
          "metadata": {},
          "execution_count": 77
        }
      ]
    },
    {
      "cell_type": "code",
      "source": [
        "os.system(\"factor 12 > prime_factor.txt\")"
      ],
      "metadata": {
        "colab": {
          "base_uri": "https://localhost:8080/"
        },
        "id": "hkxwmxYyBbmm",
        "outputId": "14d935e8-1a02-4b84-816a-e729126a12c3"
      },
      "execution_count": 80,
      "outputs": [
        {
          "output_type": "execute_result",
          "data": {
            "text/plain": [
              "0"
            ]
          },
          "metadata": {},
          "execution_count": 80
        }
      ]
    },
    {
      "cell_type": "code",
      "source": [
        "os.system(\"python --version > pi_ver.txt\")"
      ],
      "metadata": {
        "colab": {
          "base_uri": "https://localhost:8080/"
        },
        "id": "eqi4B52OHjPz",
        "outputId": "c97ed569-5984-4a59-a7c8-45e19c999bd3"
      },
      "execution_count": 87,
      "outputs": [
        {
          "output_type": "execute_result",
          "data": {
            "text/plain": [
              "0"
            ]
          },
          "metadata": {},
          "execution_count": 87
        }
      ]
    },
    {
      "cell_type": "markdown",
      "source": [
        "#Compressing Files with the zipfile Module"
      ],
      "metadata": {
        "id": "67q47VlFJbZr"
      }
    },
    {
      "cell_type": "code",
      "source": [
        "os.chdir(\"/content/\")"
      ],
      "metadata": {
        "id": "JZ9JD9vXKlj0"
      },
      "execution_count": 90,
      "outputs": []
    },
    {
      "cell_type": "code",
      "source": [
        "os.getcwd()"
      ],
      "metadata": {
        "colab": {
          "base_uri": "https://localhost:8080/",
          "height": 35
        },
        "id": "GJ9SC0hsKnbT",
        "outputId": "5127ae8d-f575-4f8b-f425-ae5c9f1380c6"
      },
      "execution_count": 91,
      "outputs": [
        {
          "output_type": "execute_result",
          "data": {
            "text/plain": [
              "'/content'"
            ],
            "application/vnd.google.colaboratory.intrinsic+json": {
              "type": "string"
            }
          },
          "metadata": {},
          "execution_count": 91
        }
      ]
    },
    {
      "cell_type": "markdown",
      "source": [
        "##Creating and adding to zip file"
      ],
      "metadata": {
        "id": "CoUDdOuiLLdY"
      }
    },
    {
      "cell_type": "code",
      "source": [
        "import zipfile"
      ],
      "metadata": {
        "id": "wI3XpcC7H6uS"
      },
      "execution_count": 92,
      "outputs": []
    },
    {
      "cell_type": "code",
      "source": [
        "newZip = zipfile.ZipFile('zip_me.zip','w')"
      ],
      "metadata": {
        "id": "T4w4qDulKbLR"
      },
      "execution_count": 93,
      "outputs": []
    },
    {
      "cell_type": "code",
      "source": [
        "!ls"
      ],
      "metadata": {
        "id": "FqoYLNarKxpv"
      },
      "execution_count": null,
      "outputs": []
    },
    {
      "cell_type": "code",
      "source": [
        "newZip.write('/content/Y/',compress_type=zipfile.ZIP_DEFLATED)"
      ],
      "metadata": {
        "id": "I9CgkC8GK3RG"
      },
      "execution_count": 95,
      "outputs": []
    },
    {
      "cell_type": "code",
      "source": [
        "newZip.close()"
      ],
      "metadata": {
        "id": "zXHCrd0uLEbU"
      },
      "execution_count": 96,
      "outputs": []
    },
    {
      "cell_type": "code",
      "source": [
        "Zip_Z = zipfile.ZipFile('zip_Z.zip','w')\n",
        "Zip_Z.write('/content/Z/d.png',compress_type=zipfile.ZIP_DEFLATED)\n",
        "Zip_Z.close()"
      ],
      "metadata": {
        "id": "pMi7LxMs7ut8"
      },
      "execution_count": 102,
      "outputs": []
    },
    {
      "cell_type": "markdown",
      "source": [
        "#Reading Zip Files"
      ],
      "metadata": {
        "id": "yrC-SzjBM2jU"
      }
    },
    {
      "cell_type": "code",
      "source": [
        "read_zip = zipfile.ZipFile('/content/zip_Z.zip')"
      ],
      "metadata": {
        "id": "a0Xch1x3MiSN"
      },
      "execution_count": 108,
      "outputs": []
    },
    {
      "cell_type": "code",
      "source": [
        "read_zip.namelist()"
      ],
      "metadata": {
        "colab": {
          "base_uri": "https://localhost:8080/"
        },
        "id": "sOo0yjS0NGFM",
        "outputId": "5c9f6947-a84c-4e03-d5f3-a58965512fd1"
      },
      "execution_count": 109,
      "outputs": [
        {
          "output_type": "execute_result",
          "data": {
            "text/plain": [
              "['content/Z/d.png']"
            ]
          },
          "metadata": {},
          "execution_count": 109
        }
      ]
    },
    {
      "cell_type": "code",
      "source": [
        "info = read_zip.getinfo('content/Z/d.png')"
      ],
      "metadata": {
        "id": "s_76isLUNJAm"
      },
      "execution_count": 114,
      "outputs": []
    },
    {
      "cell_type": "code",
      "source": [
        "info"
      ],
      "metadata": {
        "colab": {
          "base_uri": "https://localhost:8080/"
        },
        "id": "ID1mdKydWRIb",
        "outputId": "e09d8305-bc50-41a5-9dde-609190ae8c47"
      },
      "execution_count": 117,
      "outputs": [
        {
          "output_type": "execute_result",
          "data": {
            "text/plain": [
              "<ZipInfo filename='content/Z/d.png' compress_type=deflate filemode='-rw-r--r--' file_size=231515 compress_size=231118>"
            ]
          },
          "metadata": {},
          "execution_count": 117
        }
      ]
    },
    {
      "cell_type": "code",
      "source": [
        "type(info)"
      ],
      "metadata": {
        "colab": {
          "base_uri": "https://localhost:8080/"
        },
        "id": "G7OQRSWcWUWp",
        "outputId": "5c7e41ea-4a12-41a7-8760-4178ad043c32"
      },
      "execution_count": 118,
      "outputs": [
        {
          "output_type": "execute_result",
          "data": {
            "text/plain": [
              "zipfile.ZipInfo"
            ]
          },
          "metadata": {},
          "execution_count": 118
        }
      ]
    },
    {
      "cell_type": "code",
      "source": [
        "info.file_size"
      ],
      "metadata": {
        "colab": {
          "base_uri": "https://localhost:8080/"
        },
        "id": "3MugshpDV0VB",
        "outputId": "15bda62b-2332-47ce-c231-9e5ec7c00e0c"
      },
      "execution_count": 119,
      "outputs": [
        {
          "output_type": "execute_result",
          "data": {
            "text/plain": [
              "231515"
            ]
          },
          "metadata": {},
          "execution_count": 119
        }
      ]
    },
    {
      "cell_type": "code",
      "source": [
        "info.compress_size"
      ],
      "metadata": {
        "colab": {
          "base_uri": "https://localhost:8080/"
        },
        "id": "BV7-_VKWWfaJ",
        "outputId": "1b7a241b-4361-4257-f642-1fb31f090396"
      },
      "execution_count": 121,
      "outputs": [
        {
          "output_type": "execute_result",
          "data": {
            "text/plain": [
              "231118"
            ]
          },
          "metadata": {},
          "execution_count": 121
        }
      ]
    },
    {
      "cell_type": "code",
      "source": [
        "info.compress_type"
      ],
      "metadata": {
        "colab": {
          "base_uri": "https://localhost:8080/"
        },
        "id": "WIqwbIhIWPSs",
        "outputId": "cdf98275-0619-4c7e-aabf-70db461a3a07"
      },
      "execution_count": 120,
      "outputs": [
        {
          "output_type": "execute_result",
          "data": {
            "text/plain": [
              "8"
            ]
          },
          "metadata": {},
          "execution_count": 120
        }
      ]
    },
    {
      "cell_type": "markdown",
      "source": [
        "#Extracting from Zip files"
      ],
      "metadata": {
        "id": "dfCa7TmYWpF6"
      }
    },
    {
      "cell_type": "code",
      "source": [
        "extract_zip = zipfile.ZipFile('/content/zip_Z.zip')"
      ],
      "metadata": {
        "id": "HECg6zybWeSA"
      },
      "execution_count": 125,
      "outputs": []
    },
    {
      "cell_type": "code",
      "source": [
        "extract_zip.extractall('/content/extracted_files/')\n",
        "extract_zip.close()"
      ],
      "metadata": {
        "id": "pmZznXalWy5e"
      },
      "execution_count": 126,
      "outputs": []
    },
    {
      "cell_type": "code",
      "source": [],
      "metadata": {
        "id": "IpYMSR4-W5WL"
      },
      "execution_count": null,
      "outputs": []
    },
    {
      "cell_type": "markdown",
      "source": [
        "#archive using shutil"
      ],
      "metadata": {
        "id": "khFmve4FX_ZQ"
      }
    },
    {
      "cell_type": "code",
      "source": [
        "shutil.make_archive(\"/content/zipped_Z\",'zip',\"/content/Z/\")"
      ],
      "metadata": {
        "colab": {
          "base_uri": "https://localhost:8080/",
          "height": 35
        },
        "id": "McNPjlh-WMC_",
        "outputId": "3f7488af-a905-41a8-a4f5-174b8fa5996f"
      },
      "execution_count": 127,
      "outputs": [
        {
          "output_type": "execute_result",
          "data": {
            "text/plain": [
              "'/content/zipped_Z.zip'"
            ],
            "application/vnd.google.colaboratory.intrinsic+json": {
              "type": "string"
            }
          },
          "metadata": {},
          "execution_count": 127
        }
      ]
    },
    {
      "cell_type": "code",
      "source": [
        "#Reading zipped files\n",
        "shutil.unpack_archive(\"/content/zipped_Z.zip\",\"/content/unpack/\")"
      ],
      "metadata": {
        "id": "YgEPAU6IX7-S"
      },
      "execution_count": 128,
      "outputs": []
    },
    {
      "cell_type": "markdown",
      "source": [
        "#Zip with password"
      ],
      "metadata": {
        "id": "fmJvy2bwZATw"
      }
    },
    {
      "cell_type": "code",
      "source": [
        "!pip install pyzipper"
      ],
      "metadata": {
        "id": "0dNpyc1_Zc0a"
      },
      "execution_count": null,
      "outputs": []
    },
    {
      "cell_type": "code",
      "source": [
        "import pyzipper\n",
        "\n",
        "secret_password = b'lost art of keeping a secret'\n",
        "\n",
        "with pyzipper.AESZipFile('new_test.zip',\n",
        "                         'w',\n",
        "                         compression=pyzipper.ZIP_LZMA,\n",
        "                         encryption=pyzipper.WZ_AES) as zf:\n",
        "    zf.setpassword(secret_password)\n",
        "    zf.writestr('test.txt', \"What ever you do, don't tell anyone!\")"
      ],
      "metadata": {
        "id": "iYU5ETDwYhoy"
      },
      "execution_count": 131,
      "outputs": []
    },
    {
      "cell_type": "code",
      "source": [
        "#trying to read it with shutil\n",
        "shutil.unpack_archive(\"/content/new_test.zip\",\"/content/reveal/\")"
      ],
      "metadata": {
        "colab": {
          "base_uri": "https://localhost:8080/",
          "height": 328
        },
        "id": "wRR7MtC6ZZ7x",
        "outputId": "a6618287-2464-4bc9-b06c-3052a398f466"
      },
      "execution_count": 132,
      "outputs": [
        {
          "output_type": "error",
          "ename": "RuntimeError",
          "evalue": "ignored",
          "traceback": [
            "\u001b[0;31m---------------------------------------------------------------------------\u001b[0m",
            "\u001b[0;31mRuntimeError\u001b[0m                              Traceback (most recent call last)",
            "\u001b[0;32m<ipython-input-132-9a74252d3350>\u001b[0m in \u001b[0;36m<module>\u001b[0;34m\u001b[0m\n\u001b[1;32m      1\u001b[0m \u001b[0;31m#trying to read it with shutil\u001b[0m\u001b[0;34m\u001b[0m\u001b[0;34m\u001b[0m\u001b[0;34m\u001b[0m\u001b[0m\n\u001b[0;32m----> 2\u001b[0;31m \u001b[0mshutil\u001b[0m\u001b[0;34m.\u001b[0m\u001b[0munpack_archive\u001b[0m\u001b[0;34m(\u001b[0m\u001b[0;34m\"/content/new_test.zip\"\u001b[0m\u001b[0;34m,\u001b[0m\u001b[0;34m\"/content/reveal/\"\u001b[0m\u001b[0;34m)\u001b[0m\u001b[0;34m\u001b[0m\u001b[0;34m\u001b[0m\u001b[0m\n\u001b[0m",
            "\u001b[0;32m/usr/lib/python3.8/shutil.py\u001b[0m in \u001b[0;36munpack_archive\u001b[0;34m(filename, extract_dir, format)\u001b[0m\n\u001b[1;32m   1239\u001b[0m         \u001b[0mfunc\u001b[0m \u001b[0;34m=\u001b[0m \u001b[0m_UNPACK_FORMATS\u001b[0m\u001b[0;34m[\u001b[0m\u001b[0mformat\u001b[0m\u001b[0;34m]\u001b[0m\u001b[0;34m[\u001b[0m\u001b[0;36m1\u001b[0m\u001b[0;34m]\u001b[0m\u001b[0;34m\u001b[0m\u001b[0;34m\u001b[0m\u001b[0m\n\u001b[1;32m   1240\u001b[0m         \u001b[0mkwargs\u001b[0m \u001b[0;34m=\u001b[0m \u001b[0mdict\u001b[0m\u001b[0;34m(\u001b[0m\u001b[0m_UNPACK_FORMATS\u001b[0m\u001b[0;34m[\u001b[0m\u001b[0mformat\u001b[0m\u001b[0;34m]\u001b[0m\u001b[0;34m[\u001b[0m\u001b[0;36m2\u001b[0m\u001b[0;34m]\u001b[0m\u001b[0;34m)\u001b[0m\u001b[0;34m\u001b[0m\u001b[0;34m\u001b[0m\u001b[0m\n\u001b[0;32m-> 1241\u001b[0;31m         \u001b[0mfunc\u001b[0m\u001b[0;34m(\u001b[0m\u001b[0mfilename\u001b[0m\u001b[0;34m,\u001b[0m \u001b[0mextract_dir\u001b[0m\u001b[0;34m,\u001b[0m \u001b[0;34m**\u001b[0m\u001b[0mkwargs\u001b[0m\u001b[0;34m)\u001b[0m\u001b[0;34m\u001b[0m\u001b[0;34m\u001b[0m\u001b[0m\n\u001b[0m\u001b[1;32m   1242\u001b[0m \u001b[0;34m\u001b[0m\u001b[0m\n\u001b[1;32m   1243\u001b[0m \u001b[0;34m\u001b[0m\u001b[0m\n",
            "\u001b[0;32m/usr/lib/python3.8/shutil.py\u001b[0m in \u001b[0;36m_unpack_zipfile\u001b[0;34m(filename, extract_dir)\u001b[0m\n\u001b[1;32m   1152\u001b[0m             \u001b[0;32mif\u001b[0m \u001b[0;32mnot\u001b[0m \u001b[0mname\u001b[0m\u001b[0;34m.\u001b[0m\u001b[0mendswith\u001b[0m\u001b[0;34m(\u001b[0m\u001b[0;34m'/'\u001b[0m\u001b[0;34m)\u001b[0m\u001b[0;34m:\u001b[0m\u001b[0;34m\u001b[0m\u001b[0;34m\u001b[0m\u001b[0m\n\u001b[1;32m   1153\u001b[0m                 \u001b[0;31m# file\u001b[0m\u001b[0;34m\u001b[0m\u001b[0;34m\u001b[0m\u001b[0;34m\u001b[0m\u001b[0m\n\u001b[0;32m-> 1154\u001b[0;31m                 \u001b[0mdata\u001b[0m \u001b[0;34m=\u001b[0m \u001b[0mzip\u001b[0m\u001b[0;34m.\u001b[0m\u001b[0mread\u001b[0m\u001b[0;34m(\u001b[0m\u001b[0minfo\u001b[0m\u001b[0;34m.\u001b[0m\u001b[0mfilename\u001b[0m\u001b[0;34m)\u001b[0m\u001b[0;34m\u001b[0m\u001b[0;34m\u001b[0m\u001b[0m\n\u001b[0m\u001b[1;32m   1155\u001b[0m                 \u001b[0mf\u001b[0m \u001b[0;34m=\u001b[0m \u001b[0mopen\u001b[0m\u001b[0;34m(\u001b[0m\u001b[0mtarget\u001b[0m\u001b[0;34m,\u001b[0m \u001b[0;34m'wb'\u001b[0m\u001b[0;34m)\u001b[0m\u001b[0;34m\u001b[0m\u001b[0;34m\u001b[0m\u001b[0m\n\u001b[1;32m   1156\u001b[0m                 \u001b[0;32mtry\u001b[0m\u001b[0;34m:\u001b[0m\u001b[0;34m\u001b[0m\u001b[0;34m\u001b[0m\u001b[0m\n",
            "\u001b[0;32m/usr/lib/python3.8/zipfile.py\u001b[0m in \u001b[0;36mread\u001b[0;34m(self, name, pwd)\u001b[0m\n\u001b[1;32m   1473\u001b[0m     \u001b[0;32mdef\u001b[0m \u001b[0mread\u001b[0m\u001b[0;34m(\u001b[0m\u001b[0mself\u001b[0m\u001b[0;34m,\u001b[0m \u001b[0mname\u001b[0m\u001b[0;34m,\u001b[0m \u001b[0mpwd\u001b[0m\u001b[0;34m=\u001b[0m\u001b[0;32mNone\u001b[0m\u001b[0;34m)\u001b[0m\u001b[0;34m:\u001b[0m\u001b[0;34m\u001b[0m\u001b[0;34m\u001b[0m\u001b[0m\n\u001b[1;32m   1474\u001b[0m         \u001b[0;34m\"\"\"Return file bytes for name.\"\"\"\u001b[0m\u001b[0;34m\u001b[0m\u001b[0;34m\u001b[0m\u001b[0m\n\u001b[0;32m-> 1475\u001b[0;31m         \u001b[0;32mwith\u001b[0m \u001b[0mself\u001b[0m\u001b[0;34m.\u001b[0m\u001b[0mopen\u001b[0m\u001b[0;34m(\u001b[0m\u001b[0mname\u001b[0m\u001b[0;34m,\u001b[0m \u001b[0;34m\"r\"\u001b[0m\u001b[0;34m,\u001b[0m \u001b[0mpwd\u001b[0m\u001b[0;34m)\u001b[0m \u001b[0;32mas\u001b[0m \u001b[0mfp\u001b[0m\u001b[0;34m:\u001b[0m\u001b[0;34m\u001b[0m\u001b[0;34m\u001b[0m\u001b[0m\n\u001b[0m\u001b[1;32m   1476\u001b[0m             \u001b[0;32mreturn\u001b[0m \u001b[0mfp\u001b[0m\u001b[0;34m.\u001b[0m\u001b[0mread\u001b[0m\u001b[0;34m(\u001b[0m\u001b[0;34m)\u001b[0m\u001b[0;34m\u001b[0m\u001b[0;34m\u001b[0m\u001b[0m\n\u001b[1;32m   1477\u001b[0m \u001b[0;34m\u001b[0m\u001b[0m\n",
            "\u001b[0;32m/usr/lib/python3.8/zipfile.py\u001b[0m in \u001b[0;36mopen\u001b[0;34m(self, name, mode, pwd, force_zip64)\u001b[0m\n\u001b[1;32m   1564\u001b[0m                     \u001b[0mpwd\u001b[0m \u001b[0;34m=\u001b[0m \u001b[0mself\u001b[0m\u001b[0;34m.\u001b[0m\u001b[0mpwd\u001b[0m\u001b[0;34m\u001b[0m\u001b[0;34m\u001b[0m\u001b[0m\n\u001b[1;32m   1565\u001b[0m                 \u001b[0;32mif\u001b[0m \u001b[0;32mnot\u001b[0m \u001b[0mpwd\u001b[0m\u001b[0;34m:\u001b[0m\u001b[0;34m\u001b[0m\u001b[0;34m\u001b[0m\u001b[0m\n\u001b[0;32m-> 1566\u001b[0;31m                     raise RuntimeError(\"File %r is encrypted, password \"\n\u001b[0m\u001b[1;32m   1567\u001b[0m                                        \"required for extraction\" % name)\n\u001b[1;32m   1568\u001b[0m             \u001b[0;32melse\u001b[0m\u001b[0;34m:\u001b[0m\u001b[0;34m\u001b[0m\u001b[0;34m\u001b[0m\u001b[0m\n",
            "\u001b[0;31mRuntimeError\u001b[0m: File 'test.txt' is encrypted, password required for extraction"
          ]
        }
      ]
    },
    {
      "cell_type": "code",
      "source": [
        "with pyzipper.AESZipFile('new_test.zip') as zf:\n",
        "    zf.setpassword(secret_password)\n",
        "    my_secrets = zf.read('test.txt')"
      ],
      "metadata": {
        "id": "XdahdRuFaIMN"
      },
      "execution_count": 133,
      "outputs": []
    },
    {
      "cell_type": "code",
      "source": [
        "my_secrets"
      ],
      "metadata": {
        "colab": {
          "base_uri": "https://localhost:8080/"
        },
        "id": "526s0cUmaR7s",
        "outputId": "95ceb289-bf98-4f84-f58d-35e8f84539b3"
      },
      "execution_count": 134,
      "outputs": [
        {
          "output_type": "execute_result",
          "data": {
            "text/plain": [
              "b\"What ever you do, don't tell anyone!\""
            ]
          },
          "metadata": {},
          "execution_count": 134
        }
      ]
    }
  ]
}