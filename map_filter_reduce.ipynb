{
  "nbformat": 4,
  "nbformat_minor": 0,
  "metadata": {
    "colab": {
      "provenance": [],
      "authorship_tag": "ABX9TyNTFVRUNKJOSnHgoDS2xsWo",
      "include_colab_link": true
    },
    "kernelspec": {
      "name": "python3",
      "display_name": "Python 3"
    },
    "language_info": {
      "name": "python"
    }
  },
  "cells": [
    {
      "cell_type": "markdown",
      "metadata": {
        "id": "view-in-github",
        "colab_type": "text"
      },
      "source": [
        "<a href=\"https://colab.research.google.com/github/gunjanak/Intermediate_Python/blob/main/map_filter_reduce.ipynb\" target=\"_parent\"><img src=\"https://colab.research.google.com/assets/colab-badge.svg\" alt=\"Open In Colab\"/></a>"
      ]
    },
    {
      "cell_type": "markdown",
      "source": [
        "Map, filter andReduce are paradigms of functional programming.\n",
        "\n",
        "They allow programmer to write simpler, shorter code, without necesssarily needing to bother about intricacies like loops and branching."
      ],
      "metadata": {
        "id": "vb-JEE_UzULC"
      }
    },
    {
      "cell_type": "markdown",
      "source": [
        "map and filter come built-in with Python and require no importing.\n",
        "\n",
        "reduce, however, needs to be imported as it resides in the functools module."
      ],
      "metadata": {
        "id": "Omwky-_IzwsG"
      }
    },
    {
      "cell_type": "markdown",
      "source": [
        "#MAP"
      ],
      "metadata": {
        "id": "M7FuyEpTz__8"
      }
    },
    {
      "cell_type": "code",
      "execution_count": 83,
      "metadata": {
        "id": "eqk46n98zNu9"
      },
      "outputs": [],
      "source": [
        "#The map() function in python has the following syntax\n",
        "\n",
        "#map(func,*iterables)"
      ]
    },
    {
      "cell_type": "code",
      "source": [
        "my_pets = ['alfred','tabitha','william','arla']\n",
        "uppered_pets = []\n",
        "for pet in my_pets:\n",
        "  pet_ = pet.upper()\n",
        "  uppered_pets.append(pet_)\n",
        "\n",
        "print(uppered_pets)"
      ],
      "metadata": {
        "colab": {
          "base_uri": "https://localhost:8080/"
        },
        "id": "zupUtiQn0WS5",
        "outputId": "fabac57d-c71c-42aa-f533-7849d5f10bb0"
      },
      "execution_count": 84,
      "outputs": [
        {
          "output_type": "stream",
          "name": "stdout",
          "text": [
            "['ALFRED', 'TABITHA', 'WILLIAM', 'ARLA']\n"
          ]
        }
      ]
    },
    {
      "cell_type": "code",
      "source": [
        "#using map\n",
        "my_pets = ['alfred','tabitha','william','arla']\n",
        "uppered_pets = list(map(str.upper,my_pets))"
      ],
      "metadata": {
        "id": "SkvLqqBA0qwf"
      },
      "execution_count": 85,
      "outputs": []
    },
    {
      "cell_type": "code",
      "source": [
        "print(uppered_pets)"
      ],
      "metadata": {
        "colab": {
          "base_uri": "https://localhost:8080/"
        },
        "id": "aDkwgHcO02x7",
        "outputId": "1489e5ce-241c-4078-b9d7-45607ab34b4a"
      },
      "execution_count": 87,
      "outputs": [
        {
          "output_type": "stream",
          "name": "stdout",
          "text": [
            "['ALFRED', 'TABITHA', 'WILLIAM', 'ARLA']\n"
          ]
        }
      ]
    },
    {
      "cell_type": "code",
      "source": [
        "list(map(lambda x:x.upper(),my_pets))"
      ],
      "metadata": {
        "colab": {
          "base_uri": "https://localhost:8080/"
        },
        "id": "niUkFOMXPTew",
        "outputId": "a7168b48-286c-4ece-b3bb-9fa7b6d30618"
      },
      "execution_count": 88,
      "outputs": [
        {
          "output_type": "execute_result",
          "data": {
            "text/plain": [
              "['ALFRED', 'TABITHA', 'WILLIAM', 'ARLA']"
            ]
          },
          "metadata": {},
          "execution_count": 88
        }
      ]
    },
    {
      "cell_type": "code",
      "source": [
        "#Say I have a list of circle areas that I calculated somewhere, \n",
        "#all in five decimal places.\n",
        "#And I need to round each element in the list up to its position decimal places,\n",
        "#meaning that I have to round up the first element in the list to one decimal place, \n",
        "#the second element in the list to two decimal places etc.\n",
        "#With map() this is a piece of cake.\n"
      ],
      "metadata": {
        "id": "D7DGkf5X04zS"
      },
      "execution_count": 89,
      "outputs": []
    },
    {
      "cell_type": "code",
      "source": [
        "circle_areas = [3.56773,5.57668,4.00914,56.24241,9.01344,32.0000013]\n",
        "\n",
        "result = list(map(round, circle_areas,range(1,7)))"
      ],
      "metadata": {
        "id": "8P_N3xoa2Fzo"
      },
      "execution_count": 90,
      "outputs": []
    },
    {
      "cell_type": "code",
      "source": [
        "result"
      ],
      "metadata": {
        "colab": {
          "base_uri": "https://localhost:8080/"
        },
        "id": "UA2FJVif2ahI",
        "outputId": "a9e1e2dd-7652-434c-a20c-984f936dca38"
      },
      "execution_count": 91,
      "outputs": [
        {
          "output_type": "execute_result",
          "data": {
            "text/plain": [
              "[3.6, 5.58, 4.009, 56.2424, 9.01344, 32.000001]"
            ]
          },
          "metadata": {},
          "execution_count": 91
        }
      ]
    },
    {
      "cell_type": "code",
      "source": [
        "circle_areas = [3.56773,5.57668,4.00914,56.24241,9.01344,32.0000013]\n",
        "\n",
        "result = list(map(round, circle_areas,range(1,3)))\n",
        "result"
      ],
      "metadata": {
        "colab": {
          "base_uri": "https://localhost:8080/"
        },
        "id": "cXEKp6-l2cck",
        "outputId": "116e74e7-bc63-4dc9-d0c9-6fa87569545a"
      },
      "execution_count": 92,
      "outputs": [
        {
          "output_type": "execute_result",
          "data": {
            "text/plain": [
              "[3.6, 5.58]"
            ]
          },
          "metadata": {},
          "execution_count": 92
        }
      ]
    },
    {
      "cell_type": "code",
      "source": [
        "#Here Python takes thethird element of circle_areas and then tries to take third element of range(1,3)\n",
        "#but since range(1,3) does not have a third element, Python simply stops and returns the result."
      ],
      "metadata": {
        "id": "XJ2LAl-H2oJ5"
      },
      "execution_count": 96,
      "outputs": []
    },
    {
      "cell_type": "code",
      "source": [
        "numbers = [1,2,5,6,9,3,6,2]\n",
        "powers = [1,5,6,3,2,1,8,9]\n",
        "num_pow = list(map(lambda x,y:x**y,numbers,powers))"
      ],
      "metadata": {
        "id": "4dOR35Y5Jevr"
      },
      "execution_count": 95,
      "outputs": []
    },
    {
      "cell_type": "code",
      "source": [
        "num_pow"
      ],
      "metadata": {
        "colab": {
          "base_uri": "https://localhost:8080/"
        },
        "id": "h6_tpjEGJ-CS",
        "outputId": "d967a8ed-704c-48fd-ec74-d2bd1a7bdc11"
      },
      "execution_count": 94,
      "outputs": [
        {
          "output_type": "execute_result",
          "data": {
            "text/plain": [
              "[1, 32, 15625, 216, 81, 3, 1679616, 512]"
            ]
          },
          "metadata": {},
          "execution_count": 94
        }
      ]
    },
    {
      "cell_type": "code",
      "source": [
        "#writing custom zip() function using map()\n",
        "my_strings = ['a','b','c','d','e']\n",
        "my_numbers = [1,2,3,4,5]\n",
        "results = list(map(lambda x,y: (x,y),my_strings,my_numbers))\n",
        "print(results)"
      ],
      "metadata": {
        "colab": {
          "base_uri": "https://localhost:8080/"
        },
        "id": "y4JokqAg3YnT",
        "outputId": "0cc4963b-1da6-4d31-af73-7092534d3bf6"
      },
      "execution_count": 97,
      "outputs": [
        {
          "output_type": "stream",
          "name": "stdout",
          "text": [
            "[('a', 1), ('b', 2), ('c', 3), ('d', 4), ('e', 5)]\n"
          ]
        }
      ]
    },
    {
      "cell_type": "markdown",
      "source": [
        "#Filter"
      ],
      "metadata": {
        "id": "_TZwl8Yl4BC8"
      }
    },
    {
      "cell_type": "code",
      "source": [
        "#While map() passes each element in the iterable through a function and returns the result of all elements having passed through the function \n",
        "#filter(), first of all, requires the function to return boolean values(true or false)\n",
        "#and then passes each element in the iterable through the function,\n",
        "#\"filtering\" away thost that are false\n",
        "\n",
        "#It has following syntax\n",
        "#filter(function,iterable)"
      ],
      "metadata": {
        "id": "0F6Xk8g_35AA"
      },
      "execution_count": 98,
      "outputs": []
    },
    {
      "cell_type": "code",
      "source": [
        "scores = [66,90,68,59,76,60,88,74,84,65]\n",
        "def is_A_student(score):\n",
        "  return score > 75"
      ],
      "metadata": {
        "id": "-ei4IHDv49zp"
      },
      "execution_count": 99,
      "outputs": []
    },
    {
      "cell_type": "code",
      "source": [
        "over_75 = list(filter(is_A_student,scores))\n",
        "print(over_75)"
      ],
      "metadata": {
        "colab": {
          "base_uri": "https://localhost:8080/"
        },
        "id": "eklP2q_u5KLa",
        "outputId": "1d8b6164-e101-4db7-a398-12ad7b3a6dea"
      },
      "execution_count": 100,
      "outputs": [
        {
          "output_type": "stream",
          "name": "stdout",
          "text": [
            "[90, 76, 88, 84]\n"
          ]
        }
      ]
    },
    {
      "cell_type": "code",
      "source": [
        "list(filter(lambda x:x>75,scores))"
      ],
      "metadata": {
        "colab": {
          "base_uri": "https://localhost:8080/"
        },
        "id": "JnjyjBlwPq5t",
        "outputId": "a1dbfb9a-2688-4359-aa9b-0208ae5843af"
      },
      "execution_count": 102,
      "outputs": [
        {
          "output_type": "execute_result",
          "data": {
            "text/plain": [
              "[90, 76, 88, 84]"
            ]
          },
          "metadata": {},
          "execution_count": 102
        }
      ]
    },
    {
      "cell_type": "code",
      "source": [
        "#In next example we have a palindrome detector.\n",
        "#A \"palindrome\" is a word phrase,or seuence that reads thesame backwards as forwards\n",
        "#Let's filter out words that are palindromes from a tuple (iterable) of suspected palindromes"
      ],
      "metadata": {
        "id": "jXefHx7T5R6q"
      },
      "execution_count": 101,
      "outputs": []
    },
    {
      "cell_type": "code",
      "source": [
        "dromes = (\"demigod\",\"rewire\",\"madam\",\"freer\",\"anutforajaroftuna\",\"kiosk\")\n",
        "palindromes = list(filter(lambda word: word==word[::-1],dromes))\n",
        "print(palindromes)"
      ],
      "metadata": {
        "colab": {
          "base_uri": "https://localhost:8080/"
        },
        "id": "1hMnsOFV5zv2",
        "outputId": "28e970f2-9edc-41a4-e9be-c5a1bbd98c2d"
      },
      "execution_count": 103,
      "outputs": [
        {
          "output_type": "stream",
          "name": "stdout",
          "text": [
            "['madam', 'anutforajaroftuna']\n"
          ]
        }
      ]
    },
    {
      "cell_type": "markdown",
      "source": [
        "#Reduce"
      ],
      "metadata": {
        "id": "eZKhHOrB64xE"
      }
    },
    {
      "cell_type": "code",
      "source": [
        "from functools import reduce"
      ],
      "metadata": {
        "id": "bhr_nW7z6WSY"
      },
      "execution_count": 104,
      "outputs": []
    },
    {
      "cell_type": "code",
      "source": [
        "numbers = [1,2,3,4,5]\n",
        "\n",
        "def custom_sum(first,second):\n",
        "  return first+second"
      ],
      "metadata": {
        "id": "_8iEfW377AW-"
      },
      "execution_count": 105,
      "outputs": []
    },
    {
      "cell_type": "code",
      "source": [
        "result = reduce(custom_sum,numbers)"
      ],
      "metadata": {
        "id": "df90Ik_K7MnA"
      },
      "execution_count": 106,
      "outputs": []
    },
    {
      "cell_type": "code",
      "source": [
        "print(result)"
      ],
      "metadata": {
        "colab": {
          "base_uri": "https://localhost:8080/"
        },
        "id": "UqZtzvhv7SP9",
        "outputId": "e19cfcb8-8566-4ed4-8e92-22733e8ca15f"
      },
      "execution_count": 107,
      "outputs": [
        {
          "output_type": "stream",
          "name": "stdout",
          "text": [
            "15\n"
          ]
        }
      ]
    },
    {
      "cell_type": "code",
      "source": [
        "#reduce takes the first and second elements in numbers and passes them to\n",
        "#custom_num respectively.\n",
        "#custom_sum computes their sum  and return it to reduce.\n",
        "#reduce then takes that result and applies it as the first element to custom_sum and takes the next element (third) in numbers as thesecond element to custom_sum\n",
        "#It does this continuously (cumulatively) until numbers is exhausted"
      ],
      "metadata": {
        "id": "nxAShQFJ7TwS"
      },
      "execution_count": 108,
      "outputs": []
    },
    {
      "cell_type": "code",
      "source": [
        "numbers = [1,2,3,4,5]\n",
        "\n",
        "def custom_sum(first,second):\n",
        "  return first+second\n",
        "result = reduce(custom_sum,numbers,10)"
      ],
      "metadata": {
        "id": "ifoMqU-P8NBC"
      },
      "execution_count": 109,
      "outputs": []
    },
    {
      "cell_type": "code",
      "source": [
        "print(result)"
      ],
      "metadata": {
        "colab": {
          "base_uri": "https://localhost:8080/"
        },
        "id": "GYSmOjpI9U6x",
        "outputId": "68a9ed5c-4884-4529-e6a5-d44b4641c66d"
      },
      "execution_count": 110,
      "outputs": [
        {
          "output_type": "stream",
          "name": "stdout",
          "text": [
            "25\n"
          ]
        }
      ]
    },
    {
      "cell_type": "code",
      "source": [
        "#The result is 25, because reduce, initially uses 10 as the first argument to custom_sum"
      ],
      "metadata": {
        "id": "bBkgWycN9WWJ"
      },
      "execution_count": 111,
      "outputs": []
    },
    {
      "cell_type": "code",
      "source": [
        "my_items = [\n",
        "    [1, 3],\n",
        "    [2, 3, 4],\n",
        "    [5, 6]            \n",
        "]\n",
        "\n",
        "result_a = 0\n",
        "for item in my_items:\n",
        "    result_a += item[1]\n",
        "\n",
        "print(\"Result a is\", result_a)\n",
        "\n",
        "\n"
      ],
      "metadata": {
        "colab": {
          "base_uri": "https://localhost:8080/"
        },
        "id": "LeFHlXp2-_up",
        "outputId": "bda8d0d2-28bc-4f07-9284-e4b318381c04"
      },
      "execution_count": 112,
      "outputs": [
        {
          "output_type": "stream",
          "name": "stdout",
          "text": [
            "Result a is 12\n"
          ]
        }
      ]
    },
    {
      "cell_type": "code",
      "source": [
        "result_b = reduce(lambda a, b: (0, a[0] + b[0]), my_items)\n",
        "print(\"Result b is\", result_b)"
      ],
      "metadata": {
        "colab": {
          "base_uri": "https://localhost:8080/"
        },
        "id": "r7OXUqIx_Idf",
        "outputId": "30cc21e6-7739-4cad-81b2-4fda0aeb91a0"
      },
      "execution_count": 113,
      "outputs": [
        {
          "output_type": "stream",
          "name": "stdout",
          "text": [
            "Result b is (0, 5)\n"
          ]
        }
      ]
    },
    {
      "cell_type": "code",
      "source": [
        "result_b = reduce(lambda a, b: (0, a[0] + b[0]), my_items)[1]\n",
        "print(\"Result b is\", result_b)"
      ],
      "metadata": {
        "colab": {
          "base_uri": "https://localhost:8080/"
        },
        "id": "mURCmJC8_gt8",
        "outputId": "8ae4e9aa-f196-48c2-d325-6d9b0574e30e"
      },
      "execution_count": 114,
      "outputs": [
        {
          "output_type": "stream",
          "name": "stdout",
          "text": [
            "Result b is 5\n"
          ]
        }
      ]
    },
    {
      "cell_type": "code",
      "source": [
        "# a 2D list \n",
        "matrix = [[1, 2, 3], [4, 5, 6], [7, 8, 9]] \n",
        "\n",
        "# Use reduce function for flattening a 2D list\n",
        "print(reduce(lambda x, y: x + y, matrix))"
      ],
      "metadata": {
        "colab": {
          "base_uri": "https://localhost:8080/"
        },
        "id": "JGlniXnGMZDO",
        "outputId": "8e6ccac5-dfaa-4adc-d5ac-d5f8e39de159"
      },
      "execution_count": 115,
      "outputs": [
        {
          "output_type": "stream",
          "name": "stdout",
          "text": [
            "[1, 2, 3, 4, 5, 6, 7, 8, 9]\n"
          ]
        }
      ]
    },
    {
      "cell_type": "markdown",
      "source": [
        "#Map and filter on same function"
      ],
      "metadata": {
        "id": "YiUOTKrM8rhZ"
      }
    },
    {
      "cell_type": "code",
      "source": [
        "countries = [\"Afganisthan\",\"China\",\"Austria\",\"Gremany\",\"Somalia\",\"Pakistan\",\"Iran\",\"Iraq\",\"Egypt\",\"Spain\"]"
      ],
      "metadata": {
        "id": "ARGra0O48rBd"
      },
      "execution_count": null,
      "outputs": []
    },
    {
      "cell_type": "code",
      "source": [
        "countries_with_A = list(map(lambda x:x[0] == 'A',countries))"
      ],
      "metadata": {
        "id": "IDhtaE129Bm9"
      },
      "execution_count": null,
      "outputs": []
    },
    {
      "cell_type": "code",
      "source": [
        "countries_with_A"
      ],
      "metadata": {
        "colab": {
          "base_uri": "https://localhost:8080/"
        },
        "id": "fZuhwU2f9ODG",
        "outputId": "86773a6f-6f8b-499c-f66f-36f533f1c334"
      },
      "execution_count": null,
      "outputs": [
        {
          "output_type": "execute_result",
          "data": {
            "text/plain": [
              "[True, False, True, False, False, False, False, False, False, False]"
            ]
          },
          "metadata": {},
          "execution_count": 26
        }
      ]
    },
    {
      "cell_type": "code",
      "source": [
        "countries_with_A = list(filter(lambda x:x[0] == 'A',countries))"
      ],
      "metadata": {
        "id": "IwSCP4O49QA7"
      },
      "execution_count": null,
      "outputs": []
    },
    {
      "cell_type": "code",
      "source": [
        "countries_with_A"
      ],
      "metadata": {
        "colab": {
          "base_uri": "https://localhost:8080/"
        },
        "id": "-sVd4_PO9Uuf",
        "outputId": "1ddbd51b-90d9-4235-a677-c80b001567c2"
      },
      "execution_count": null,
      "outputs": [
        {
          "output_type": "execute_result",
          "data": {
            "text/plain": [
              "['Afganisthan', 'Austria']"
            ]
          },
          "metadata": {},
          "execution_count": 28
        }
      ]
    },
    {
      "cell_type": "code",
      "source": [],
      "metadata": {
        "id": "R17UaslM9W6n"
      },
      "execution_count": null,
      "outputs": []
    }
  ]
}